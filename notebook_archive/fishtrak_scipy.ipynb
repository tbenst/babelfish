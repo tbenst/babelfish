{
 "cells": [
  {
   "cell_type": "code",
   "execution_count": null,
   "metadata": {},
   "outputs": [],
   "source": [
    "%pylab\n",
    "%matplotlib inline\n",
    "import skimage as sk\n",
    "import skimage.io\n",
    "import skvideo\n",
    "import skvideo.io\n",
    "import scipy\n",
    "from sklearn.preprocessing import normalize\n",
    "import torchvision as tv\n",
    "from tqdm import tqdm\n",
    "from skimage.restoration import (denoise_tv_chambolle, denoise_bilateral,\n",
    "                                 denoise_wavelet, estimate_sigma)\n",
    "import skimage.transform\n",
    "from importlib import reload\n",
    "import fish_track as ft\n",
    "\n",
    "from joblib import Parallel, delayed"
   ]
  },
  {
   "cell_type": "code",
   "execution_count": null,
   "metadata": {},
   "outputs": [],
   "source": [
    "reload(ft)"
   ]
  },
  {
   "cell_type": "code",
   "execution_count": null,
   "metadata": {},
   "outputs": [],
   "source": [
    "directory = \"/home/ubuntu/\"\n",
    "# filename = \"20180410_1.mp4\"\n",
    "filename = \"20180109_2.mp4\"\n",
    "vid_file = directory+filename"
   ]
  },
  {
   "cell_type": "code",
   "execution_count": null,
   "metadata": {},
   "outputs": [],
   "source": [
    "firstFrame = ft.get_first_frame(vid_file)"
   ]
  },
  {
   "cell_type": "code",
   "execution_count": null,
   "metadata": {},
   "outputs": [],
   "source": [
    "frames = ft.get_n_frames(vid_file)"
   ]
  },
  {
   "cell_type": "markdown",
   "metadata": {},
   "source": [
    "# ROI selection"
   ]
  },
  {
   "cell_type": "code",
   "execution_count": null,
   "metadata": {},
   "outputs": [],
   "source": [
    "pad = 100\n",
    "maxThreshold = 25\n",
    "minThreshold = 10\n",
    "ds_factor=1\n",
    "downsample = lambda x: skimage.transform.resize(x,np.array(firstFrame.shape[:2])/ds_factor)\n",
    "frame = downsample(firstFrame)\n",
    "frame = np.full([pad*2+frame.shape[0],pad*2+frame.shape[1]], 1)\n",
    "fishroiframe = downsample(firstFrame)\n",
    "frame[pad:-pad,pad:-pad] = downsample(denoise_tv_chambolle(frames[11,:,:,0]).copy()*255)\n",
    "frame[frame>maxThreshold] = maxThreshold\n",
    "frame[frame<minThreshold] = 0\n",
    "# plt.imshow(frame)\n",
    "# plt.colorbar()\n",
    "\n",
    "# fc = np.array(2)\n",
    "fishCenter = (pad+235,pad+190)\n",
    "# fishCenter = (pad+117,pad+95)\n",
    "# fishCenter = (pad+59,pad+47)\n",
    "pad = int(200/ds_factor)\n",
    "\n",
    "fishROI = ft.selectROI(frame,fishCenter, pad)\n",
    "\n",
    "# fishROI = normalize(fishROI, norm='l2')\n",
    "fishROI = fishROI - fishROI.mean()\n",
    "# fishROI = (fishROI - fishROI.mean())/fishROI.std()\n",
    "# fishROI = fishROI - fishROI.sum()/len(fishROI)\n",
    "fishROI = fishROI.astype(float32)\n",
    "\n",
    "fishROI[pad,pad] = np.max(fishROI)*1.1\n",
    "plt.imshow(fishROI)\n",
    "plt.colorbar()\n",
    "imageW, imageH = frame.shape"
   ]
  },
  {
   "cell_type": "code",
   "execution_count": null,
   "metadata": {},
   "outputs": [],
   "source": [
    "def selectROI(img,center,pad):\n",
    "    return img[center[0]-pad:center[0]+pad,center[1]-pad:center[1]+pad]\n",
    "\n",
    "def rotateImage(img, angle, pivot):\n",
    "    padX = [img.shape[1] - pivot[1], pivot[1]]\n",
    "    padY = [img.shape[0] - pivot[0], pivot[0]]\n",
    "    imgP = np.pad(img, [padY, padX], 'constant')\n",
    "    imgR = scipy.ndimage.rotate(imgP, angle, reshape=False)\n",
    "    return imgR[padY[0] : -padY[1], padX[0] : -padX[1]]\n",
    "\n",
    "def ROI_to_filters(img, center, pad, imageW, imageH, nfilters=8, fft=False, dtype=np.float64):\n",
    "    filter_size = 2*pad\n",
    "    # we will use the center of the img plus a pad to create rotationally invariant filters\n",
    "    filters = np.zeros([nfilters,filter_size,filter_size])\n",
    "    norm = (img - img.mean()).astype(dtype) # subtract mean\n",
    "    for i in range(nfilters):\n",
    "        # rotate the image first around the provided pivot\n",
    "        rot = rotateImage(norm, i * 360 / nfilters, center)\n",
    "        # select the ROI for the filter\n",
    "        filters[i] = np.fliplr(rot[center[0]-pad:center[0]+pad,center[1]-pad:center[1]+pad])\n",
    "        \n",
    "    if fft:\n",
    "        pass\n",
    "#         complex_filters = T.cuda.FloatTensor(nfilters,imageW*2, imageH*2, 2).zero_()\n",
    "#         complex_filters[:,0:filter_size,0:filter_size,0] = T.from_numpy(filters)\n",
    "#         return T.fft(complex_filters,2)\n",
    "    else:\n",
    "        return filters.astype(dtype)\n",
    "dtype = np.float32\n",
    "filters = ROI_to_filters(frame, fishCenter, pad, imageW, imageH, 8,dtype=dtype)\n",
    "# filters_fft = ft.ROI_to_filters(frame, fishCenter, pad, imageW, imageH, 32, fft=True)"
   ]
  },
  {
   "cell_type": "code",
   "execution_count": null,
   "metadata": {},
   "outputs": [],
   "source": [
    "nrow = 8\n",
    "ncol = 8\n",
    "plt.subplots(nrow,ncol,figsize=(12,12))\n",
    "for i in range(filters.shape[0]):\n",
    "    plt.subplot(nrow,ncol,1+i)\n",
    "    plt.imshow(filters[i].astype(np.float32))"
   ]
  },
  {
   "cell_type": "code",
   "execution_count": null,
   "metadata": {},
   "outputs": [],
   "source": [
    "f = frames[0]\n",
    "img = downsample(f[:,:,0].astype(np.float64)).astype(dtype)"
   ]
  },
  {
   "cell_type": "code",
   "execution_count": null,
   "metadata": {},
   "outputs": [],
   "source": [
    "def find_position_scipy_parallel(img, w, parallel):\n",
    "    hm = np.array(parallel(\n",
    "        delayed(scipy.signal.convolve)(img,w[i],mode='same')\n",
    "        for i in range(w.shape[0])))\n",
    "    idx = hm.argmax()\n",
    "    y, x = np.unravel_index(idx, hm.shape)[1:]\n",
    "    return y, x\n",
    "\n",
    "def find_position_scipy(img, w, n_jobs=8):\n",
    "    with Parallel(n_jobs=n_jobs) as parallel:\n",
    "        hm = np.array(parallel(\n",
    "            delayed(scipy.signal.convolve)(img,w[i],mode='same')\n",
    "            for i in range(w.shape[0])))\n",
    "    idx = hm.argmax()\n",
    "    y, x = np.unravel_index(idx, hm.shape)[1:]\n",
    "    return y, x\n",
    "\n",
    "def heatmap_scipy(img, w, n_jobs=8):\n",
    "    with Parallel(n_jobs=n_jobs) as parallel:\n",
    "        hm = np.array(parallel(\n",
    "            delayed(scipy.signal.convolve)(img,w[i],mode='same')\n",
    "            for i in range(w.shape[0])))\n",
    "    return hm\n",
    "pos = find_position_scipy(img,filters)\n",
    "plt.figure(figsize=(17,17))\n",
    "plt.imshow(ft.drawROI(downsample(f),*pos,1,45,1))"
   ]
  },
  {
   "cell_type": "code",
   "execution_count": null,
   "metadata": {},
   "outputs": [],
   "source": [
    "def viz_find_position(img, filters, fft=False,dtype=np.float32):\n",
    "    nrow = int(np.ceil(np.sqrt(filters.shape[0])))\n",
    "    ncol = nrow\n",
    "    plt.imshow(img)\n",
    "    hm = heatmap_scipy(img,filters)\n",
    "    print(hm.shape)\n",
    "    print(\"Best: filter={}, x={}, y={}\".format(*np.unravel_index(np.argmax(hm),hm.shape)))\n",
    "    plt.subplots(nrow,ncol,figsize=(15,15))\n",
    "    for i in range(hm.shape[0]):\n",
    "        plt.subplot(nrow,ncol,1+i)\n",
    "        h = hm[i]\n",
    "        m = np.unravel_index(np.argmax(h),h.shape)\n",
    "        image = ft.drawROI(ft.scale_range(h[:,:,None],0,1).repeat(3,2),m[0],m[1],4,30,4,use_float=True)\n",
    "        plt.imshow(image)\n",
    "        plt.title(\"filter {}\".format(i))\n",
    "\n",
    "    plt.subplots(nrow,ncol,figsize=(12,12))\n",
    "    for i in range(hm.shape[0]):\n",
    "        plt.subplot(nrow,ncol,1+i)\n",
    "        f = np.flipud(np.fliplr(filters[i]))\n",
    "        plt.imshow(f)\n",
    "        plt.title(\"filter {}\".format(i))\n",
    "\n",
    "f = frames[0]\n",
    "img = downsample(f[:,:,0].astype(np.float64)).astype(dtype)\n",
    "viz_find_position(img, filters)"
   ]
  },
  {
   "cell_type": "code",
   "execution_count": null,
   "metadata": {},
   "outputs": [],
   "source": [
    "%%timeit -r 1 -n 1\n",
    "with Parallel(n_jobs=8) as parallel:\n",
    "    for i in range(100):\n",
    "        find_position_scipy_parallel(img, filters,parallel)"
   ]
  },
  {
   "cell_type": "markdown",
   "metadata": {},
   "source": [
    "# FFT conv validation (failing)"
   ]
  },
  {
   "cell_type": "code",
   "execution_count": null,
   "metadata": {},
   "outputs": [],
   "source": [
    "def heatmap_fft(img, w):\n",
    "    fimg = T.cuda.FloatTensor(*w.shape[1:]).zero_()\n",
    "    fimg[:,:,0] = T.from_numpy(img).cuda()\n",
    "    conv = T.ifft(T.fft(fimg,2)*w,2)\n",
    "    return conv[:,:,:,0]"
   ]
  },
  {
   "cell_type": "code",
   "execution_count": null,
   "metadata": {},
   "outputs": [],
   "source": [
    "plt.imshow(ft.heatmap(img, filters).cpu().numpy()[0].astype(np.float64))\n",
    "plt.colorbar()"
   ]
  },
  {
   "cell_type": "code",
   "execution_count": null,
   "metadata": {},
   "outputs": [],
   "source": [
    "plt.imshow(heatmap_fft(img, filters_fft)[0])\n",
    "plt.colorbar()"
   ]
  },
  {
   "cell_type": "code",
   "execution_count": null,
   "metadata": {},
   "outputs": [],
   "source": [
    "viz_find_position(frames[0], filters)"
   ]
  },
  {
   "cell_type": "code",
   "execution_count": null,
   "metadata": {},
   "outputs": [],
   "source": [
    "reload(ft)"
   ]
  },
  {
   "cell_type": "code",
   "execution_count": null,
   "metadata": {},
   "outputs": [],
   "source": [
    "viz_find_position(frames[7], filters_fft, fft=True)"
   ]
  },
  {
   "cell_type": "markdown",
   "metadata": {},
   "source": [
    "# Create tracking video"
   ]
  },
  {
   "cell_type": "code",
   "execution_count": null,
   "metadata": {},
   "outputs": [],
   "source": [
    "def drawROI(img, y, x, width=20,dot=1):\n",
    "    colorimg = img.copy()\n",
    "    colorimg[y-dot:y+dot,x-dot:x+dot] = [0,255,0]\n",
    "\n",
    "    ystart = max(0,y-width)\n",
    "    yend = min(img.shape[0]-1,y+width)\n",
    "    xstart = max(0,x-width)\n",
    "    xend = min(img.shape[1]-1,x+width)\n",
    "    colorimg[ystart:yend,xstart] = [255,0,0]\n",
    "    colorimg[ystart:yend,xend] = [255,0,0]\n",
    "    colorimg[ystart,xstart:xend] = [255,0,0]\n",
    "    colorimg[yend,xstart:xend] = [255,0,0]\n",
    "    return colorimg"
   ]
  },
  {
   "cell_type": "code",
   "execution_count": null,
   "metadata": {},
   "outputs": [],
   "source": [
    "# with Parallel(n_jobs=8) as parallel:\n",
    "#     hm = find_position_scipy(img, filters, parallel)\n",
    "\n",
    "def write_video_scipy(filters, input_vid_filename, output_vid_filename,nframes=1e4,\n",
    "                      nskip=1e1, downsample=4,dtype=dtype):\n",
    "    vid_gen = skvideo.io.vreader(input_vid_filename)\n",
    "    writer = skvideo.io.FFmpegWriter(output_vid_filename)\n",
    "    firstFrame = ft.get_first_frame(input_vid_filename)\n",
    "    ds = lambda x: skimage.transform.resize(x,np.array(firstFrame.shape[:2])/downsample)\n",
    "    with Parallel(n_jobs=8) as parallel:\n",
    "        for t, frame in tqdm(enumerate(vid_gen)):\n",
    "            if t % 10 ==0:\n",
    "\n",
    "                img = ds(frame[:,:,0]).astype(np.float32)\n",
    "                y,x = find_position_scipy_parallel(img, filters, parallel)\n",
    "                y = y*4\n",
    "                x = x*4\n",
    "                f = ft.drawROI(frame,y,x,2,90,1)\n",
    "                writer.writeFrame(f)\n",
    "            if t > 1000*10:\n",
    "                break\n",
    "        writer.close()\n",
    "\n",
    "write_video_scipy(filters, vid_file, directory + \"track_close_4xdown_64filt_\" + filename,nframes=1e4,nskip=1e1)"
   ]
  },
  {
   "cell_type": "code",
   "execution_count": null,
   "metadata": {},
   "outputs": [],
   "source": [
    "with Parallel(n_jobs=8) as parallel:\n",
    "    pass"
   ]
  },
  {
   "cell_type": "code",
   "execution_count": null,
   "metadata": {},
   "outputs": [],
   "source": [
    "hm"
   ]
  }
 ],
 "metadata": {
  "kernelspec": {
   "display_name": "Environment (conda_pytorch_p36)",
   "language": "python",
   "name": "conda_pytorch_p36"
  },
  "language_info": {
   "codemirror_mode": {
    "name": "ipython",
    "version": 3
   },
   "file_extension": ".py",
   "mimetype": "text/x-python",
   "name": "python",
   "nbconvert_exporter": "python",
   "pygments_lexer": "ipython3",
   "version": "3.6.5"
  }
 },
 "nbformat": 4,
 "nbformat_minor": 2
}
