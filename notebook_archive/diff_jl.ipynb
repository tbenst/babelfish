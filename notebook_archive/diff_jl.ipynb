{
 "cells": [
  {
   "cell_type": "code",
   "execution_count": null,
   "metadata": {},
   "outputs": [],
   "source": [
    "using DifferentialEquations, Distributions, Plots"
   ]
  },
  {
   "cell_type": "code",
   "execution_count": null,
   "metadata": {},
   "outputs": [],
   "source": [
    "orth(M) = qr(M)[1]"
   ]
  },
  {
   "cell_type": "code",
   "execution_count": null,
   "metadata": {},
   "outputs": [],
   "source": [
    "function makeStableMatrix(n)\n",
    "    eig = diagm(rand(Uniform(-1,0),n))\n",
    "    v = orth(rand(Uniform(-1,0),n,n))\n",
    "    A = v' * eig * v\n",
    "    return A\n",
    "end"
   ]
  },
  {
   "cell_type": "code",
   "execution_count": null,
   "metadata": {},
   "outputs": [],
   "source": [
    "A = makeStableMatrix(5)"
   ]
  },
  {
   "cell_type": "code",
   "execution_count": null,
   "metadata": {},
   "outputs": [],
   "source": [
    "f(u,p,t) = 1.01*u\n",
    "u0=1/2\n",
    "tspan = (0.0,1.0)\n",
    "prob = ODEProblem(f,u0,tspan)"
   ]
  },
  {
   "cell_type": "code",
   "execution_count": null,
   "metadata": {},
   "outputs": [],
   "source": [
    "g(x,p,t) = A*x\n",
    "x0 = rand(5)\n",
    "tspan = (0.0,100.0)\n",
    "prob = ODEProblem(g,x0,tspan)"
   ]
  },
  {
   "cell_type": "code",
   "execution_count": null,
   "metadata": {},
   "outputs": [],
   "source": [
    "sol = solve(prob)\n",
    "plot(sol)"
   ]
  },
  {
   "cell_type": "code",
   "execution_count": null,
   "metadata": {},
   "outputs": [],
   "source": [
    "step(A,B,C,u,p,x) = A*x + x\n",
    "\n",
    "function sim(A::Array{T,2},B::Array{T,2},C::Array{T,2},u::Array{T,1},\n",
    "        p::Array{T,1},x0::Array{T,1},e=0.05) where T<:Real\n",
    "    ntime = size(u,1)\n",
    "    nfeatures = size(x0,1)\n",
    "    time = 1:ntime\n",
    "    x = zeros(ntime, nfeatures)\n",
    "    z = zeros(nfeatures)\n",
    "    x[1,:] = x0\n",
    "    for t in 2:ntime\n",
    "        x[t,:] = step(A,B,C,u[t],p[t],x[t-1,:]) #+ T.normal(z,e).cuda()\n",
    "    end\n",
    "    return x\n",
    "end\n",
    "\n",
    "nfeatures = 5\n",
    "ntime = 100\n",
    "A_true = makeStableMatrix(nfeatures)\n",
    "B_true = rand(nfeatures,nfeatures)\n",
    "C_true = rand(nfeatures,nfeatures)\n",
    "u = rand(ntime)\n",
    "p_true = rand(ntime)\n",
    "\n",
    "x = sim(A_true,B_true,C_true,u,p_true,x0)\n",
    "plot(x)"
   ]
  },
  {
   "cell_type": "code",
   "execution_count": null,
   "metadata": {},
   "outputs": [],
   "source": [
    "x"
   ]
  }
 ],
 "metadata": {
  "kernelspec": {
   "display_name": "Julia 0.6.2",
   "language": "julia",
   "name": "julia-0.6"
  },
  "language_info": {
   "file_extension": ".jl",
   "mimetype": "application/julia",
   "name": "julia",
   "version": "0.6.2"
  }
 },
 "nbformat": 4,
 "nbformat_minor": 2
}
