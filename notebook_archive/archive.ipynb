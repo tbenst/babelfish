{
 "cells": [
  {
   "cell_type": "code",
   "execution_count": null,
   "metadata": {},
   "outputs": [],
   "source": [
    "plt.imshow(model.A[0:100,:100].detach().cpu().numpy())\n",
    "plt.colorbar()\n",
    "plt.show()"
   ]
  },
  {
   "cell_type": "code",
   "execution_count": null,
   "metadata": {},
   "outputs": [],
   "source": [
    "randModel = DynamicsSeq(data.nfeatures,n_future_steps)\n",
    "\n",
    "U,P,X = test_data\n",
    "# U,P,X = train_data\n",
    "X_pred = randModel.predict(U,P,X[0],X)\n",
    "dx_true = X[1:] - X[:-1]\n",
    "dx_pred = X_pred[:-1] - X[:-1]\n",
    "\n",
    "ncol, nrow = (2,4)\n",
    "plt.close('all')\n",
    "fig, ax = plt.subplots(nrow, ncol, figsize=(20,40))\n",
    "\n",
    "# ax.set_ylabel(\"dx/dt\")\n",
    "# ax.set_xlabel(\"Time\")\n",
    "# ax.set_title(\"Training data\")\n",
    "\n",
    "for i in range(nrow):\n",
    "    for j in range(ncol):\n",
    "        n = np.random.randint(0,len(x_fish))\n",
    "        ax[i,j].plot(dx_true[:,n].cpu().numpy(),color=\"gray\", linewidth=4, alpha=0.7,label=\"Truth\")\n",
    "        ax[i,j].plot(dx_pred[:,n].cpu().numpy(),color='red', alpha=1,linewidth=0.8, label=\"Model\")\n",
    "        ax[i,j].set_title(\"Neuron {}\".format(n))\n",
    "fig"
   ]
  },
  {
   "cell_type": "code",
   "execution_count": null,
   "metadata": {},
   "outputs": [],
   "source": [
    "zeroModel = DynamicsSeq(data.nfeatures,n_future_steps)\n",
    "zeroModel.A.data.zero_()\n",
    "zeroModel.B.data.zero_()\n",
    "zeroModel.C.data.zero_()\n",
    "\n",
    "U,P,X = test_data\n",
    "# U,P,X = train_data\n",
    "X_pred = zeroModel.predict(U,P,X[0],X)\n",
    "dx_true = X[1:] - X[:-1]\n",
    "dx_pred = X_pred[:-1] - X[:-1]\n",
    "\n",
    "ncol, nrow = (2,2)\n",
    "plt.close('all')\n",
    "fig, ax = plt.subplots(nrow, ncol, figsize=(5*ncol,5*nrow))\n",
    "\n",
    "# ax.set_ylabel(\"dx/dt\")\n",
    "# ax.set_xlabel(\"Time\")\n",
    "# ax.set_title(\"Training data\")\n",
    "\n",
    "for i in range(nrow):\n",
    "    for j in range(ncol):\n",
    "        n = np.random.randint(0,len(x_fish))\n",
    "        ax[i,j].plot(dx_true[:,n].cpu().numpy(),color=\"gray\", linewidth=4, alpha=0.7,label=\"Truth\")\n",
    "        ax[i,j].plot(dx_pred[:,n].cpu().numpy(),color='red', alpha=1,linewidth=0.8, label=\"Model\")\n",
    "        ax[i,j].set_title(\"Neuron {}\".format(n))\n",
    "fig"
   ]
  }
 ],
 "metadata": {
  "kernelspec": {
   "display_name": "Environment (conda_pytorch_p27)",
   "language": "python",
   "name": "conda_pytorch_p27"
  },
  "language_info": {
   "codemirror_mode": {
    "name": "ipython",
    "version": 2
   },
   "file_extension": ".py",
   "mimetype": "text/x-python",
   "name": "python",
   "nbconvert_exporter": "python",
   "pygments_lexer": "ipython2",
   "version": "2.7.14"
  }
 },
 "nbformat": 4,
 "nbformat_minor": 2
}
