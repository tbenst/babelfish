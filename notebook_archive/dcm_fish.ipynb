{
 "cells": [
  {
   "cell_type": "code",
   "execution_count": 6,
   "metadata": {},
   "outputs": [
    {
     "name": "stdout",
     "output_type": "stream",
     "text": [
      "Using matplotlib backend: agg\n",
      "Populating the interactive namespace from numpy and matplotlib\n"
     ]
    },
    {
     "name": "stderr",
     "output_type": "stream",
     "text": [
      "/home/ubuntu/anaconda3/envs/pytorch_p27/lib/python2.7/site-packages/IPython/core/magics/pylab.py:161: UserWarning: pylab import has clobbered these variables: ['step']\n",
      "`%matplotlib` prevents importing * from pylab and numpy\n",
      "  \"\\n`%matplotlib` prevents importing * from pylab and numpy\"\n"
     ]
    }
   ],
   "source": [
    "import torch as T\n",
    "import torch\n",
    "import torch.nn.functional as F\n",
    "import torch.nn as nn\n",
    "from torch.utils.data import DataLoader, Dataset\n",
    "import scipy.linalg\n",
    "from functools import partial\n",
    "%pylab\n",
    "%matplotlib inline\n",
    "import matplotlib as mpl\n",
    "plt.ioff()\n",
    "import matplotlib.gridspec as gridspec\n",
    "import scipy.sparse as sparse\n",
    "from scipy import stats\n",
    "from __future__ import print_function\n",
    "import gc\n",
    "from tqdm import tqdm\n",
    "from __future__ import division"
   ]
  },
  {
   "cell_type": "markdown",
   "metadata": {},
   "source": [
    "$x_{t+1} = (A + pB)x_t + Cu_{t+1}$"
   ]
  },
  {
   "cell_type": "code",
   "execution_count": 7,
   "metadata": {},
   "outputs": [],
   "source": [
    "def passivity(t,k=0.05,t0=400):\n",
    "    return 1/(1+np.exp(-k*(t-t0)))\n",
    "\n",
    "def diag_idx(n):\n",
    "    return [i for i in range(n)],[i for i in range(n)]\n",
    "\n",
    "def makeStableMatrix(n, density=0.1):\n",
    "    # TODO: implement on GPU?\n",
    "    eig = np.diag(np.random.uniform(-1,0,n))\n",
    "    v = scipy.linalg.orth(np.random.uniform(-1,1,(n,n)))\n",
    "    A = np.matmul(np.matmul(v.T, eig), v)\n",
    "    # need to make A sparse\n",
    "    indices = np.reshape(np.indices((n,n)),[2,-1])\n",
    "    mask = np.eye(n)\n",
    "    # may create density slightly less than desired if choice is on diagonal\n",
    "    idx = indices[:,np.random.choice(np.arange(indices.shape[1]),int(np.ceil(density*n**2-n)),replace=False)]\n",
    "    mask[idx[0], idx[1]] = 1\n",
    "    A[np.logical_not(mask)] = 0\n",
    "    return A\n",
    "\n",
    "def step(A,B,C,u,p,x,dt=1):\n",
    "    dxdt = T.matmul((A + p*B), x) + C * u\n",
    "    return dxdt + x\n",
    "\n",
    "def step_batch(A,B,C,u,p,x,dt=1):\n",
    "    dxdt = (T.matmul((A + p[:,None,None]*B), x[:,:,None])).squeeze() + u[:,None]*C\n",
    "    return dxdt + x\n",
    "\n",
    "def sim(A,B,C,u,p,x0,e=0.05):\n",
    "    ntime = u.shape[0]\n",
    "    nfeatures = x0.shape[0]\n",
    "    time = T.arange(ntime,dtype=T.int32)\n",
    "    x = T.zeros(ntime, x0.shape[0]).cuda()\n",
    "    z = T.zeros(nfeatures).cuda()\n",
    "    x[0] = x0\n",
    "    for t in range(1,ntime):\n",
    "        if e==0:\n",
    "            x[t] = step(A,B,C,u[t],p[t],x[t-1])\n",
    "        else:\n",
    "            x[t] = step(A,B,C,u[t],p[t],x[t-1]) + T.normal(z,e).cuda()\n",
    "    return x\n",
    "\n",
    "def generate_data(sim_time, nstim,nfeatures, burn_in=400, test_time=200, e=0.01, k=0.05, t0=400, density=0.2):\n",
    "    ntime = sim_time+burn_in+test_time\n",
    "    time = T.from_numpy(np.arange(ntime)).cuda()\n",
    "    A_true = T.from_numpy(makeStableMatrix(nfeatures,density).astype(np.float32)).cuda()\n",
    "    B_true = T.from_numpy(makeStableMatrix(nfeatures,density).astype(np.float32)).cuda()\n",
    "    C_true = T.from_numpy(np.random.normal(0,0.05,nfeatures).astype(np.float32)).cuda()\n",
    "    # C_true = T.from_numpy(makeStableMatrix(nfeatures).astype(np.float32)).cuda()\n",
    "    x0 = T.from_numpy(np.random.normal(0,0.05,nfeatures).astype(np.float32)).cuda()\n",
    "    u = T.zeros(ntime).cuda()\n",
    "    u[np.arange(4,ntime,ntime/nstim)] = 1\n",
    "\n",
    "    p1 = np.vectorize(partial(passivity,k=k,t0=t0))\n",
    "    time = np.arange(ntime)\n",
    "    p_true = p1(time).astype(np.float32)\n",
    "    p_true = T.from_numpy(p_true).cuda()\n",
    "#     p_true = T.zeros(ntime).cuda() # TODO remove me\n",
    "    x_true = sim(A_true,B_true,C_true,u,p_true,x0,e)\n",
    "    train = (time[burn_in:-test_time], u[burn_in:-test_time],\n",
    "             p_true[burn_in:-test_time], x_true[burn_in:-test_time])\n",
    "    test = (time[-test_time:], u[-test_time:], p_true[-test_time:], x_true[-test_time:])\n",
    "    return A_true, B_true, C_true, train, test"
   ]
  },
  {
   "cell_type": "code",
   "execution_count": 8,
   "metadata": {},
   "outputs": [],
   "source": [
    "class FishSeqData(Dataset):    \n",
    "    def __init__(self, u, p, x,n_future_steps=1):\n",
    "        self.x = nn.Parameter(x,requires_grad=False)\n",
    "        self.p = nn.Parameter(p,requires_grad=False)\n",
    "        self.u = nn.Parameter(u,requires_grad=False)\n",
    "        self.nfeatures = x.shape[1]\n",
    "        self.n_future_steps = n_future_steps\n",
    "        \n",
    "    def __len__(self):\n",
    "        return len(self.x)-self.n_future_steps\n",
    "\n",
    "    def __getitem__(self, idx):\n",
    "        indices = slice(idx,idx+self.n_future_steps)\n",
    "        x_true_indices = slice(idx+1,idx+self.n_future_steps+1)\n",
    "        return (self.u[indices], self.p[indices],\n",
    "                self.x[indices], self.x[x_true_indices])\n",
    "\n",
    "class DynamicsSeq(nn.Module):\n",
    "    def __init__(self, nfeatures, n_future_steps,dtype=T.float32, scale=1,std=0.1):\n",
    "        super(DynamicsSeq, self).__init__()\n",
    "        if dtype==T.float32:\n",
    "            tensor = T.cuda.FloatTensor\n",
    "        elif dtype==T.float16:\n",
    "            tensor = T.cuda.HalfTensor\n",
    "                \n",
    "        self.A = nn.Parameter(tensor(nfeatures,nfeatures).normal_(std),requires_grad=True)\n",
    "        self.B = nn.Parameter(tensor(nfeatures,nfeatures).normal_(std),requires_grad=True)\n",
    "        self.C = nn.Parameter(tensor(nfeatures).normal_(std),requires_grad=True)\n",
    "        self.n_future_steps = n_future_steps\n",
    "        self.tensor = tensor\n",
    "        self.scale = scale\n",
    "        self.dtype = dtype\n",
    "\n",
    "    def forward(self, u, p, x_true, n_future_steps=None):\n",
    "        if n_future_steps==None:\n",
    "            n_future_steps = self.n_future_steps\n",
    "        x = self.tensor(x_true.shape[0], 1+x_true.shape[1], *x_true.shape[2:]).zero_()\n",
    "        x[:,0] = x_true[:,0]\n",
    "        for t in range(n_future_steps):\n",
    "            u[ :,t,None]*self.C\n",
    "            dxdt = (T.matmul((self.A + p[:,t,None,None]*self.B), x_true[:,t,:,None]).squeeze()) + u[ :,t,None]*self.C\n",
    "            x[:,t+1] = dxdt + x[:,t]\n",
    "        return x[:,1:]\n",
    "\n",
    "class Dynamics(nn.Module):\n",
    "    def __init__(self, nfeatures):\n",
    "        super(Dynamics, self).__init__()\n",
    "        self.A = nn.Parameter(T.normal(T.zeros(nfeatures,nfeatures),0.5),requires_grad=True)\n",
    "        self.B = nn.Parameter(T.normal(T.zeros(nfeatures,nfeatures),0.5),requires_grad=True)\n",
    "        self.C = nn.Parameter(T.normal(T.zeros(nfeatures),0.5),requires_grad=True)\n",
    "\n",
    "    def forward(self, u, p, x):\n",
    "        return (x[:,0] + (T.matmul((self.A + p[:,0,None,None]*self.B), x[:,0,:,None]).squeeze()) + u[:,0,None] * self.C)[:,None]\n",
    "\n",
    "\n",
    "def train(model,data,nepochs=10, lambdaA=(1e-8, 1e-6), lambdaB=(1e-6, 1e-6), lr=0.1, verbose=True):\n",
    "    dataloader = DataLoader(data, batch_size=batch_size, shuffle=True)\n",
    "    if verbose:\n",
    "        A_loss = F.mse_loss(model.A.data,A_true)\n",
    "        print(\"A_loss: {}\".format(A_loss))\n",
    "    cum_mse_loss = 0\n",
    "    with T.no_grad():\n",
    "        for batch_data in tqdm(dataloader):\n",
    "            U,P,X, X_true = batch_data\n",
    "            X_pred = model(U,P,X)\n",
    "            cum_mse_loss += F.mse_loss(X_pred.float(),X_true.float())\n",
    "    print(\"mse_loss: {}\".format(cum_mse_loss/len(dataloader)))\n",
    "    optimizer = T.optim.SGD(model.parameters(),lr=lr)\n",
    "#     optimizer = T.optim.Adam(model.parameters(),lr=lr,amsgrad=True)\n",
    "    for e in range(nepochs):\n",
    "        if verbose:\n",
    "            print(\"epoch {}: \".format(e), end=\"\")\n",
    "        cum_loss = 0\n",
    "        cum_mse_loss = 0\n",
    "        for batch_data in tqdm(dataloader):\n",
    "            U,P,X, X_true = batch_data\n",
    "            X_pred = model(U,P,X)\n",
    "            l_A = lambdaA[0] * model.A.norm(1) + lambdaA[1] * model.A.norm(2)\n",
    "            l_B = lambdaB[0] * model.B.norm(1) + lambdaB[1] * model.B.norm(2)\n",
    "            mse_loss = F.mse_loss(X_pred,X_true)\n",
    "            loss = mse_loss + l_A + l_B\n",
    "\n",
    "            optimizer.zero_grad()\n",
    "            loss.backward()\n",
    "            optimizer.step()\n",
    "            cum_loss += float(loss)\n",
    "            cum_mse_loss += float(mse_loss)\n",
    "            del X_pred, U,P,X, X_true, mse_loss, l_A, l_B, loss\n",
    "            gc.collect()\n",
    "            torch.cuda.empty_cache()\n",
    "\n",
    "        if verbose:\n",
    "            A_loss = F.mse_loss(model.A.data,A_true)\n",
    "            B_loss = F.mse_loss(model.B.data,B_true)\n",
    "            C_loss = F.mse_loss(model.C.data,C_true)\n",
    "            print(\"pred_loss: {}, A_loss: {}, B_loss: {}, C_loss: {}\".format(cum_loss,A_loss,B_loss,C_loss))\n",
    "        print(\"cum_loss: {}, mse_loss: {}\".format(cum_loss,cum_mse_loss/len(dataloader)))\n",
    "    \n",
    "    if verbose:\n",
    "        print(\"pred_loss: {}, A_loss: {}, B_loss: {}, C_loss: {}\".format(cum_loss,A_loss,B_loss,C_loss))\n",
    "\n",
    "def set_grad(params, params_with_grad):\n",
    "\n",
    "    for param, param_w_grad in zip(params, params_with_grad):\n",
    "        if param.grad is None:\n",
    "            param.grad = torch.nn.Parameter(param.data.new().resize_(*param.data.size()))\n",
    "        param.grad.data.copy_(param_w_grad.grad.data)\n",
    "    \n",
    "def train_fp16(model,data,nepochs=10, lambdaA=(1e-8, 1e-6), lambdaB=(1e-6, 1e-6), lr=0.1, verbose=True,loss_scale=1):\n",
    "    dataloader = DataLoader(data, batch_size=batch_size, shuffle=True)\n",
    "    param_copy = [param.clone().type(torch.cuda.FloatTensor).detach() for param in model.parameters()]\n",
    "    for batch_data in tqdm(dataloader):\n",
    "            U,P,X, X_true = batch_data\n",
    "            X_pred = model(U,P,X)\n",
    "            mse_loss = F.mse_loss(X_pred.float(),X_true.float())\n",
    "            print(\"pred loss: {}\".format(mse_loss))\n",
    "            break\n",
    "    \n",
    "    if verbose:\n",
    "        A_loss = F.mse_loss(param_copy[0].data/model.scale,A_true)\n",
    "        print(\"A_loss: {}\".format(A_loss))\n",
    "#         optimizer = T.optim.SGD(model.parameters(),lr=lr)\n",
    "    for param in param_copy:\n",
    "        param.requires_grad = True\n",
    "    optimizer = torch.optim.SGD(param_copy, lr)\n",
    "#     optimizer = T.optim.Adam(param_copy,lr=lr)\n",
    "    nfeatures = model.A.shape[0]\n",
    "#     nondiagonal = ~T.eye(nfeatures,dtype=T.uint8)\n",
    "    for e in range(nepochs):\n",
    "        if verbose:\n",
    "            print(\"epoch {}: \".format(e), end=\"\")\n",
    "        cum_loss = 0\n",
    "        for batch_data in tqdm(dataloader):\n",
    "            U,P,X, X_true = batch_data\n",
    "            X_pred = model(U,P,X)\n",
    "            l_A = lambdaA[0] * model.A.float().norm(1) + lambdaA[1] * model.A.float().norm(2)\n",
    "            l_B = lambdaB[0] * model.B.float().norm(1) + lambdaB[1] * model.B.float().norm(2)\n",
    "#             l_A = lambdaA[0] * model.A[nondiagonal].float().norm(1) + lambdaA[1] * model.A[nondiagonal].float().norm(2)\n",
    "#             l_B = lambdaB[0] * model.B.float().norm(1) + lambdaB[1] * model.B.float().norm(2)\n",
    "\n",
    "            mse_loss = F.mse_loss(X_pred,X_true).float()\n",
    "            loss = (mse_loss + l_A + l_B) * loss_scale\n",
    "\n",
    "            model.zero_grad()\n",
    "            loss.backward()\n",
    "            set_grad(param_copy, list(model.parameters()))\n",
    "            if loss_scale != 1:\n",
    "                for param in param_copy:\n",
    "                    param.grad.data = param.grad.data/loss_scale\n",
    "            optimizer.step()\n",
    "            params = list(model.parameters())\n",
    "            for i in range(len(params)):\n",
    "                params[i].data.copy_(param_copy[i].data)\n",
    "\n",
    "            cum_loss += float(loss)/loss_scale\n",
    "    #             del X_pred, U,P,X, X_true, mse_loss, l_A, l_B, loss\n",
    "    #             gc.collect()\n",
    "    #             torch.cuda.empty_cache()\n",
    "\n",
    "        if verbose:\n",
    "            A_loss = F.mse_loss(param_copy[0].data/model.scale,A_true)\n",
    "            B_loss = F.mse_loss(param_copy[1].data/model.scale,B_true)\n",
    "            C_loss = F.mse_loss(param_copy[2].data/model.scale,C_true)\n",
    "            print(\"pred_loss: {}, A_loss: {}, B_loss: {}, C_loss: {}\".format(cum_loss,A_loss,B_loss,C_loss))\n",
    "        print(\"pred_loss: {}\".format(cum_loss))\n",
    "\n",
    "    if verbose:\n",
    "        print(\"pred_loss: {}, A_loss: {}, B_loss: {}, C_loss: {}\".format(cum_loss,A_loss,B_loss,C_loss))\n",
    "\n",
    "\n",
    "def model_v_truth(model,u,p,x_true,A_true, B_true):\n",
    "    if model.dtype==T.float16:\n",
    "        A = model.A.data.float()*model.scale\n",
    "        B = model.B.data.float()*model.scale\n",
    "    else:\n",
    "        A = model.A.data\n",
    "        B = model.B.data\n",
    "    with T.no_grad():\n",
    "        x_pred = T.squeeze(model(u[:-1,None],p[:-1,None],x_true[:-1,None],n_future_steps=1))\n",
    "    fig = plt.figure(figsize=(10,10))\n",
    "    spec = gridspec.GridSpec(ncols=2, nrows=3)\n",
    "    anno_opts = dict(xy=(0.5, 0.5), xycoords='axes fraction',\n",
    "                     va='center', ha='center')\n",
    "\n",
    "    ax1 = fig.add_subplot(spec[0,0:])\n",
    "    ax2 = fig.add_subplot(spec[1, 0])\n",
    "    ax3 = fig.add_subplot(spec[1, 1])\n",
    "    ax4 = fig.add_subplot(spec[2, 0])\n",
    "    ax5 = fig.add_subplot(spec[2, 1])\n",
    "    \n",
    "    dx_pred = x_pred - x_true[:-1]\n",
    "    ax1.plot(dx_pred.mean(1).cpu().numpy(),color='red', label=\"Model\")\n",
    "#     ax1.plot(x_pred[:,2].cpu().numpy(),color='red', label=\"Model\")\n",
    "    ax1.set_ylabel(\"dx/dt\")\n",
    "    ax1.set_xlabel(\"Time\")\n",
    "    ax1.set_title(\"Witheld test data\")\n",
    "    dx_true = x_true[1:] - x_true[:-1]\n",
    "    ax1.plot(dx_true.mean(1).cpu().numpy(),color=\"gray\",linewidth=5, alpha=0.7,label=\"Truth\")\n",
    "    ax1.legend()\n",
    "    \n",
    "    mymax = max(A_true.max(), A.max())\n",
    "    mymin = min(A_true.min(), A.min())\n",
    "    im = ax2.imshow(A_true.cpu(),vmin=mymin,vmax=mymax)\n",
    "    ax2.set_title(\"A true\")\n",
    "    ax3.imshow(A.cpu(),vmin=mymin,vmax=mymax)\n",
    "    ax3.set_title(\"A model\")\n",
    "#     cax,kw = mpl.colorbar.make_axes([ax2, ax3])\n",
    "#     fig.colorbar(im, cax=cax, **kw)\n",
    "    \n",
    "    mymax = max(B_true.max(), B.max())\n",
    "    mymin = min(B_true.min(), B.min())\n",
    "    im2 = ax4.imshow(B_true.cpu(),vmin=mymin,vmax=mymax)\n",
    "    ax4.set_title(\"B true\")\n",
    "    ax5.imshow(B.cpu(),vmin=mymin,vmax=mymax)\n",
    "    ax5.set_title(\"B model\")\n",
    "#     cax,kw = mpl.colorbar.make_axes([ax4, ax5])\n",
    "#     fig.colorbar(im2, cax=cax, **kw)\n",
    "    \n",
    "    fig.tight_layout()\n",
    "    return fig"
   ]
  },
  {
   "cell_type": "markdown",
   "metadata": {},
   "source": [
    "# Fish code"
   ]
  },
  {
   "cell_type": "markdown",
   "metadata": {},
   "source": [
    "### Augment the PythonPath so python can find necessary code."
   ]
  },
  {
   "cell_type": "code",
   "execution_count": 9,
   "metadata": {},
   "outputs": [],
   "source": [
    "import os, sys, datetime\n",
    "LF_CODE_PATH = os.path.expanduser('~/projects/LFAnalyze/code')\n",
    "FT_CODE_PATH = os.path.expanduser('~/projects/fishTrax/code/analysis/')\n",
    "FD_CODE_PATH = os.path.expanduser('~/projects/fish_despair_notebooks/src/')\n",
    "sys.path.insert(0,LF_CODE_PATH)\n",
    "sys.path.insert(0,FT_CODE_PATH)\n",
    "sys.path.insert(0,FD_CODE_PATH)"
   ]
  },
  {
   "cell_type": "markdown",
   "metadata": {},
   "source": [
    "### Import useful python packages"
   ]
  },
  {
   "cell_type": "code",
   "execution_count": 10,
   "metadata": {},
   "outputs": [],
   "source": [
    "%matplotlib inline\n",
    "import matplotlib as mpl\n",
    "import matplotlib.pyplot as plt\n",
    "import pims\n",
    "import numpy as np\n",
    "import pandas as pd\n",
    "import scipy\n",
    "import skimage.io\n",
    "import visualization_utils as vizutil\n",
    "import seaborn as sns\n",
    "from skimage.filters import gaussian_filter\n",
    "import gc"
   ]
  },
  {
   "cell_type": "markdown",
   "metadata": {},
   "source": [
    "### Load the data\n",
    "\n",
    "passivity_2p_imaging_utils provides a list of all the datasets and provides a helper class to make loading the data easy.\n",
    "\n",
    "The data_sets are split into three conditions... (the keynames are wierd for historical reasons)   \n",
    "'enp': control group - no shocks at all.  \n",
    "'c': experimental group - fish experience behavioral challenge (repeated shocks) while being imaged  \n",
    "'e': reexposed group - first fish experience free-swimming behavioral challenge... then are imaged during behavioral challenge\n",
    "  \n",
    "all_data is a dictionary keyed by the condition.  \n",
    "all_data[condition] contains a list of Passivity_2p_Fish objects."
   ]
  },
  {
   "cell_type": "code",
   "execution_count": 11,
   "metadata": {},
   "outputs": [
    {
     "name": "stdout",
     "output_type": "stream",
     "text": [
      "controls, n = 6\n",
      "experimental, n = 8\n",
      "reexposed, n = 12\n"
     ]
    },
    {
     "name": "stderr",
     "output_type": "stream",
     "text": [
      "/home/ubuntu/anaconda3/envs/pytorch_p27/lib/python2.7/site-packages/h5py/__init__.py:36: FutureWarning: Conversion of the second argument of issubdtype from `float` to `np.floating` is deprecated. In future, it will be treated as `np.float64 == np.dtype(float).type`.\n",
      "  from ._conv import register_converters as _register_converters\n"
     ]
    }
   ],
   "source": [
    "import passivity_2p_imaging_utils as p2putils\n",
    "reload(p2putils)\n",
    "tmp_dir = '/tmp/'\n",
    "all_data = p2putils.get_all_datasets(tmp_dir=tmp_dir)\n",
    "\n",
    "print('controls, n =', len(all_data['enp']))\n",
    "print('experimental, n =', len(all_data['c']))\n",
    "print('reexposed, n =', len(all_data['e']))"
   ]
  },
  {
   "cell_type": "markdown",
   "metadata": {},
   "source": [
    "Some ideal example fish for modeling\n",
    "(see 2p_Fish_Figure3_Accumulation.ipynb)"
   ]
  },
  {
   "cell_type": "code",
   "execution_count": 7,
   "metadata": {},
   "outputs": [
    {
     "name": "stdout",
     "output_type": "stream",
     "text": [
      "experimental f01606\n",
      "reexposed f01555\n"
     ]
    }
   ],
   "source": [
    "print('experimental', all_data['c'][6].fishid)\n",
    "print('reexposed', all_data['e'][2].fishid)"
   ]
  },
  {
   "cell_type": "markdown",
   "metadata": {},
   "source": [
    "### Passivity_2p_Fish Class\n",
    "\n",
    "The `Passivity_2p_Fish` class offers various members and methods for loading data associated with each fish.  \n",
    "  \n",
    "Lets demo these methods using an example fish:  "
   ]
  },
  {
   "cell_type": "code",
   "execution_count": 8,
   "metadata": {},
   "outputs": [],
   "source": [
    "fish = all_data['e'][2]"
   ]
  },
  {
   "cell_type": "markdown",
   "metadata": {},
   "source": [
    "The time of all volumes, tail_movements, and shocks are stored in the following variable:"
   ]
  },
  {
   "cell_type": "code",
   "execution_count": 9,
   "metadata": {},
   "outputs": [
    {
     "name": "stdout",
     "output_type": "stream",
     "text": [
      "The first shock started at t= 448.9964299699543 s\n",
      "The first slice of the frame began being imaged at t= 12.446 s\n",
      "The first tail movement started at= 102.5907 s\n",
      "Num z-planes imaged: 11\n",
      "Volume-Rate: 1.0131832172386757\n"
     ]
    }
   ],
   "source": [
    "print('The first shock started at t=', fish.shock_st[0], 's') #shock start times\n",
    "print('The first slice of the frame began being imaged at t=', fish.frame_st[0,0], 's') #time at which each slice was imaged [#samples X #slices]\n",
    "print('The first tail movement started at=', fish.tail_movement_start_times[0], 's') #tail movement times - movements separted into forward swims, turns and escapes.\n",
    "print('Num z-planes imaged:', fish.num_zplanes)\n",
    "print('Volume-Rate:', 1/np.diff(fish.frame_st[:,0]).mean()) #frame_st is #frames x #slices, we examine interval between imaging first slice"
   ]
  },
  {
   "cell_type": "markdown",
   "metadata": {},
   "source": [
    "Demo code for examining movie of tail (slowed by factor of 10)"
   ]
  },
  {
   "cell_type": "code",
   "execution_count": 10,
   "metadata": {},
   "outputs": [
    {
     "name": "stderr",
     "output_type": "stream",
     "text": [
      "100%|██████████| 581/581 [00:00<00:00, 5155.32it/s]\n"
     ]
    },
    {
     "data": {
      "text/html": [
       "<div align=middle><video width='150'src='data:video/mp4;base64,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' controls>Sorry, seems like your browser doesn't support HTML5 audio/video</video></div>"
      ],
      "text/plain": [
       "<moviepy.video.io.html_tools.HTML2 object>"
      ]
     },
     "execution_count": 10,
     "metadata": {},
     "output_type": "execute_result"
    }
   ],
   "source": [
    "movement_ndx = 10\n",
    "clip = fish.get_tail_movie_clip(fish.tail_movement_start_times[movement_ndx]-.1, \n",
    "                             fish.tail_movement_end_times[movement_ndx]+.1, \n",
    "                             playback_speed_factor=.1)\n",
    "clip.ipython_display(width=150)"
   ]
  },
  {
   "cell_type": "markdown",
   "metadata": {},
   "source": [
    "Demo code to plot tail movement rate"
   ]
  },
  {
   "cell_type": "code",
   "execution_count": 11,
   "metadata": {},
   "outputs": [
    {
     "data": {
      "text/plain": [
       "Text(0.5,0,'Time Relative to First Shock (s)')"
      ]
     },
     "execution_count": 11,
     "metadata": {},
     "output_type": "execute_result"
    },
    {
     "data": {
      "image/png": "[encoded data removed]",
      "text/plain": [
       "<Figure size 432x288 with 1 Axes>"
      ]
     },
     "metadata": {},
     "output_type": "display_data"
    }
   ],
   "source": [
    "rate_window_starts = np.arange(-300,31*60,60) + fish.shock_st[0] #1 minutes windows around start of shock\n",
    "rate_window_centers = rate_window_starts + 30\n",
    "rate_windows_adj = rate_window_starts - fish.td_time[0] #corrected for the fact that get_movement_rate wants time relative to start of tail imaging.\n",
    "plt.plot(rate_window_centers - fish.shock_st[0], [fish.get_movement_rate([x,x+60], bExcShockResp=False) for x in rate_windows_adj])\n",
    "plt.axvline(0,c='r')\n",
    "plt.ylabel('Movement Rate (Hz)')\n",
    "plt.xlabel('Time Relative to First Shock (s)')"
   ]
  },
  {
   "cell_type": "markdown",
   "metadata": {},
   "source": [
    "The `get_roi_table` method returns a dataframe of all the rois for teh fish.  Each row of this table represents an ROI and specified the place the ROI is in, the pixels that are included in the ROI, the centroid of the ROI, and which brain regions the ROI is in.  \n",
    "\n",
    "Note, this data is older and was processed by simply segmenting the anatomical images.  Thus the data is does not look as clean as data that is cleaned up and processed using CNMF, for example."
   ]
  },
  {
   "cell_type": "code",
   "execution_count": 12,
   "metadata": {},
   "outputs": [
    {
     "data": {
      "text/html": [
       "<div>\n",
       "<style scoped>\n",
       "    .dataframe tbody tr th:only-of-type {\n",
       "        vertical-align: middle;\n",
       "    }\n",
       "\n",
       "    .dataframe tbody tr th {\n",
       "        vertical-align: top;\n",
       "    }\n",
       "\n",
       "    .dataframe thead th {\n",
       "        text-align: right;\n",
       "    }\n",
       "</style>\n",
       "<table border=\"1\" class=\"dataframe\">\n",
       "  <thead>\n",
       "    <tr style=\"text-align: right;\">\n",
       "      <th></th>\n",
       "      <th>fishid</th>\n",
       "      <th>z</th>\n",
       "      <th>zndx</th>\n",
       "      <th>roi_img_label</th>\n",
       "      <th>coords</th>\n",
       "      <th>centroid_x</th>\n",
       "      <th>centroid_y</th>\n",
       "      <th>area</th>\n",
       "      <th>solidity</th>\n",
       "      <th>eccentricity</th>\n",
       "      <th>...</th>\n",
       "      <th>in_l_tel</th>\n",
       "      <th>in_r_ctel</th>\n",
       "      <th>in_l_LHb</th>\n",
       "      <th>in_l_MHb</th>\n",
       "      <th>in_r_vthal</th>\n",
       "      <th>in_r_MHb</th>\n",
       "      <th>in_l_dthal</th>\n",
       "      <th>region</th>\n",
       "      <th>hemisphere</th>\n",
       "      <th>region_bilat</th>\n",
       "    </tr>\n",
       "  </thead>\n",
       "  <tbody>\n",
       "    <tr>\n",
       "      <th>0</th>\n",
       "      <td>f01555</td>\n",
       "      <td>0</td>\n",
       "      <td>0</td>\n",
       "      <td>1</td>\n",
       "      <td>[[1, 27], [1, 28], [2, 26], [2, 27], [2, 28], ...</td>\n",
       "      <td>2.200000</td>\n",
       "      <td>27.200000</td>\n",
       "      <td>10</td>\n",
       "      <td>0.909091</td>\n",
       "      <td>0.828852</td>\n",
       "      <td>...</td>\n",
       "      <td>False</td>\n",
       "      <td>False</td>\n",
       "      <td>False</td>\n",
       "      <td>False</td>\n",
       "      <td>False</td>\n",
       "      <td>False</td>\n",
       "      <td>False</td>\n",
       "      <td>other</td>\n",
       "      <td>w</td>\n",
       "      <td>other</td>\n",
       "    </tr>\n",
       "    <tr>\n",
       "      <th>1</th>\n",
       "      <td>f01555</td>\n",
       "      <td>0</td>\n",
       "      <td>1</td>\n",
       "      <td>2</td>\n",
       "      <td>[[1, 56], [1, 57], [1, 58], [1, 59], [1, 60], ...</td>\n",
       "      <td>1.923077</td>\n",
       "      <td>57.692308</td>\n",
       "      <td>13</td>\n",
       "      <td>1.000000</td>\n",
       "      <td>0.774346</td>\n",
       "      <td>...</td>\n",
       "      <td>False</td>\n",
       "      <td>False</td>\n",
       "      <td>False</td>\n",
       "      <td>False</td>\n",
       "      <td>False</td>\n",
       "      <td>False</td>\n",
       "      <td>False</td>\n",
       "      <td>other</td>\n",
       "      <td>w</td>\n",
       "      <td>other</td>\n",
       "    </tr>\n",
       "    <tr>\n",
       "      <th>2</th>\n",
       "      <td>f01555</td>\n",
       "      <td>0</td>\n",
       "      <td>2</td>\n",
       "      <td>3</td>\n",
       "      <td>[[1, 61], [1, 62], [1, 64], [1, 65], [2, 62], ...</td>\n",
       "      <td>2.076923</td>\n",
       "      <td>63.461538</td>\n",
       "      <td>13</td>\n",
       "      <td>0.764706</td>\n",
       "      <td>0.872165</td>\n",
       "      <td>...</td>\n",
       "      <td>False</td>\n",
       "      <td>False</td>\n",
       "      <td>False</td>\n",
       "      <td>False</td>\n",
       "      <td>False</td>\n",
       "      <td>False</td>\n",
       "      <td>False</td>\n",
       "      <td>other</td>\n",
       "      <td>w</td>\n",
       "      <td>other</td>\n",
       "    </tr>\n",
       "    <tr>\n",
       "      <th>3</th>\n",
       "      <td>f01555</td>\n",
       "      <td>0</td>\n",
       "      <td>3</td>\n",
       "      <td>4</td>\n",
       "      <td>[[1, 83], [1, 84], [1, 85], [1, 86], [2, 82], ...</td>\n",
       "      <td>2.076923</td>\n",
       "      <td>84.384615</td>\n",
       "      <td>13</td>\n",
       "      <td>0.928571</td>\n",
       "      <td>0.656671</td>\n",
       "      <td>...</td>\n",
       "      <td>False</td>\n",
       "      <td>False</td>\n",
       "      <td>False</td>\n",
       "      <td>False</td>\n",
       "      <td>False</td>\n",
       "      <td>False</td>\n",
       "      <td>False</td>\n",
       "      <td>other</td>\n",
       "      <td>w</td>\n",
       "      <td>other</td>\n",
       "    </tr>\n",
       "    <tr>\n",
       "      <th>4</th>\n",
       "      <td>f01555</td>\n",
       "      <td>0</td>\n",
       "      <td>4</td>\n",
       "      <td>5</td>\n",
       "      <td>[[1, 87], [1, 88], [1, 89], [1, 90], [1, 91], ...</td>\n",
       "      <td>3.517857</td>\n",
       "      <td>90.446429</td>\n",
       "      <td>56</td>\n",
       "      <td>0.767123</td>\n",
       "      <td>0.888139</td>\n",
       "      <td>...</td>\n",
       "      <td>False</td>\n",
       "      <td>False</td>\n",
       "      <td>False</td>\n",
       "      <td>False</td>\n",
       "      <td>False</td>\n",
       "      <td>False</td>\n",
       "      <td>False</td>\n",
       "      <td>l_wholebrain</td>\n",
       "      <td>l</td>\n",
       "      <td>wholebrain</td>\n",
       "    </tr>\n",
       "  </tbody>\n",
       "</table>\n",
       "<p>5 rows × 32 columns</p>\n",
       "</div>"
      ],
      "text/plain": [
       "   fishid  z  zndx  roi_img_label  \\\n",
       "0  f01555  0     0              1   \n",
       "1  f01555  0     1              2   \n",
       "2  f01555  0     2              3   \n",
       "3  f01555  0     3              4   \n",
       "4  f01555  0     4              5   \n",
       "\n",
       "                                              coords  centroid_x  centroid_y  \\\n",
       "0  [[1, 27], [1, 28], [2, 26], [2, 27], [2, 28], ...    2.200000   27.200000   \n",
       "1  [[1, 56], [1, 57], [1, 58], [1, 59], [1, 60], ...    1.923077   57.692308   \n",
       "2  [[1, 61], [1, 62], [1, 64], [1, 65], [2, 62], ...    2.076923   63.461538   \n",
       "3  [[1, 83], [1, 84], [1, 85], [1, 86], [2, 82], ...    2.076923   84.384615   \n",
       "4  [[1, 87], [1, 88], [1, 89], [1, 90], [1, 91], ...    3.517857   90.446429   \n",
       "\n",
       "   area  solidity  eccentricity      ...       in_l_tel  in_r_ctel  in_l_LHb  \\\n",
       "0    10  0.909091      0.828852      ...          False      False     False   \n",
       "1    13  1.000000      0.774346      ...          False      False     False   \n",
       "2    13  0.764706      0.872165      ...          False      False     False   \n",
       "3    13  0.928571      0.656671      ...          False      False     False   \n",
       "4    56  0.767123      0.888139      ...          False      False     False   \n",
       "\n",
       "   in_l_MHb  in_r_vthal  in_r_MHb  in_l_dthal        region  hemisphere  \\\n",
       "0     False       False     False       False         other           w   \n",
       "1     False       False     False       False         other           w   \n",
       "2     False       False     False       False         other           w   \n",
       "3     False       False     False       False         other           w   \n",
       "4     False       False     False       False  l_wholebrain           l   \n",
       "\n",
       "   region_bilat  \n",
       "0         other  \n",
       "1         other  \n",
       "2         other  \n",
       "3         other  \n",
       "4    wholebrain  \n",
       "\n",
       "[5 rows x 32 columns]"
      ]
     },
     "execution_count": 12,
     "metadata": {},
     "output_type": "execute_result"
    }
   ],
   "source": [
    "df = fish.get_roi_table() #this can be slow to run the first time as data is loaded from files\n",
    "df.head()"
   ]
  },
  {
   "cell_type": "markdown",
   "metadata": {},
   "source": [
    "'get_signals_raw' returns a matrix containing the raw fluorescent signal associated with each ROI.  Each row of this matrix is associated with the corresponding row of the ROI table.  \n",
    "\n",
    "Note, I only use the second half of the signal matrix, because the agarose had not fully hardened during the first of imaging which cause the fish to drift in z slightly."
   ]
  },
  {
   "cell_type": "code",
   "execution_count": 13,
   "metadata": {},
   "outputs": [
    {
     "name": "stdout",
     "output_type": "stream",
     "text": [
      "Num ROIs: 15888\n",
      "Shape of signal matrix (15888, 2826)\n"
     ]
    }
   ],
   "source": [
    "M = fish.get_signals_raw(z=None)\n",
    "#M = hbutils.df_over_f(M)\n",
    "print('Num ROIs:', df.shape[0])\n",
    "print('Shape of signal matrix', M.shape)"
   ]
  },
  {
   "cell_type": "markdown",
   "metadata": {},
   "source": [
    "There are also various methods for grabbing the raw imaging data:  \n",
    "get_tif_as_vol  \n",
    "get_tif_rasl\n",
    "\n",
    "We can use this to visualize a few ROIs in particular plane/slice and brain region:\n",
    "\n",
    "(**This won't work on AWS unless you upload tif stacks**)"
   ]
  },
  {
   "cell_type": "markdown",
   "metadata": {},
   "source": [
    "# Real data"
   ]
  },
  {
   "cell_type": "code",
   "execution_count": 14,
   "metadata": {},
   "outputs": [],
   "source": [
    "from pandas import DataFrame"
   ]
  },
  {
   "cell_type": "code",
   "execution_count": 15,
   "metadata": {},
   "outputs": [],
   "source": [
    "def moving_average(a, n=3) :\n",
    "    ret = np.cumsum(a,0)\n",
    "    ret[n:] = ret[n:] - ret[:-n]\n",
    "    rm = ret[n - 1:] / n\n",
    "    pad_start = np.full((n-1,rm.shape[1]), rm[0])\n",
    "    return np.vstack([pad_start, rm])\n",
    "\n",
    "def ewma(data,span):\n",
    "    df = DataFrame(data)\n",
    "    return df.ewm(span).mean().values\n",
    "\n",
    "def df_f(x,ma_window=6,span=6):\n",
    "    u = moving_average(x,ma_window)\n",
    "    return ewma((x - u)/u, span)"
   ]
  },
  {
   "cell_type": "code",
   "execution_count": 16,
   "metadata": {},
   "outputs": [],
   "source": [
    "Mdf = df_f(M.T)"
   ]
  },
  {
   "cell_type": "code",
   "execution_count": 17,
   "metadata": {},
   "outputs": [],
   "source": [
    "dtype = np.float32\n",
    "x_fish = T.from_numpy(Mdf.astype(dtype)).cuda()\n",
    "time_fish = T.from_numpy(fish.frame_st.mean(1).astype(dtype)).cuda()\n",
    "if dtype==np.float16:\n",
    "    u_fish = T.cuda.HalfTensor(time_fish.shape).zero_()\n",
    "    p_fish = T.cuda.HalfTensor(time_fish.shape).zero_()\n",
    "else:\n",
    "    u_fish = T.cuda.FloatTensor(time_fish.shape).zero_()\n",
    "    p_fish = T.cuda.FloatTensor(time_fish.shape).zero_()\n",
    "u_fish[numpy.searchsorted(fish.frame_et[:,-1], fish.shock_st,side=\"left\")] = 1\n"
   ]
  },
  {
   "cell_type": "code",
   "execution_count": null,
   "metadata": {},
   "outputs": [
    {
     "name": "stderr",
     "output_type": "stream",
     "text": [
      "100%|██████████| 2825/2825 [00:22<00:00, 128.31it/s]\n",
      "  0%|          | 0/2825 [00:00<?, ?it/s]"
     ]
    },
    {
     "name": "stdout",
     "output_type": "stream",
     "text": [
      "mse_loss: 73.4449462891\n"
     ]
    },
    {
     "name": "stderr",
     "output_type": "stream",
     "text": [
      "100%|██████████| 2825/2825 [10:18<00:00,  4.57it/s]\n",
      "  0%|          | 0/2825 [00:00<?, ?it/s]"
     ]
    },
    {
     "name": "stdout",
     "output_type": "stream",
     "text": [
      "cum_loss: 13336264654.8, mse_loss: 71.5878215859\n"
     ]
    },
    {
     "name": "stderr",
     "output_type": "stream",
     "text": [
      "100%|██████████| 2825/2825 [10:17<00:00,  4.57it/s]\n",
      "  0%|          | 0/2825 [00:00<?, ?it/s]"
     ]
    },
    {
     "name": "stdout",
     "output_type": "stream",
     "text": [
      "cum_loss: 588284640.562, mse_loss: 68.218532281\n"
     ]
    },
    {
     "name": "stderr",
     "output_type": "stream",
     "text": [
      "100%|██████████| 2825/2825 [10:17<00:00,  4.57it/s]\n",
      "  0%|          | 0/2825 [00:00<?, ?it/s]"
     ]
    },
    {
     "name": "stdout",
     "output_type": "stream",
     "text": [
      "cum_loss: 558675451.75, mse_loss: 64.7992942668\n"
     ]
    },
    {
     "name": "stderr",
     "output_type": "stream",
     "text": [
      "100%|██████████| 2825/2825 [10:10<00:00,  4.63it/s]\n",
      "  0%|          | 0/2825 [00:00<?, ?it/s]"
     ]
    },
    {
     "name": "stdout",
     "output_type": "stream",
     "text": [
      "cum_loss: 539864484.812, mse_loss: 61.5378791709\n"
     ]
    },
    {
     "name": "stderr",
     "output_type": "stream",
     "text": [
      "100%|██████████| 2825/2825 [10:03<00:00,  4.68it/s]\n",
      "  0%|          | 0/2825 [00:00<?, ?it/s]"
     ]
    },
    {
     "name": "stdout",
     "output_type": "stream",
     "text": [
      "cum_loss: 521503757.25, mse_loss: 58.3193199907\n"
     ]
    },
    {
     "name": "stderr",
     "output_type": "stream",
     "text": [
      "100%|██████████| 2825/2825 [10:02<00:00,  4.69it/s]\n",
      "  0%|          | 0/2825 [00:00<?, ?it/s]"
     ]
    },
    {
     "name": "stdout",
     "output_type": "stream",
     "text": [
      "cum_loss: 503592171.609, mse_loss: 55.2467442886\n"
     ]
    },
    {
     "name": "stderr",
     "output_type": "stream",
     "text": [
      "100%|██████████| 2825/2825 [10:02<00:00,  4.69it/s]\n",
      "  0%|          | 0/2825 [00:00<?, ?it/s]"
     ]
    },
    {
     "name": "stdout",
     "output_type": "stream",
     "text": [
      "cum_loss: 486127826.938, mse_loss: 52.4311136582\n"
     ]
    },
    {
     "name": "stderr",
     "output_type": "stream",
     "text": [
      "100%|██████████| 2825/2825 [10:08<00:00,  4.64it/s]\n",
      "  0%|          | 0/2825 [00:00<?, ?it/s]"
     ]
    },
    {
     "name": "stdout",
     "output_type": "stream",
     "text": [
      "cum_loss: 469108509.281, mse_loss: 49.6182296169\n"
     ]
    },
    {
     "name": "stderr",
     "output_type": "stream",
     "text": [
      "100%|██████████| 2825/2825 [10:47<00:00,  4.37it/s]\n",
      "  0%|          | 0/2825 [00:00<?, ?it/s]"
     ]
    },
    {
     "name": "stdout",
     "output_type": "stream",
     "text": [
      "cum_loss: 452531716.641, mse_loss: 46.814604041\n"
     ]
    },
    {
     "name": "stderr",
     "output_type": "stream",
     "text": [
      "100%|██████████| 2825/2825 [10:29<00:00,  4.49it/s]\n",
      "  0%|          | 0/2825 [00:00<?, ?it/s]"
     ]
    },
    {
     "name": "stdout",
     "output_type": "stream",
     "text": [
      "cum_loss: 436394682.234, mse_loss: 44.2507965088\n"
     ]
    },
    {
     "name": "stderr",
     "output_type": "stream",
     "text": [
      "100%|██████████| 2825/2825 [10:33<00:00,  4.46it/s]\n",
      "  0%|          | 0/2825 [00:00<?, ?it/s]"
     ]
    },
    {
     "name": "stdout",
     "output_type": "stream",
     "text": [
      "cum_loss: 420694358.75, mse_loss: 41.7524754362\n"
     ]
    },
    {
     "name": "stderr",
     "output_type": "stream",
     "text": [
      "100%|██████████| 2825/2825 [10:19<00:00,  4.56it/s]\n",
      "  0%|          | 0/2825 [00:00<?, ?it/s]"
     ]
    },
    {
     "name": "stdout",
     "output_type": "stream",
     "text": [
      "cum_loss: 405427402.078, mse_loss: 39.4550936522\n"
     ]
    },
    {
     "name": "stderr",
     "output_type": "stream",
     "text": [
      "100%|██████████| 2825/2825 [10:13<00:00,  4.60it/s]\n",
      "  0%|          | 0/2825 [00:00<?, ?it/s]"
     ]
    },
    {
     "name": "stdout",
     "output_type": "stream",
     "text": [
      "cum_loss: 390589880.344, mse_loss: 37.1856032216\n"
     ]
    },
    {
     "name": "stderr",
     "output_type": "stream",
     "text": [
      "100%|██████████| 2825/2825 [10:06<00:00,  4.66it/s]\n",
      "  0%|          | 0/2825 [00:00<?, ?it/s]"
     ]
    },
    {
     "name": "stdout",
     "output_type": "stream",
     "text": [
      "cum_loss: 376177738.93, mse_loss: 35.0808268918\n"
     ]
    },
    {
     "name": "stderr",
     "output_type": "stream",
     "text": [
      "100%|██████████| 2825/2825 [10:05<00:00,  4.66it/s]\n",
      "  0%|          | 0/2825 [00:00<?, ?it/s]"
     ]
    },
    {
     "name": "stdout",
     "output_type": "stream",
     "text": [
      "cum_loss: 362186675.109, mse_loss: 32.9659454957\n"
     ]
    },
    {
     "name": "stderr",
     "output_type": "stream",
     "text": [
      "100%|██████████| 2825/2825 [10:06<00:00,  4.66it/s]\n",
      "  0%|          | 0/2825 [00:00<?, ?it/s]"
     ]
    },
    {
     "name": "stdout",
     "output_type": "stream",
     "text": [
      "cum_loss: 348612081.039, mse_loss: 31.0570395408\n"
     ]
    },
    {
     "name": "stderr",
     "output_type": "stream",
     "text": [
      "100%|██████████| 2825/2825 [10:06<00:00,  4.66it/s]\n",
      "  0%|          | 0/2825 [00:00<?, ?it/s]"
     ]
    },
    {
     "name": "stdout",
     "output_type": "stream",
     "text": [
      "cum_loss: 335449053.0, mse_loss: 29.1456321985\n"
     ]
    },
    {
     "name": "stderr",
     "output_type": "stream",
     "text": [
      " 81%|████████  | 2276/2825 [08:08<01:57,  4.66it/s]"
     ]
    }
   ],
   "source": [
    "n_future_steps = 1\n",
    "batch_size = 1\n",
    "\n",
    "# data = FishSeqData(u_fish,p_fish,x_fish,n_future_steps)\n",
    "# model = DynamicsSeq(data.nfeatures,n_future_steps,T.float16)\n",
    "# train_fp16(model,data,15,(1e-4,1e-5),(1e-3,1e-4),lr=1e-3,verbose=False, loss_scale=512)\n",
    "\n",
    "data = FishSeqData(u_fish,p_fish,x_fish,n_future_steps)\n",
    "model = DynamicsSeq(data.nfeatures,n_future_steps)\n",
    "train(model,data,20,(1e-3,1e-4),(1e-1,1e-2),lr=1e-2,verbose=False)"
   ]
  },
  {
   "cell_type": "code",
   "execution_count": null,
   "metadata": {},
   "outputs": [],
   "source": [
    "print(\"loss if A=B=C=zeros: {}\".format(T.abs(x_fish[1:])/(x_fish.shape[0]-1)))"
   ]
  },
  {
   "cell_type": "code",
   "execution_count": null,
   "metadata": {},
   "outputs": [],
   "source": [
    "T.save(model.state_dict(),\"fish_dcm_fp32_sgd_epoch=20,lA=(1e-3,1e-4),lB=(1e-1,1e-2),lr=1e-2\")"
   ]
  },
  {
   "cell_type": "code",
   "execution_count": null,
   "metadata": {},
   "outputs": [],
   "source": [
    "plt.imshow(model.A[:100,:100].cpu().detach().numpy())\n",
    "plt.colorbar()\n",
    "plt.show()"
   ]
  },
  {
   "cell_type": "code",
   "execution_count": null,
   "metadata": {},
   "outputs": [],
   "source": [
    "x_fish[0].sum()"
   ]
  },
  {
   "cell_type": "code",
   "execution_count": null,
   "metadata": {},
   "outputs": [],
   "source": [
    "x_fish[0,:20]"
   ]
  },
  {
   "cell_type": "code",
   "execution_count": null,
   "metadata": {},
   "outputs": [],
   "source": [
    "model(u_fish[None,None,0],p_fish[None,None,0],x_fish[None,[0]],1).squeeze()"
   ]
  },
  {
   "cell_type": "code",
   "execution_count": null,
   "metadata": {},
   "outputs": [],
   "source": [
    "x_fish[0]"
   ]
  },
  {
   "cell_type": "code",
   "execution_count": null,
   "metadata": {},
   "outputs": [],
   "source": [
    "plt.imshow(model.B[:100,:100].cpu().detach().numpy())\n",
    "plt.colorbar()\n",
    "plt.show()"
   ]
  },
  {
   "cell_type": "markdown",
   "metadata": {},
   "source": [
    "# Generate Half precision"
   ]
  },
  {
   "cell_type": "code",
   "execution_count": 4,
   "metadata": {},
   "outputs": [],
   "source": [
    "ntime = 2826\n",
    "nstim = 30\n",
    "nfeatures = 15888\n",
    "\n",
    "u_train = T.cuda.HalfTensor(ntime).uniform_()\n",
    "p_train = T.cuda.HalfTensor(ntime).uniform_()\n",
    "time_train = T.arange(ntime).half().cuda()\n",
    "x_train = T.cuda.HalfTensor(ntime,nfeatures).uniform_()"
   ]
  },
  {
   "cell_type": "code",
   "execution_count": 5,
   "metadata": {},
   "outputs": [
    {
     "data": {
      "text/plain": [
       "0.66918084025383"
      ]
     },
     "execution_count": 5,
     "metadata": {},
     "output_type": "execute_result"
    }
   ],
   "source": [
    "(ntime*3+ntime*nfeatures)*16/1024**3"
   ]
  },
  {
   "cell_type": "code",
   "execution_count": 6,
   "metadata": {},
   "outputs": [],
   "source": [
    "n_future_steps = 1\n",
    "batch_size = 1\n",
    "\n",
    "data = FishSeqData(u_train,p_train,x_train,n_future_steps)"
   ]
  },
  {
   "cell_type": "code",
   "execution_count": 7,
   "metadata": {},
   "outputs": [],
   "source": [
    "model = DynamicsSeq(data.nfeatures,n_future_steps,T.float16,1e-4)"
   ]
  },
  {
   "cell_type": "code",
   "execution_count": 8,
   "metadata": {},
   "outputs": [
    {
     "name": "stderr",
     "output_type": "stream",
     "text": [
      "  0%|          | 0/2825 [00:00<?, ?it/s]Exception KeyError: KeyError(<weakref at 0x7f9a6b737368; to 'tqdm' at 0x7f99fe27bc50>,) in <bound method tqdm.__del__ of   0%|          | 0/2825 [00:00<?, ?it/s]> ignored\n",
      "  0%|          | 2/2825 [00:00<03:56, 11.93it/s]"
     ]
    },
    {
     "name": "stdout",
     "output_type": "stream",
     "text": [
      "pred loss: inf\n",
      "\n"
     ]
    },
    {
     "name": "stderr",
     "output_type": "stream",
     "text": [
      "  5%|▌         | 142/2825 [00:11<03:32, 12.65it/s]"
     ]
    },
    {
     "ename": "KeyboardInterrupt",
     "evalue": "",
     "output_type": "error",
     "traceback": [
      "\u001b[0;31m---------------------------------------------------------------------------\u001b[0m",
      "\u001b[0;31mKeyboardInterrupt\u001b[0m                         Traceback (most recent call last)",
      "\u001b[0;32m<ipython-input-8-9cc44e497ab2>\u001b[0m in \u001b[0;36m<module>\u001b[0;34m()\u001b[0m\n\u001b[0;32m----> 1\u001b[0;31m \u001b[0mtrain_fp16\u001b[0m\u001b[0;34m(\u001b[0m\u001b[0mmodel\u001b[0m\u001b[0;34m,\u001b[0m\u001b[0mdata\u001b[0m\u001b[0;34m,\u001b[0m\u001b[0;36m15\u001b[0m\u001b[0;34m,\u001b[0m\u001b[0;34m(\u001b[0m\u001b[0;36m1e-4\u001b[0m\u001b[0;34m,\u001b[0m\u001b[0;36m1e-5\u001b[0m\u001b[0;34m)\u001b[0m\u001b[0;34m,\u001b[0m\u001b[0;34m(\u001b[0m\u001b[0;36m1e-3\u001b[0m\u001b[0;34m,\u001b[0m\u001b[0;36m0\u001b[0m\u001b[0;34m)\u001b[0m\u001b[0;34m,\u001b[0m\u001b[0mlr\u001b[0m\u001b[0;34m=\u001b[0m\u001b[0;36m1e-3\u001b[0m\u001b[0;34m,\u001b[0m\u001b[0mverbose\u001b[0m\u001b[0;34m=\u001b[0m\u001b[0mFalse\u001b[0m\u001b[0;34m,\u001b[0m \u001b[0mloss_scale\u001b[0m\u001b[0;34m=\u001b[0m\u001b[0;36m512\u001b[0m\u001b[0;34m)\u001b[0m\u001b[0;34m\u001b[0m\u001b[0m\n\u001b[0m\u001b[1;32m      2\u001b[0m \u001b[0mtime_test\u001b[0m\u001b[0;34m,\u001b[0m \u001b[0mu_test\u001b[0m\u001b[0;34m,\u001b[0m \u001b[0mp_test\u001b[0m\u001b[0;34m,\u001b[0m \u001b[0mx_test\u001b[0m \u001b[0;34m=\u001b[0m \u001b[0mtest_data\u001b[0m\u001b[0;34m\u001b[0m\u001b[0m\n\u001b[1;32m      3\u001b[0m \u001b[0mmodel_v_truth\u001b[0m\u001b[0;34m(\u001b[0m\u001b[0mmodel\u001b[0m\u001b[0;34m,\u001b[0m \u001b[0mu_test\u001b[0m\u001b[0;34m,\u001b[0m \u001b[0mp_test\u001b[0m\u001b[0;34m,\u001b[0m \u001b[0mx_test\u001b[0m\u001b[0;34m,\u001b[0m \u001b[0mA_true\u001b[0m\u001b[0;34m.\u001b[0m\u001b[0mdata\u001b[0m\u001b[0;34m,\u001b[0m \u001b[0mB_true\u001b[0m\u001b[0;34m.\u001b[0m\u001b[0mdata\u001b[0m\u001b[0;34m)\u001b[0m\u001b[0;34m\u001b[0m\u001b[0m\n",
      "\u001b[0;32m<ipython-input-3-4557dff9c541>\u001b[0m in \u001b[0;36mtrain_fp16\u001b[0;34m(model, data, nepochs, lambdaA, lambdaB, lr, verbose, loss_scale)\u001b[0m\n\u001b[1;32m    145\u001b[0m                 \u001b[0mparams\u001b[0m\u001b[0;34m[\u001b[0m\u001b[0mi\u001b[0m\u001b[0;34m]\u001b[0m\u001b[0;34m.\u001b[0m\u001b[0mdata\u001b[0m\u001b[0;34m.\u001b[0m\u001b[0mcopy_\u001b[0m\u001b[0;34m(\u001b[0m\u001b[0mparam_copy\u001b[0m\u001b[0;34m[\u001b[0m\u001b[0mi\u001b[0m\u001b[0;34m]\u001b[0m\u001b[0;34m.\u001b[0m\u001b[0mdata\u001b[0m\u001b[0;34m)\u001b[0m\u001b[0;34m\u001b[0m\u001b[0m\n\u001b[1;32m    146\u001b[0m \u001b[0;34m\u001b[0m\u001b[0m\n\u001b[0;32m--> 147\u001b[0;31m             \u001b[0mcum_loss\u001b[0m \u001b[0;34m+=\u001b[0m \u001b[0mfloat\u001b[0m\u001b[0;34m(\u001b[0m\u001b[0mloss\u001b[0m\u001b[0;34m)\u001b[0m\u001b[0;34m/\u001b[0m\u001b[0mloss_scale\u001b[0m\u001b[0;34m\u001b[0m\u001b[0m\n\u001b[0m\u001b[1;32m    148\u001b[0m     \u001b[0;31m#             del X_pred, U,P,X, X_true, mse_loss, l_A, l_B, loss\u001b[0m\u001b[0;34m\u001b[0m\u001b[0;34m\u001b[0m\u001b[0m\n\u001b[1;32m    149\u001b[0m     \u001b[0;31m#             gc.collect()\u001b[0m\u001b[0;34m\u001b[0m\u001b[0;34m\u001b[0m\u001b[0m\n",
      "\u001b[0;31mKeyboardInterrupt\u001b[0m: "
     ]
    },
    {
     "name": "stderr",
     "output_type": "stream",
     "text": [
      "  5%|▌         | 142/2825 [00:29<09:26,  4.73it/s]"
     ]
    }
   ],
   "source": [
    "train_fp16(model,data,15,(1e-4,1e-5),(1e-3,0),lr=1e-3,verbose=False, loss_scale=512)\n",
    "time_test, u_test, p_test, x_test = test_data\n",
    "model_v_truth(model, u_test, p_test, x_test, A_true.data, B_true.data)"
   ]
  },
  {
   "cell_type": "markdown",
   "metadata": {},
   "source": [
    "# Generate float"
   ]
  },
  {
   "cell_type": "code",
   "execution_count": 4,
   "metadata": {},
   "outputs": [],
   "source": [
    "ntime = 2826\n",
    "nstim = 30\n",
    "nfeatures = 15888\n",
    "\n",
    "u_train = T.cuda.FloatTensor(ntime).uniform_()\n",
    "p_train = T.cuda.FloatTensor(ntime).uniform_()\n",
    "time_train = T.arange(ntime).cuda()\n",
    "x_train = T.cuda.FloatTensor(ntime,nfeatures).uniform_()"
   ]
  },
  {
   "cell_type": "code",
   "execution_count": 5,
   "metadata": {},
   "outputs": [],
   "source": [
    "n_future_steps = 1\n",
    "batch_size = 1\n",
    "\n",
    "data = FishSeqData(u_train,p_train,x_train,n_future_steps)\n",
    "model = DynamicsSeq(data.nfeatures,n_future_steps)"
   ]
  },
  {
   "cell_type": "code",
   "execution_count": null,
   "metadata": {},
   "outputs": [
    {
     "name": "stderr",
     "output_type": "stream",
     "text": [
      " 30%|███       | 856/2825 [03:26<07:54,  4.15it/s]"
     ]
    }
   ],
   "source": [
    "train(model,data,1,(1e-4,1e-5),(1e-3,1e-4),lr=0.1,verbose=False)\n",
    "# time_test, u_test, p_test, x_test = test_data\n",
    "# model_v_truth(model, u_test, p_test, x_test, A_true.data, B_true.data)"
   ]
  },
  {
   "cell_type": "markdown",
   "metadata": {},
   "source": [
    "# Sim "
   ]
  },
  {
   "cell_type": "code",
   "execution_count": 4,
   "metadata": {},
   "outputs": [
    {
     "data": {
      "image/png": "[encoded data removed]",
      "text/plain": [
       "<Figure size 720x360 with 2 Axes>"
      ]
     },
     "execution_count": 4,
     "metadata": {},
     "output_type": "execute_result"
    }
   ],
   "source": [
    "ntime = 3000\n",
    "nstim = 30\n",
    "nfeatures = 10\n",
    "A_true, B_true, C_true, train_data, test_data = generate_data(ntime, nstim,nfeatures,burn_in=200, e=0.1,k=1,t0=1e10)\n",
    "\n",
    "time_train, u_train, p_train, x_train = train_data\n",
    "time_test, u_test, p_test, x_test = test_data\n",
    "\n",
    "scale = 8\n",
    "\n",
    "fig, ax = plt.subplots(1,2,figsize=(10,5))\n",
    "ax[0].plot(time_train,p_train.cpu().numpy())\n",
    "ax[0].set_ylabel(\"Passivity\")\n",
    "ax[0].set_xlabel(\"Time\")\n",
    "\n",
    "ax[1].plot(x_train[:,2].cpu().numpy())\n",
    "ax[1].set_title(\"Ground Truth\")\n",
    "ax[1].set_ylabel(\"df/f\")\n",
    "ax[1].set_xlabel(\"Time\")\n",
    "fig.tight_layout()\n",
    "fig"
   ]
  },
  {
   "cell_type": "code",
   "execution_count": 5,
   "metadata": {},
   "outputs": [],
   "source": [
    "n_future_steps = 1\n",
    "batch_size = 10\n",
    "\n",
    "data = FishSeqData(u_train,p_train,x_train,n_future_steps)\n",
    "model = DynamicsSeq(data.nfeatures,n_future_steps)"
   ]
  },
  {
   "cell_type": "code",
   "execution_count": 6,
   "metadata": {},
   "outputs": [
    {
     "name": "stderr",
     "output_type": "stream",
     "text": [
      "  1%|          | 3/300 [00:00<00:10, 29.06it/s]"
     ]
    },
    {
     "name": "stdout",
     "output_type": "stream",
     "text": [
      "A_loss: 1.22243654728\n",
      "epoch 0: "
     ]
    },
    {
     "name": "stderr",
     "output_type": "stream",
     "text": [
      "100%|██████████| 300/300 [00:09<00:00, 31.20it/s]\n",
      "  1%|          | 3/300 [00:00<00:10, 27.02it/s]"
     ]
    },
    {
     "name": "stdout",
     "output_type": "stream",
     "text": [
      "pred_loss: 31.9146524547, A_loss: 0.041522115469, B_loss: 0.0212900880724, C_loss: 0.407817751169\n",
      "pred_loss: 31.9146524547\n",
      "epoch 1: "
     ]
    },
    {
     "name": "stderr",
     "output_type": "stream",
     "text": [
      "100%|██████████| 300/300 [00:10<00:00, 29.61it/s]\n",
      "  1%|▏         | 4/300 [00:00<00:09, 31.42it/s]"
     ]
    },
    {
     "name": "stdout",
     "output_type": "stream",
     "text": [
      "pred_loss: 4.41125610983, A_loss: 0.00106719601899, B_loss: 0.0213134605438, C_loss: 0.147408589721\n",
      "pred_loss: 4.41125610983\n",
      "epoch 2: "
     ]
    },
    {
     "name": "stderr",
     "output_type": "stream",
     "text": [
      "100%|██████████| 300/300 [00:09<00:00, 30.94it/s]\n",
      "  1%|▏         | 4/300 [00:00<00:09, 31.33it/s]"
     ]
    },
    {
     "name": "stdout",
     "output_type": "stream",
     "text": [
      "pred_loss: 3.40441890107, A_loss: 0.000590472307522, B_loss: 0.0213184133172, C_loss: 0.0456914715469\n",
      "pred_loss: 3.40441890107\n",
      "epoch 3: "
     ]
    },
    {
     "name": "stderr",
     "output_type": "stream",
     "text": [
      "100%|██████████| 300/300 [00:09<00:00, 31.04it/s]\n",
      "  1%|▏         | 4/300 [00:00<00:09, 30.74it/s]"
     ]
    },
    {
     "name": "stdout",
     "output_type": "stream",
     "text": [
      "pred_loss: 3.21544327168, A_loss: 0.000612090167124, B_loss: 0.0213361550122, C_loss: 0.0144518595189\n",
      "pred_loss: 3.21544327168\n",
      "epoch 4: "
     ]
    },
    {
     "name": "stderr",
     "output_type": "stream",
     "text": [
      "100%|██████████| 300/300 [00:09<00:00, 31.13it/s]\n",
      "  1%|▏         | 4/300 [00:00<00:09, 31.61it/s]"
     ]
    },
    {
     "name": "stdout",
     "output_type": "stream",
     "text": [
      "pred_loss: 3.15928539773, A_loss: 0.000536397274118, B_loss: 0.0213139038533, C_loss: 0.00340078724548\n",
      "pred_loss: 3.15928539773\n",
      "epoch 5: "
     ]
    },
    {
     "name": "stderr",
     "output_type": "stream",
     "text": [
      "100%|██████████| 300/300 [00:09<00:00, 30.92it/s]\n",
      "  1%|▏         | 4/300 [00:00<00:09, 31.41it/s]"
     ]
    },
    {
     "name": "stdout",
     "output_type": "stream",
     "text": [
      "pred_loss: 3.14922978915, A_loss: 0.000806712138001, B_loss: 0.0213187746704, C_loss: 0.00359702995047\n",
      "pred_loss: 3.14922978915\n",
      "epoch 6: "
     ]
    },
    {
     "name": "stderr",
     "output_type": "stream",
     "text": [
      "100%|██████████| 300/300 [00:09<00:00, 30.97it/s]\n",
      "  1%|▏         | 4/300 [00:00<00:09, 31.60it/s]"
     ]
    },
    {
     "name": "stdout",
     "output_type": "stream",
     "text": [
      "pred_loss: 3.14814150054, A_loss: 0.000945926294662, B_loss: 0.0213333647698, C_loss: 0.00277419132181\n",
      "pred_loss: 3.14814150054\n",
      "epoch 7: "
     ]
    },
    {
     "name": "stderr",
     "output_type": "stream",
     "text": [
      "100%|██████████| 300/300 [00:09<00:00, 30.81it/s]"
     ]
    },
    {
     "name": "stdout",
     "output_type": "stream",
     "text": [
      "pred_loss: 3.15451791417, A_loss: 0.000647119188216, B_loss: 0.0213116630912, C_loss: 0.00251636886969\n",
      "pred_loss: 3.15451791417\n",
      "pred_loss: 3.15451791417, A_loss: 0.000647119188216, B_loss: 0.0213116630912, C_loss: 0.00251636886969\n"
     ]
    },
    {
     "name": "stderr",
     "output_type": "stream",
     "text": [
      "\n"
     ]
    }
   ],
   "source": [
    "train(model,data,8,(1e-4,0),(1e-3,1e-4),lr=1e-2)"
   ]
  },
  {
   "cell_type": "code",
   "execution_count": 7,
   "metadata": {},
   "outputs": [
    {
     "data": {
      "image/png": "[encoded data removed]",
      "text/plain": [
       "<Figure size 720x720 with 5 Axes>"
      ]
     },
     "execution_count": 7,
     "metadata": {},
     "output_type": "execute_result"
    }
   ],
   "source": [
    "model_v_truth(model, u_test, p_test, x_test, A_true.data, B_true.data)"
   ]
  },
  {
   "cell_type": "code",
   "execution_count": null,
   "metadata": {},
   "outputs": [
    {
     "name": "stderr",
     "output_type": "stream",
     "text": [
      "  2%|▏         | 56/2999 [00:00<00:05, 553.60it/s]"
     ]
    },
    {
     "name": "stdout",
     "output_type": "stream",
     "text": [
      "A_loss: 1.14885008335\n",
      "epoch 0: "
     ]
    },
    {
     "name": "stderr",
     "output_type": "stream",
     "text": [
      "100%|██████████| 2999/2999 [00:05<00:00, 547.52it/s]\n",
      "  2%|▏         | 57/2999 [00:00<00:05, 564.95it/s]"
     ]
    },
    {
     "name": "stdout",
     "output_type": "stream",
     "text": [
      "pred_loss: 970.302741691, A_loss: 1.12238240242, B_loss: 1.18244886398, C_loss: 0.361779123545\n",
      "pred_loss: 970.302741691\n",
      "epoch 1: "
     ]
    },
    {
     "name": "stderr",
     "output_type": "stream",
     "text": [
      "100%|██████████| 2999/2999 [00:05<00:00, 552.59it/s]\n",
      "  2%|▏         | 57/2999 [00:00<00:05, 561.87it/s]"
     ]
    },
    {
     "name": "stdout",
     "output_type": "stream",
     "text": [
      "pred_loss: 953.002928384, A_loss: 1.09656023979, B_loss: 1.17737352848, C_loss: 0.357613861561\n",
      "pred_loss: 953.002928384\n",
      "epoch 2: "
     ]
    },
    {
     "name": "stderr",
     "output_type": "stream",
     "text": [
      "100%|██████████| 2999/2999 [00:05<00:00, 552.62it/s]\n",
      "  2%|▏         | 57/2999 [00:00<00:05, 562.70it/s]"
     ]
    },
    {
     "name": "stdout",
     "output_type": "stream",
     "text": [
      "pred_loss: 936.106647916, A_loss: 1.07136487961, B_loss: 1.17231607437, C_loss: 0.353502690792\n",
      "pred_loss: 936.106647916\n",
      "epoch 3: "
     ]
    },
    {
     "name": "stderr",
     "output_type": "stream",
     "text": [
      "100%|██████████| 2999/2999 [00:05<00:00, 537.66it/s]\n",
      "  2%|▏         | 55/2999 [00:00<00:05, 541.14it/s]"
     ]
    },
    {
     "name": "stdout",
     "output_type": "stream",
     "text": [
      "pred_loss: 919.627376951, A_loss: 1.04678177834, B_loss: 1.16727638245, C_loss: 0.349444180727\n",
      "pred_loss: 919.627376951\n",
      "epoch 4: "
     ]
    },
    {
     "name": "stderr",
     "output_type": "stream",
     "text": [
      "100%|██████████| 2999/2999 [00:05<00:00, 537.74it/s]\n",
      "  2%|▏         | 55/2999 [00:00<00:05, 541.26it/s]"
     ]
    },
    {
     "name": "stdout",
     "output_type": "stream",
     "text": [
      "pred_loss: 903.539994083, A_loss: 1.02279376984, B_loss: 1.16225421429, C_loss: 0.345437914133\n",
      "pred_loss: 903.539994083\n",
      "epoch 5: "
     ]
    },
    {
     "name": "stderr",
     "output_type": "stream",
     "text": [
      "100%|██████████| 2999/2999 [00:05<00:00, 532.98it/s]\n",
      "  2%|▏         | 55/2999 [00:00<00:05, 542.59it/s]"
     ]
    },
    {
     "name": "stdout",
     "output_type": "stream",
     "text": [
      "pred_loss: 887.845618337, A_loss: 0.99938672781, B_loss: 1.15724682808, C_loss: 0.341483682394\n",
      "pred_loss: 887.845618337\n",
      "epoch 6: "
     ]
    },
    {
     "name": "stderr",
     "output_type": "stream",
     "text": [
      "100%|██████████| 2999/2999 [00:05<00:00, 537.73it/s]\n",
      "  2%|▏         | 57/2999 [00:00<00:05, 562.17it/s]"
     ]
    },
    {
     "name": "stdout",
     "output_type": "stream",
     "text": [
      "pred_loss: 872.519791916, A_loss: 0.976547181606, B_loss: 1.15225625038, C_loss: 0.337580174208\n",
      "pred_loss: 872.519791916\n",
      "epoch 7: "
     ]
    },
    {
     "name": "stderr",
     "output_type": "stream",
     "text": [
      "100%|██████████| 2999/2999 [00:05<00:00, 552.59it/s]\n",
      "  2%|▏         | 57/2999 [00:00<00:05, 565.03it/s]"
     ]
    },
    {
     "name": "stdout",
     "output_type": "stream",
     "text": [
      "pred_loss: 857.576278865, A_loss: 0.954258739948, B_loss: 1.14728271961, C_loss: 0.333726584911\n",
      "pred_loss: 857.576278865\n",
      "epoch 8: "
     ]
    },
    {
     "name": "stderr",
     "output_type": "stream",
     "text": [
      "100%|██████████| 2999/2999 [00:05<00:00, 552.63it/s]\n",
      "  2%|▏         | 57/2999 [00:00<00:05, 562.36it/s]"
     ]
    },
    {
     "name": "stdout",
     "output_type": "stream",
     "text": [
      "pred_loss: 842.993564084, A_loss: 0.932507574558, B_loss: 1.14232373238, C_loss: 0.329922020435\n",
      "pred_loss: 842.993564084\n",
      "epoch 9: "
     ]
    },
    {
     "name": "stderr",
     "output_type": "stream",
     "text": [
      " 65%|██████▌   | 1959/2999 [00:03<00:01, 552.78it/s]"
     ]
    }
   ],
   "source": [
    "n_future_steps = 1\n",
    "batch_size = 1\n",
    "\n",
    "scale = 1\n",
    "time_train, u_train, p_train, x_train = time_train, u_train.half()*scale, p_train.half()*scale, x_train.half()*scale\n",
    "time_test, u_test, p_test, x_test = time_test, u_test.half()*scale, p_test.half()*scale, x_test.half()*scale\n",
    "data = FishSeqData(u_train,p_train,x_train,n_future_steps)\n",
    "model = DynamicsSeq(data.nfeatures,n_future_steps,T.float16,scale)\n",
    "train_fp16(model,data,15,(1e-4,1e-5),(1e-3,0),lr=1e-3,verbose=True, loss_scale=512)\n",
    "\n",
    "model_v_truth(model, u_test, p_test, x_test, A_true.data, B_true.data)"
   ]
  }
 ],
 "metadata": {
  "kernelspec": {
   "display_name": "Environment (conda_pytorch_p27)",
   "language": "python",
   "name": "conda_pytorch_p27"
  },
  "language_info": {
   "codemirror_mode": {
    "name": "ipython",
    "version": 2
   },
   "file_extension": ".py",
   "mimetype": "text/x-python",
   "name": "python",
   "nbconvert_exporter": "python",
   "pygments_lexer": "ipython2",
   "version": "2.7.14"
  }
 },
 "nbformat": 4,
 "nbformat_minor": 2
}
