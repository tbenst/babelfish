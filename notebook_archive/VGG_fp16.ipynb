{
 "cells": [
  {
   "cell_type": "code",
   "execution_count": null,
   "metadata": {},
   "outputs": [],
   "source": [
    "import time\n",
    "\n",
    "import torch\n",
    "from torch.autograd import Variable\n",
    "import torchvision.models as models\n",
    "\n",
    "import torch.backends.cudnn as cudnn\n",
    "cudnn.benchmark = True\n",
    "\n",
    "net = models.vgg19().cuda()\n",
    "inp = torch.randn(64, 3, 224, 224).cuda()\n",
    "\n",
    "for i in range(5):\n",
    "    net.zero_grad()\n",
    "    out = net.forward(Variable(inp, requires_grad=True))\n",
    "    loss = out.sum()\n",
    "    loss.backward()\n",
    "\n",
    "torch.cuda.synchronize()\n",
    "start=time.time()\n",
    "for i in range(100):\n",
    "    net.zero_grad()\n",
    "    out = net.forward(Variable(inp, requires_grad=True))\n",
    "    loss = out.sum()\n",
    "    loss.backward()\n",
    "torch.cuda.synchronize()\n",
    "end=time.time()\n",
    "\n",
    "print(\"FP32 Iterations per second: \", 100/(end-start))\n",
    "\n",
    "net = models.vgg19().cuda().half()\n",
    "inp = torch.randn(63, 3, 224, 224).cuda().half()\n",
    "\n",
    "torch.cuda.synchronize()\n",
    "start=time.time()\n",
    "for i in range(100):\n",
    "    net.zero_grad()\n",
    "    out = net.forward(Variable(inp, requires_grad=True))\n",
    "    loss = out.sum()\n",
    "    loss.backward()\n",
    "torch.cuda.synchronize()\n",
    "end=time.time()\n",
    "\n",
    "print(\"FP16 Iterations per second: \", 100/(end-start))"
   ]
  }
 ],
 "metadata": {
  "kernelspec": {
   "display_name": "Environment (conda_pytorch_p27)",
   "language": "python",
   "name": "conda_pytorch_p27"
  },
  "language_info": {
   "codemirror_mode": {
    "name": "ipython",
    "version": 2
   },
   "file_extension": ".py",
   "mimetype": "text/x-python",
   "name": "python",
   "nbconvert_exporter": "python",
   "pygments_lexer": "ipython2",
   "version": "2.7.14"
  }
 },
 "nbformat": 4,
 "nbformat_minor": 2
}
