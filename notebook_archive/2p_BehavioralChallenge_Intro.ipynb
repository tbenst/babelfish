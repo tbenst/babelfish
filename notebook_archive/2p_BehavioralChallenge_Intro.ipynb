{
 "cells": [
  {
   "cell_type": "markdown",
   "metadata": {},
   "source": [
    "### Augment the PythonPath so python can find necessary code."
   ]
  },
  {
   "cell_type": "code",
   "execution_count": null,
   "metadata": {},
   "outputs": [],
   "source": [
    "import os, sys, datetime\n",
    "LF_CODE_PATH = os.path.expanduser('~/projects/LFAnalyze/code')\n",
    "FT_CODE_PATH = os.path.expanduser('~/projects/fishTrax/code/analysis/')\n",
    "FD_CODE_PATH = os.path.expanduser('~/projects/fish_despair_notebooks/src/')\n",
    "sys.path.insert(0,LF_CODE_PATH)\n",
    "sys.path.insert(0,FT_CODE_PATH)\n",
    "sys.path.insert(0,FD_CODE_PATH)"
   ]
  },
  {
   "cell_type": "markdown",
   "metadata": {},
   "source": [
    "### Import useful python packages"
   ]
  },
  {
   "cell_type": "code",
   "execution_count": null,
   "metadata": {},
   "outputs": [],
   "source": [
    "%matplotlib inline\n",
    "import matplotlib as mpl\n",
    "import matplotlib.pyplot as plt\n",
    "import pims\n",
    "import tqdm\n",
    "import numpy as np\n",
    "import pandas as pd\n",
    "import scipy\n",
    "import skimage.io\n",
    "import visualization_utils as vizutil\n",
    "import seaborn as sns\n",
    "from skimage.filters import gaussian_filter"
   ]
  },
  {
   "cell_type": "markdown",
   "metadata": {},
   "source": [
    "### Load the data\n",
    "\n",
    "passivity_2p_imaging_utils provides a list of all the datasets and provides a helper class to make loading the data easy.\n",
    "\n",
    "The data_sets are split into three conditions... (the keynames are wierd for historical reasons)   \n",
    "'enp': control group - no shocks at all.  \n",
    "'c': experimental group - fish experience behavioral challenge (repeated shocks) while being imaged  \n",
    "'e': reexposed group - first fish experience free-swimming behavioral challenge... then are imaged during behavioral challenge\n",
    "  \n",
    "all_data is a dictionary keyed by the condition.  \n",
    "all_data[condition] contains a list of Passivity_2p_Fish objects."
   ]
  },
  {
   "cell_type": "code",
   "execution_count": null,
   "metadata": {},
   "outputs": [],
   "source": [
    "import passivity_2p_imaging_utils as p2putils\n",
    "reload(p2putils)\n",
    "tmp_dir = '/tmp/'\n",
    "all_data = p2putils.get_all_datasets(tmp_dir=tmp_dir)\n",
    "\n",
    "print 'controls, n =', len(all_data['enp'])\n",
    "print 'experimental, n =', len(all_data['c'])\n",
    "print 'reexposed, n =', len(all_data['e'])"
   ]
  },
  {
   "cell_type": "markdown",
   "metadata": {},
   "source": [
    "Some ideal example fish for modeling\n",
    "(see 2p_Fish_Figure3_Accumulation.ipynb)"
   ]
  },
  {
   "cell_type": "code",
   "execution_count": null,
   "metadata": {},
   "outputs": [],
   "source": [
    "print 'experimental', all_data['c'][6].fishid\n",
    "print 'reexposed', all_data['e'][2].fishid"
   ]
  },
  {
   "cell_type": "markdown",
   "metadata": {},
   "source": [
    "### Passivity_2p_Fish Class\n",
    "\n",
    "The `Passivity_2p_Fish` class offers various members and methods for loading data associated with each fish.  \n",
    "  \n",
    "Lets demo these methods using an example fish:  "
   ]
  },
  {
   "cell_type": "code",
   "execution_count": null,
   "metadata": {},
   "outputs": [],
   "source": [
    "f = all_data['e'][2]"
   ]
  },
  {
   "cell_type": "markdown",
   "metadata": {},
   "source": [
    "The time of all volumes, tail_movements, and shocks are stored in the following variable:"
   ]
  },
  {
   "cell_type": "code",
   "execution_count": null,
   "metadata": {},
   "outputs": [],
   "source": [
    "print 'The first shock started at t=', f.shock_st[0], 's'#shock start times\n",
    "print 'The first slice of the frame began being imaged at t=', f.frame_st[0,0], 's' #time at which each slice was imaged [#samples X #slices]\n",
    "print 'The first tail movement started at=', f.tail_movement_start_times[0], 's' #tail movement times - movements separted into forward swims, turns and escapes.\n",
    "print 'Num z-planes imaged:', f.num_zplanes\n",
    "print 'Volume-Rate:', 1/np.diff(f.frame_st[:,0]).mean() #frame_st is #frames x #slices, we examine interval between imaging first slice"
   ]
  },
  {
   "cell_type": "markdown",
   "metadata": {},
   "source": [
    "Demo code for examining movie of tail (slowed by factor of 10)"
   ]
  },
  {
   "cell_type": "code",
   "execution_count": null,
   "metadata": {},
   "outputs": [],
   "source": [
    "movement_ndx = 10\n",
    "clip = f.get_tail_movie_clip(f.tail_movement_start_times[movement_ndx]-.1, \n",
    "                             f.tail_movement_end_times[movement_ndx]+.1, \n",
    "                             playback_speed_factor=.1)\n",
    "clip.ipython_display(width=150)"
   ]
  },
  {
   "cell_type": "markdown",
   "metadata": {},
   "source": [
    "Demo code to plot tail movement rate"
   ]
  },
  {
   "cell_type": "code",
   "execution_count": null,
   "metadata": {},
   "outputs": [],
   "source": [
    "rate_window_starts = np.arange(-300,31*60,60) + f.shock_st[0] #1 minutes windows around start of shock\n",
    "rate_window_centers = rate_window_starts + 30\n",
    "rate_windows_adj = rate_window_starts - f.td_time[0] #corrected for the fact that get_movement_rate wants time relative to start of tail imaging.\n",
    "plt.plot(rate_window_centers - f.shock_st[0], [f.get_movement_rate([x,x+60], bExcShockResp=False) for x in rate_windows_adj])\n",
    "plt.axvline(0,c='r')\n",
    "plt.ylabel('Movement Rate (Hz)')\n",
    "plt.xlabel('Time Relative to First Shock (s)')"
   ]
  },
  {
   "cell_type": "markdown",
   "metadata": {},
   "source": [
    "The `get_roi_table` method returns a dataframe of all the rois for teh fish.  Each row of this table represents an ROI and specified the place the ROI is in, the pixels that are included in the ROI, the centroid of the ROI, and which brain regions the ROI is in.  \n",
    "\n",
    "Note, this data is older and was processed by simply segmenting the anatomical images.  Thus the data is does not look as clean as data that is cleaned up and processed using CNMF, for example."
   ]
  },
  {
   "cell_type": "code",
   "execution_count": null,
   "metadata": {},
   "outputs": [],
   "source": [
    "df = f.get_roi_table() #this can be slow to run the first time as data is loaded from files\n",
    "df.head()"
   ]
  },
  {
   "cell_type": "markdown",
   "metadata": {},
   "source": [
    "'get_signals_raw' returns a matrix containing the raw fluorescent signal associated with each ROI.  Each row of this matrix is associated with the corresponding row of the ROI table.  \n",
    "\n",
    "Note, I only use the second half of the signal matrix, because the agarose had not fully hardened during the first of imaging which cause the fish to drift in z slightly."
   ]
  },
  {
   "cell_type": "code",
   "execution_count": null,
   "metadata": {},
   "outputs": [],
   "source": [
    "M = f.get_signals_raw(z=None)\n",
    "#M = hbutils.df_over_f(M)\n",
    "print 'Num ROIs:', df.shape[0]\n",
    "print 'Shape of signal matrix', M.shape"
   ]
  },
  {
   "cell_type": "markdown",
   "metadata": {},
   "source": [
    "There are also various methods for grabbing the raw imaging data:  \n",
    "get_tif_as_vol  \n",
    "get_tif_rasl\n",
    "\n",
    "We can use this to visualize a few ROIs in particular plane/slice and brain region:\n",
    "\n",
    "(**This won't work on AWS unless you upload tif stacks**)"
   ]
  },
  {
   "cell_type": "code",
   "execution_count": null,
   "metadata": {},
   "outputs": [],
   "source": [
    "z=8\n",
    "\n",
    "#Create a background image by averaging 200 frames and adjusting the gamma.\n",
    "back_img = np.power(f.get_tif_rasl_as_vol(z,range(1,200)).mean(axis=2),.4)\n",
    "\n",
    "#Select rois in raphe in this slices, and get their coordinates.\n",
    "coords = df[(df.in_r_raphe) & (df.z==z)].coords\n",
    "\n",
    "#Overlay the ROIs on the background image and display:\n",
    "img = vizutil.overlay_coords(back_img, coords, [0,0,1], alpha=.5)\n",
    "plt.figure(figsize=[20,20])\n",
    "plt.imshow(img,interpolation='nearest')"
   ]
  }
 ],
 "metadata": {
  "git": {
   "suppress_outputs": true
  },
  "kernelspec": {
   "display_name": "Python 3",
   "language": "python",
   "name": "python3"
  },
  "language_info": {
   "codemirror_mode": {
    "name": "ipython",
    "version": 3
   },
   "file_extension": ".py",
   "mimetype": "text/x-python",
   "name": "python",
   "nbconvert_exporter": "python",
   "pygments_lexer": "ipython3",
   "version": "3.6.2"
  }
 },
 "nbformat": 4,
 "nbformat_minor": 2
}
