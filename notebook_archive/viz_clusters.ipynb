{
 "cells": [
  {
   "cell_type": "code",
   "execution_count": null,
   "metadata": {},
   "outputs": [],
   "source": [
    "# Init\n",
    "import pandas as pd\n",
    "import numpy as np\n",
    "import matplotlib.pyplot as plt\n",
    "import seaborn as sns; sns.set()\n",
    "\n",
    "# Load data\n",
    "from sklearn.datasets import load_diabetes\n",
    "\n",
    "# Clustering\n",
    "from scipy.cluster.hierarchy import dendrogram, fcluster, leaves_list, linkage\n",
    "from scipy.spatial import distance\n",
    "\n",
    "%matplotlib inline\n",
    "\n",
    "n = 20\n",
    "A = np.random.rand(n,n)\n",
    "\n",
    "dist_mat = A\n",
    "linkage = linkage(dist_mat, \"ward\")\n",
    "linkage_clusters = fcluster(linkage,4,criterion='maxclust')\n",
    "\n",
    "# see question for code prior to \"color mapping\"\n",
    "cmap = [\"#FFFFFF\",\"#0000FF\",\"#00FF00\",\"#FF0000\"]\n",
    "# Color mapping\n",
    "dflt_col = \"#808080\"   # Unclustered gray\n",
    "link_cols = {}\n",
    "for i,v in enumerate(linkage_clusters):\n",
    "    link_cols[i] = cmap[v-1]\n",
    "\n",
    "# notes:\n",
    "# * rows in Z correspond to \"inverted U\" links that connect clusters\n",
    "# * rows are ordered by increasing distance\n",
    "# * if the colors of the connected clusters match, use that color for link\n",
    "# link_cols = {}\n",
    "for i, i12 in enumerate(linkage[:,:2].astype(int)):\n",
    "    c1, c2 = (link_cols[x]\n",
    "        for x in i12)\n",
    "    link_cols[i+1+len(linkage)] = c1 if c1 == c2 else dflt_col\n",
    "# Dendrogram\n",
    "D = dendrogram(Z=linkage, color_threshold=None,\n",
    "  leaf_font_size=12, leaf_rotation=45, link_color_func=lambda x: link_cols[x])"
   ]
  }
 ],
 "metadata": {
  "kernelspec": {
   "display_name": "Python 3",
   "language": "python",
   "name": "python3"
  },
  "language_info": {
   "codemirror_mode": {
    "name": "ipython",
    "version": 3
   },
   "file_extension": ".py",
   "mimetype": "text/x-python",
   "name": "python",
   "nbconvert_exporter": "python",
   "pygments_lexer": "ipython3",
   "version": "3.6.2"
  }
 },
 "nbformat": 4,
 "nbformat_minor": 2
}
