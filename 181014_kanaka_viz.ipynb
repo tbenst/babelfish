{
 "cells": [
  {
   "cell_type": "code",
   "execution_count": null,
   "metadata": {},
   "outputs": [],
   "source": [
    "import seaborn as sns\n",
    "\n",
    "import sklearn\n",
    "from sklearn.cluster.bicluster import SpectralBiclustering\n",
    "from sklearn.cluster.bicluster import SpectralCoclustering\n",
    "from sklearn.metrics import consensus_score\n",
    "\n",
    "import scipy.linalg\n",
    "from functools import partial\n",
    "%pylab\n",
    "%matplotlib inline\n",
    "import matplotlib as mpl\n",
    "import matplotlib.gridspec as gridspec\n",
    "import scipy.sparse as sparse\n",
    "from scipy import stats\n",
    "from __future__ import print_function\n",
    "import gc\n",
    "from tqdm import tqdm_notebook as tqdm\n",
    "from __future__ import division\n",
    "import pandas as pd\n",
    "import seaborn as sb\n",
    "import os\n",
    "from scipy.spatial import distance\n",
    "from scipy.cluster import hierarchy\n",
    "from pandas import DataFrame\n",
    "from glob import glob\n",
    "import h5py\n",
    "\n",
    "import os, sys, datetime\n",
    "LF_CODE_PATH = os.path.expanduser('~/projects/LFAnalyze/code')\n",
    "FT_CODE_PATH = os.path.expanduser('~/projects/fishTrax/code/analysis/')\n",
    "FD_CODE_PATH = os.path.expanduser('~/projects/fish_despair_notebooks/src/')\n",
    "sys.path.insert(0,LF_CODE_PATH)\n",
    "sys.path.insert(0,FT_CODE_PATH)\n",
    "sys.path.insert(0,FD_CODE_PATH)\n",
    "\n",
    "import passivity_2p_imaging_utils as p2putils\n",
    "import visualization_utils as vizutil\n",
    "import matplotlib.cm as cm\n",
    "from matplotlib.colors import Normalize\n",
    "reload(p2putils)\n",
    "tmp_dir = '/tmp/'\n",
    "all_data = p2putils.get_all_datasets(tmp_dir=tmp_dir)\n",
    "\n",
    "from scipy import signal\n",
    "\n",
    "# import holoviews as hv\n",
    "# hv.extension('matplotlib')\n",
    "pyplot.switch_backend('agg')\n",
    "# %output fig='svg' size=300"
   ]
  },
  {
   "cell_type": "code",
   "execution_count": null,
   "metadata": {},
   "outputs": [],
   "source": [
    "def safe_round_mean(x):\n",
    "    m = np.round(np.mean(x))\n",
    "    if np.isnan(m):\n",
    "        return 0\n",
    "    else:\n",
    "        return int(m)\n",
    "\n",
    "def safe_mean(x):\n",
    "    m = np.mean(x)\n",
    "    if np.isnan(m):\n",
    "        return 0\n",
    "    else:\n",
    "        return np.mean(x)"
   ]
  },
  {
   "cell_type": "code",
   "execution_count": null,
   "metadata": {},
   "outputs": [],
   "source": [
    "#Params:\n",
    "bTop = True\n",
    "bOneFish = False # only run first fish for interactive development\n",
    "# vmax = None # set to 95%\n",
    "vmax = 100 \n",
    "bSymmetric_vmax = False # We don't care about f-val < 1, but do when taking diff\n",
    "plot_dir = \"/data2/Plots/kanaka/\"\n",
    "\n",
    "reduce_func = lambda x: sum(x>100)/np.size(x)\n",
    "# reduce_func = safe_round_mean\n",
    "brain_map_reduce = safe_mean\n",
    "\n",
    "\n",
    "# If the values are integers then\n",
    "# the number of chords is directly scaled by the value, if the\n",
    "# values are floats then the number of chords are apportioned such\n",
    "# that the lowest value edge is given one chord and all other nodes\n",
    "# are given nodes proportional to their weight.\n",
    "chord_val_integer = True\n",
    "chord_val_min = 1\n",
    "\n",
    "# reduce_func = np.mean\n",
    "# chord_val_integer = False\n",
    "# chord_val_min = 1e-5\n",
    "\n",
    "\n",
    "\n",
    "conds = ['shock','reexposed','control',]\n",
    "fishids = [['f01606','f01604','f01547','f01550','f01553'],#,'f01597','f02326','f01520','f01527',],\n",
    "           ['f01555','f01575','f01576','f01594','f01598'],\n",
    "           ['f01736','f01732','f01733','f01735','f01729']]#,'f"
   ]
  },
  {
   "cell_type": "code",
   "execution_count": null,
   "metadata": {},
   "outputs": [],
   "source": [
    "regions = [u'in_l_vthal', u'in_r_vthal', u'in_l_raphe',\n",
    "           u'in_r_raphe', u'in_l_dthal', u'in_r_dthal',\n",
    "           u'in_l_LHb', u'in_r_LHb', u'in_l_tel', u'in_r_tel',\n",
    "           u'in_l_MHb', u'in_r_MHb']\n",
    "region_names = [r[3:] for r in regions]"
   ]
  },
  {
   "cell_type": "code",
   "execution_count": null,
   "metadata": {},
   "outputs": [],
   "source": [
    "def prepInputChordDiagram(Ms, target_bndx, region_bndxs,\n",
    "                          target_name, region_names, func,\n",
    "                          min_val=1e-5, integer=False):\n",
    "    \"\"\"\n",
    "    Inputs:\n",
    "    Ms is list of one or more (G or fval matrices)\n",
    "    target_bndx is a boolean array speciifying the set of cells to which we want to understand the input.\n",
    "    region_bndxs is a list of boolean arrays specifying a set of regions in the brain.\n",
    "    target_name is the string of the target region\n",
    "    region_names is a list of strings that must contain target_name\n",
    "    func is a function mean, std.. that will be used to summarize the set of inputs between one region and another.\n",
    "    min_val is a positive float that determines the minimum connection between regions\n",
    "    integer will interpret each value as an int rather than float, and will usually increase # of lines\n",
    "    \"\"\"\n",
    "    ret = None\n",
    "    for iM, M in enumerate(Ms):\n",
    "        # select columns corresponding with target region.\n",
    "        target = M[:,target_bndx]\n",
    "        for iR, region_bndx in enumerate(region_bndxs):\n",
    "            # select rows associated with region\n",
    "            block = target[region_bndx]\n",
    "            # summarize the remaining block with the summary function \n",
    "            summary = func(block)\n",
    "            if type(summary) is int:\n",
    "                sum_shape = ()\n",
    "            else:\n",
    "                sum_shape=summary.shape\n",
    "            if ret is None:\n",
    "                ret = np.zeros([len(Ms), len(region_bndxs)] + list(sum_shape))\n",
    "            ret[iM, iR] = summary\n",
    "    # This yields a tensor of len(Ms, ie. #fish) x #input regions x dim(domain of func).\n",
    "    # if func returns a scalar, this will be a matrix\n",
    "    \n",
    "    # make links df for chord\n",
    "    links = DataFrame(0, index=np.arange(np.product(ret.shape)),\n",
    "                  columns=[\"group\", \"source\", \"target\", \"value\"])\n",
    "    nodes = hv.Dataset(DataFrame(data=\n",
    "                    {\"index\": np.arange(len(region_names)),\n",
    "                    \"name\": region_names}),\n",
    "                'index')\n",
    "    target_idx = region_names.index(target_name)\n",
    "    ncol = ret.shape[1]\n",
    "    for iF, iS in np.ndindex(ret.shape):\n",
    "        \n",
    "        val = ret[iF,iS]\n",
    "        if np.isnan(val) or val<=min_val:\n",
    "            val = min_val\n",
    "        else:\n",
    "            if integer:\n",
    "                val = int(val)\n",
    "            else:\n",
    "                val = float(val)\n",
    "        links.iloc[iF*ncol+iS] = [iF, iS, target_idx, val]\n",
    "    # return this tensor for doing statistiic and plot chord diagram\n",
    "    return ret, links, nodes\n",
    "\n",
    "def plotChordDiagram(links, nodes, group_n=None):\n",
    "    options = {\"Chord\": \n",
    "               {\"label_index\": 'name',\n",
    "                \"color_index\": 'name',\n",
    "                \"edge_color_index\": 'source',\n",
    "                \"cmap\": 'Category20',\n",
    "                \"edge_cmap\": 'Category20'}\n",
    "              }\n",
    "    if group_n:\n",
    "        dat = links.query('group=={}'.format(group_n))\n",
    "    else:\n",
    "        dat = links\n",
    "    fig = hv.Chord(\n",
    "            (dat, nodes),\n",
    "            ['source', 'target'],\n",
    "            ['value']).options(options)\n",
    "    return fig\n",
    "\n",
    "\n",
    "def prepDeltaInputChordDiagram(Ms_1, Ms_2, target_bndx, region_bndxs,\n",
    "                          target_name, region_names, func,\n",
    "                          min_val=1e-5):\n",
    "    #subtracts Ms1 and Ms2, then call the above function I guess...\n",
    "    diffM = [m1 - m2 for m1, m2 in zip(Ms_1, Ms_2)]\n",
    "    return plotInputChordDiagram(diffM, target_bndx, region_bndxs,\n",
    "                                 target_name, region_names, func,\n",
    "                                min_val)\n",
    "\n",
    "def plotInputBrainMap( M, df, target_bndx, Z, back_img, func, vmax=None, symmetric_vmax=False):\n",
    "    \"\"\"\n",
    "    Inputs:\n",
    "    M the G or fval matric\n",
    "    df is the roi dataframe\n",
    "    target_bndx is a boolean array specifying the set of cells to which we want to understand the input.\n",
    "    Z: list of z-plane indices eg [0,2,4,6,8]\n",
    "    back_img: list of background images of dim(Z+1), where 0 is max Z-project\n",
    "    func is a function mean, std.. that will be used to summarize the set of inputs between one region and another.\n",
    "    \"\"\"\n",
    "    # select columns corresponding with target region.\n",
    "    target = M[:,target_bndx]\n",
    "    # summarize across columns using the function \n",
    "    neurons_summary = np.apply_along_axis(func, 1, target)\n",
    "    # This yields a vector of len #neurons.\n",
    "    \n",
    "    # Colormap\n",
    "    cmap_ = cm.inferno\n",
    "    if not vmax:\n",
    "        vmax = np.percentile(fvals[0],95)\n",
    "    if symmetric_vmax:\n",
    "        vmin = -vmax\n",
    "    else:\n",
    "        vmin = 0\n",
    "    norm_ = Normalize(vmin=vmin, vmax=vmax)\n",
    "    m = cm.ScalarMappable(norm=norm_, cmap=cmap_)\n",
    "    cmap = lambda x: m.to_rgba(x)[:3]\n",
    "    \n",
    "    \n",
    "    # Plot each plane the rois colored based on the vector on top of the brain.\n",
    "    fig, ax = plt.subplots(nZ+2, 1, figsize=[8,4*nZ],\n",
    "                           gridspec_kw={\"height_ratios\":[0.05] + list(np.ones(nZ+1))})\n",
    "    cb1 = mpl.colorbar.ColorbarBase(ax[0], cmap=cmap_,\n",
    "                                norm=norm_,\n",
    "                                orientation='horizontal')\n",
    "    imgs = []\n",
    "    for iz, z in enumerate(Z):\n",
    "        idx = df.z==z\n",
    "        #Select rois in raphe in this slices, and get their coordinates.\n",
    "        coords = df[idx].coords\n",
    "        weights = neurons_summary[idx]\n",
    "        my_colors = np.array(map(cmap, weights))\n",
    "        #Overlay the ROIs on the background image and display:\n",
    "        img = vizutil.overlay_coords(back_img[iz], coords, my_colors, alpha=0.5)\n",
    "        imgs.append(img)\n",
    "        ax[iz+2].imshow(img,interpolation='nearest')\n",
    "        ax[iz+2].set_title(\"z={}\".format(z))\n",
    "    img = np.array(imgs).max(0)\n",
    "    ax[1].imshow(img,interpolation='nearest')\n",
    "    ax[1].set_title(\"max z-project\")\n",
    "    \n",
    "    plt.tight_layout()\n",
    "    \n",
    "    # Plot a z-project of all the rois\n",
    "    return fig, neurons_summary\n",
    "\n",
    "def plotDeltaInputBrainMap( M1, M2, df, target_bndx, Z, back_img, func):\n",
    "    diffM = M1 - M2\n",
    "    return plotInputBrainMap(diffM, df, target_bndx, Z, back_img, func)"
   ]
  },
  {
   "cell_type": "code",
   "execution_count": null,
   "metadata": {},
   "outputs": [],
   "source": [
    "# turn off interactive plotting\n",
    "plt.ioff()"
   ]
  },
  {
   "cell_type": "code",
   "execution_count": null,
   "metadata": {},
   "outputs": [],
   "source": [
    "for ncond, cond in enumerate(conds):\n",
    "    for nf, fid in enumerate(fishids[ncond]):\n",
    "        f = p2putils.get_fish(all_data,fid)[0]\n",
    "        print('Starting', f.fishid)\n",
    "        \n",
    "        #Load data\n",
    "        Js = []\n",
    "        for i in range(1,4):\n",
    "            fn = glob(f.data_prefix[:-6]+'*ep{}*.mat'.format(i))[0]\n",
    "            h5 = h5py.File(fn)\n",
    "            J = np.array(h5[\"J\"])\n",
    "            Js.append(J)\n",
    "        Js = np.array(Js)\n",
    "        df = f.get_roi_table()\n",
    "        \n",
    "        Z = np.arange(0,f.num_zplanes)\n",
    "        nZ = len(Z)\n",
    "        back_img = []\n",
    "        for z in Z:\n",
    "            back_img.append(np.power(f.get_tif_rasl_as_vol(z,range(1,200)).mean(axis=2),.4))\n",
    "        \n",
    "        print(\"finished loading data. Making plots...\")\n",
    "        # MAKE PLOTS\n",
    "        target_name = \"r_raphe\"\n",
    "        target_bndx = np.array(df[\"in_\"+target_name])\n",
    "        region_bndxs = [np.array(df[r]) for r in regions]\n",
    "        \n",
    "        # PLOT\n",
    "        _, links, nodes = prepInputChordDiagram(Js, target_bndx, region_bndxs,\n",
    "                              target_name, region_names, reduce_func,\n",
    "                              min_val=chord_val_min, integer=chord_val_integer)\n",
    "        for t in range(3):\n",
    "            chord_fig = plotChordDiagram(links, nodes, group_n=t)\n",
    "            brain_map_fig, _ = plotInputBrainMap(fvals[t], df, target_bndx, Z, back_img, brain_map_reduce, vmax=vmax, symmetric_vmax=bSymmetric_vmax)\n",
    "            \n",
    "            # SAVE PLOT\n",
    "            plot_fn = \"{}_target={}_window={}\".format(\n",
    "                f.fishid, target_name, t)\n",
    "            hv.output(chord_fig, filename=plot_dir+plot_fn+\"_fval.svg\")\n",
    "            brain_map_fig.savefig(plot_dir+plot_fn+\"_brain_map.svg\")\n",
    "\n",
    "        print('Done', f.fishid)#, fn)\n",
    "        if bOneFish:\n",
    "            break\n",
    "    if bOneFish:\n",
    "        break"
   ]
  },
  {
   "cell_type": "code",
   "execution_count": null,
   "metadata": {},
   "outputs": [],
   "source": [
    "plt.ion()"
   ]
  },
  {
   "cell_type": "code",
   "execution_count": null,
   "metadata": {},
   "outputs": [],
   "source": [
    "import torch\n",
    "def corrcoef(x):\n",
    "    # calculate covariance matrix of rows\n",
    "    mean_x = torch.mean(x, 1, keepdim=True)\n",
    "    xm = x.sub(mean_x.expand_as(x))\n",
    "    c = xm.mm(xm.t())\n",
    "    c = c / (x.size(1) - 1)\n",
    "\n",
    "    # normalize covariance matrix\n",
    "    d = torch.diag(c)\n",
    "    stddev = torch.pow(d, 0.5)\n",
    "    c = c.div(stddev.expand_as(c)+1e-8)\n",
    "    c = c.div(stddev.expand_as(c).t()+1e-8)\n",
    "\n",
    "    # clamp between -1 and 1\n",
    "    # probably not necessary but numpy does it\n",
    "    c = torch.clamp(c, -1.0, 1.0)\n",
    "\n",
    "    return c"
   ]
  },
  {
   "cell_type": "code",
   "execution_count": null,
   "metadata": {},
   "outputs": [],
   "source": [
    "j = torch.from_numpy(Js[0])"
   ]
  },
  {
   "cell_type": "code",
   "execution_count": null,
   "metadata": {},
   "outputs": [],
   "source": [
    "j.cuda()"
   ]
  },
  {
   "cell_type": "code",
   "execution_count": null,
   "metadata": {},
   "outputs": [],
   "source": [
    "row_corr = np.corrcoef(Js[0])"
   ]
  },
  {
   "cell_type": "code",
   "execution_count": null,
   "metadata": {},
   "outputs": [],
   "source": [
    "row_linkage = hierarchy.linkage(\n",
    "    distance.pdist(row_corr), method='ward')"
   ]
  },
  {
   "cell_type": "code",
   "execution_count": null,
   "metadata": {},
   "outputs": [],
   "source": [
    "col_corr = np.corrcoef(Js[0].T)\n",
    "col_linkage = hierarchy.linkage(\n",
    "    distance.pdist(col_corr.T), method='ward')"
   ]
  },
  {
   "cell_type": "code",
   "execution_count": null,
   "metadata": {},
   "outputs": [],
   "source": [
    "from scipy.cluster import hierarchy"
   ]
  },
  {
   "cell_type": "code",
   "execution_count": null,
   "metadata": {},
   "outputs": [],
   "source": [
    "g_nclust = 10\n",
    "row_clusters = hierarchy.fcluster(row_linkage,g_nclust,criterion='maxclust')\n",
    "col_clusters = hierarchy.fcluster(col_linkage,g_nclust,criterion='maxclust')"
   ]
  },
  {
   "cell_type": "code",
   "execution_count": null,
   "metadata": {},
   "outputs": [],
   "source": [
    "vmax = max(np.abs(np.percentile(G,0.01)), np.abs(np.percentile(G,0.99)))"
   ]
  },
  {
   "cell_type": "code",
   "execution_count": null,
   "metadata": {},
   "outputs": [],
   "source": [
    "cm = sb.clustermap(G.cpu().numpy(), row_linkage=row_linkage, row_colors=[cm_cycle(c) for c in row_clusters],\n",
    "        col_linkage=col_linkage, col_colors=[cm_cycle(c) for c in col_clusters],\n",
    "        figsize=(20, 20),cmap=\"RdBu_r\", vmin=-vmax,vmax=vmax)"
   ]
  },
  {
   "cell_type": "code",
   "execution_count": null,
   "metadata": {},
   "outputs": [],
   "source": [
    "plt.figure(figsize=(20,20))\n",
    "plt.imshow(Js[0])\n",
    "plt.colorbar()"
   ]
  },
  {
   "cell_type": "code",
   "execution_count": null,
   "metadata": {},
   "outputs": [],
   "source": [
    "plt.figure(figsize=(20,20))\n",
    "plt.imshow(Js[1])\n",
    "plt.colorbar()"
   ]
  },
  {
   "cell_type": "markdown",
   "metadata": {},
   "source": [
    "# Dev"
   ]
  },
  {
   "cell_type": "code",
   "execution_count": null,
   "metadata": {},
   "outputs": [],
   "source": [
    "# turn on interactive plotting\n",
    "plt.ion()"
   ]
  },
  {
   "cell_type": "code",
   "execution_count": null,
   "metadata": {},
   "outputs": [],
   "source": [
    "Z = np.arange(0,f.num_zplanes)\n",
    "nZ = len(Z)\n",
    "back_img = []\n",
    "for z in Z:\n",
    "    back_img.append(np.power(f.get_tif_rasl_as_vol(z,range(1,200)).mean(axis=2),.4))"
   ]
  },
  {
   "cell_type": "code",
   "execution_count": null,
   "metadata": {},
   "outputs": [],
   "source": [
    "plotDeltaInputBrainMap(fvals[0], fvals[2], df, target_bndx, Z, back_img, np.mean);"
   ]
  },
  {
   "cell_type": "code",
   "execution_count": null,
   "metadata": {},
   "outputs": [],
   "source": [
    "plotInputBrainMap(fvals[0], df, target_bndx, Z, back_img, np.mean);"
   ]
  },
  {
   "cell_type": "code",
   "execution_count": null,
   "metadata": {},
   "outputs": [],
   "source": [
    "target_name = \"r_raphe\"\n",
    "target_bndx = np.array(df[\"in_\"+target_name])\n",
    "region_bndxs = [np.array(df[r]) for r in regions]\n",
    "o = plotInputChordDiagram(fvals, target_bndx, region_bndxs,\n",
    "                                          target_name, region_names,\n",
    "                          lambda x: sum(x>1.5), 1, integer=True)\n",
    "dat, links, nodes = o"
   ]
  },
  {
   "cell_type": "code",
   "execution_count": null,
   "metadata": {},
   "outputs": [],
   "source": [
    "options = {\"Chord\": {\"label_index\": 'name', \"color_index\": 'name', \"edge_color_index\": 'source', \n",
    "          \"cmap\": 'Category20', \"edge_cmap\": 'Category20'}}\n",
    "fig = hv.Chord((links.query('group==0'), nodes), ['source', 'target'], ['value']).options(options)\n",
    "fig"
   ]
  },
  {
   "cell_type": "code",
   "execution_count": null,
   "metadata": {},
   "outputs": [],
   "source": [
    "hv.output(fig, filename=\"test.svg\")"
   ]
  },
  {
   "cell_type": "code",
   "execution_count": null,
   "metadata": {},
   "outputs": [],
   "source": [
    "fig"
   ]
  },
  {
   "cell_type": "code",
   "execution_count": null,
   "metadata": {},
   "outputs": [],
   "source": [
    "dat, links, nodes = plotDeltaInputChordDiagram([fvals+100, fvals],\n",
    "                                               [fvals, fvals*2],\n",
    "                           target_bndx, region_bndxs, \n",
    "                           target_name, region_names, np.mean)"
   ]
  },
  {
   "cell_type": "code",
   "execution_count": null,
   "metadata": {},
   "outputs": [],
   "source": []
  }
 ],
 "metadata": {
  "kernelspec": {
   "display_name": "Environment (conda_pytorch_p27)",
   "language": "python",
   "name": "conda_pytorch_p27"
  },
  "language_info": {
   "codemirror_mode": {
    "name": "ipython",
    "version": 2
   },
   "file_extension": ".py",
   "mimetype": "text/x-python",
   "name": "python",
   "nbconvert_exporter": "python",
   "pygments_lexer": "ipython2",
   "version": "2.7.14"
  }
 },
 "nbformat": 4,
 "nbformat_minor": 2
}
