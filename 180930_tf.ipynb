{
 "cells": [
  {
   "cell_type": "code",
   "execution_count": 1,
   "metadata": {},
   "outputs": [
    {
     "data": {
      "text/plain": [
       "2"
      ]
     },
     "execution_count": 1,
     "metadata": {},
     "output_type": "execute_result"
    }
   ],
   "source": [
    "2"
   ]
  },
  {
   "cell_type": "code",
   "execution_count": 2,
   "metadata": {},
   "outputs": [
    {
     "name": "stderr",
     "output_type": "stream",
     "text": [
      "/home/ubuntu/anaconda3/envs/tensorflow_p27/lib/python2.7/site-packages/matplotlib/__init__.py:1067: UserWarning: Duplicate key in file \"/home/ubuntu/.config/matplotlib/matplotlibrc\", line #2\n",
      "  (fname, cnt))\n",
      "/home/ubuntu/anaconda3/envs/tensorflow_p27/lib/python2.7/site-packages/matplotlib/__init__.py:1067: UserWarning: Duplicate key in file \"/home/ubuntu/.config/matplotlib/matplotlibrc\", line #3\n",
      "  (fname, cnt))\n"
     ]
    },
    {
     "name": "stdout",
     "output_type": "stream",
     "text": [
      "Using matplotlib backend: agg\n",
      "Populating the interactive namespace from numpy and matplotlib\n"
     ]
    },
    {
     "name": "stderr",
     "output_type": "stream",
     "text": [
      "/home/ubuntu/anaconda3/envs/tensorflow_p27/lib/python2.7/site-packages/h5py/__init__.py:36: FutureWarning: Conversion of the second argument of issubdtype from `float` to `np.floating` is deprecated. In future, it will be treated as `np.float64 == np.dtype(float).type`.\n",
      "  from ._conv import register_converters as _register_converters\n"
     ]
    },
    {
     "ename": "NameError",
     "evalue": "name 'T' is not defined",
     "output_type": "error",
     "traceback": [
      "\u001b[0;31m\u001b[0m",
      "\u001b[0;31mNameError\u001b[0mTraceback (most recent call last)",
      "\u001b[0;32m<ipython-input-2-0288f89bd309>\u001b[0m in \u001b[0;36m<module>\u001b[0;34m()\u001b[0m\n\u001b[1;32m     79\u001b[0m \u001b[0mneurons\u001b[0m \u001b[0;34m=\u001b[0m \u001b[0mneurons\u001b[0m\u001b[0;34m[\u001b[0m\u001b[0;34m:\u001b[0m\u001b[0;34m,\u001b[0m\u001b[0mneuron_ids\u001b[0m\u001b[0;34m]\u001b[0m\u001b[0;34m\u001b[0m\u001b[0m\n\u001b[1;32m     80\u001b[0m \u001b[0;34m\u001b[0m\u001b[0m\n\u001b[0;32m---> 81\u001b[0;31m \u001b[0mneurons\u001b[0m \u001b[0;34m=\u001b[0m \u001b[0mT\u001b[0m\u001b[0;34m.\u001b[0m\u001b[0mfrom_numpy\u001b[0m\u001b[0;34m(\u001b[0m\u001b[0mdf_f\u001b[0m\u001b[0;34m(\u001b[0m\u001b[0mneurons\u001b[0m\u001b[0;34m)\u001b[0m\u001b[0;34m.\u001b[0m\u001b[0mastype\u001b[0m\u001b[0;34m(\u001b[0m\u001b[0mnp\u001b[0m\u001b[0;34m.\u001b[0m\u001b[0mfloat32\u001b[0m\u001b[0;34m)\u001b[0m\u001b[0;34m)\u001b[0m\u001b[0;34m.\u001b[0m\u001b[0mcuda\u001b[0m\u001b[0;34m(\u001b[0m\u001b[0;34m)\u001b[0m\u001b[0;34m\u001b[0m\u001b[0m\n\u001b[0m\u001b[1;32m     82\u001b[0m \u001b[0mneurons\u001b[0m \u001b[0;34m=\u001b[0m \u001b[0;34m(\u001b[0m\u001b[0mneurons\u001b[0m \u001b[0;34m-\u001b[0m \u001b[0mneurons\u001b[0m\u001b[0;34m.\u001b[0m\u001b[0mmean\u001b[0m\u001b[0;34m(\u001b[0m\u001b[0;36m0\u001b[0m\u001b[0;34m)\u001b[0m\u001b[0;34m)\u001b[0m\u001b[0;34m/\u001b[0m\u001b[0;34m(\u001b[0m\u001b[0mneurons\u001b[0m\u001b[0;34m.\u001b[0m\u001b[0mstd\u001b[0m\u001b[0;34m(\u001b[0m\u001b[0;36m0\u001b[0m\u001b[0;34m)\u001b[0m\u001b[0;34m+\u001b[0m\u001b[0;36m1e-8\u001b[0m\u001b[0;34m)\u001b[0m\u001b[0;34m\u001b[0m\u001b[0m\n",
      "\u001b[0;31mNameError\u001b[0m: name 'T' is not defined"
     ]
    }
   ],
   "source": [
    "import seaborn as sns\n",
    "\n",
    "import sklearn\n",
    "from sklearn.cluster.bicluster import SpectralBiclustering\n",
    "from sklearn.cluster.bicluster import SpectralCoclustering\n",
    "from sklearn.metrics import consensus_score\n",
    "\n",
    "import scipy.linalg\n",
    "from functools import partial\n",
    "%pylab\n",
    "%matplotlib inline\n",
    "import matplotlib as mpl\n",
    "import matplotlib.gridspec as gridspec\n",
    "import scipy.sparse as sparse\n",
    "from scipy import stats\n",
    "from __future__ import print_function\n",
    "import gc\n",
    "from tqdm import tqdm_notebook as tqdm\n",
    "from __future__ import division\n",
    "import pandas as pd\n",
    "import seaborn as sb\n",
    "import os\n",
    "from scipy.spatial import distance\n",
    "from scipy.cluster import hierarchy\n",
    "from pandas import DataFrame\n",
    "\n",
    "import os, sys, datetime\n",
    "LF_CODE_PATH = os.path.expanduser('~/projects/LFAnalyze/code')\n",
    "FT_CODE_PATH = os.path.expanduser('~/projects/fishTrax/code/analysis/')\n",
    "FD_CODE_PATH = os.path.expanduser('~/projects/fish_despair_notebooks/src/')\n",
    "sys.path.insert(0,LF_CODE_PATH)\n",
    "sys.path.insert(0,FT_CODE_PATH)\n",
    "sys.path.insert(0,FD_CODE_PATH)\n",
    "\n",
    "import passivity_2p_imaging_utils as p2putils\n",
    "import visualization_utils as vizutil\n",
    "reload(p2putils)\n",
    "tmp_dir = '/tmp/'\n",
    "all_data = p2putils.get_all_datasets(tmp_dir=tmp_dir)\n",
    "\n",
    "f = all_data['e'][2]\n",
    "\n",
    "# import tensorflow as tf\n",
    "# tf.enable_eager_execution()\n",
    "\n",
    "\n",
    "# df, sig = f.get_cnmf_roi_table_and_signals()\n",
    "M = f.get_signals_raw(z=None)\n",
    "\n",
    "# data = np.load(\"../cnmf_f01555.npz\")\n",
    "# cnmf = data['cnmf'].astype(np.float32)\n",
    "# raw = data['raw'].astype(np.float32)\n",
    "# del data\n",
    "\n",
    "def moving_average(a, n=3):\n",
    "    # a is a signal\n",
    "    ret = np.cumsum(a,0) # sum over time\n",
    "    ret[n:] = ret[n:] - ret[:-n] # diff of n samples back\n",
    "    rm = ret[n - 1:] / n\n",
    "    pad_start = np.full((n-1,rm.shape[1]), rm[0])\n",
    "    return np.vstack([pad_start, rm])\n",
    "\n",
    "def ewma(data,span):\n",
    "    \"exponential weighted moving average.\"\n",
    "    df = DataFrame(data)\n",
    "    return df.ewm(span).mean().values\n",
    "\n",
    "def df_f(x,ma_window=6,span=6):\n",
    "    u = moving_average(x,ma_window)\n",
    "    return ewma((x - u)/u, span)\n",
    "\n",
    "# neurons = sig.T\n",
    "neurons = M.T\n",
    "\n",
    "neuron_ids = np.sort(np.argsort(neurons.std(0))[-5000:])\n",
    "df = f.get_roi_table()\n",
    "df = df.iloc[neuron_ids]\n",
    "df.reset_index(drop=True, inplace=True)\n",
    "neurons = neurons[:,neuron_ids]\n",
    "\n",
    "neurons = T.from_numpy(df_f(neurons).astype(np.float32)).cuda()\n",
    "neurons = (neurons - neurons.mean(0))/(neurons.std(0)+1e-8)"
   ]
  },
  {
   "cell_type": "code",
   "execution_count": null,
   "metadata": {},
   "outputs": [],
   "source": [
    "df.head()"
   ]
  },
  {
   "cell_type": "code",
   "execution_count": 5,
   "metadata": {},
   "outputs": [
    {
     "data": {
      "text/plain": [
       "<tf.Tensor 'ones_2:0' shape=(5, 2) dtype=float32>"
      ]
     },
     "execution_count": 5,
     "metadata": {},
     "output_type": "execute_result"
    }
   ],
   "source": [
    "tf.ones([5,2])"
   ]
  },
  {
   "cell_type": "code",
   "execution_count": 3,
   "metadata": {},
   "outputs": [
    {
     "data": {
      "text/plain": [
       "TensorShape([Dimension(6), Dimension(1)])"
      ]
     },
     "execution_count": 3,
     "metadata": {},
     "output_type": "execute_result"
    }
   ],
   "source": [
    "tf.ones([6, 1]).shape"
   ]
  },
  {
   "cell_type": "code",
   "execution_count": 43,
   "metadata": {},
   "outputs": [
    {
     "ename": "TypeError",
     "evalue": "__init__() takes exactly 4 arguments (2 given)",
     "output_type": "error",
     "traceback": [
      "\u001b[0;31m\u001b[0m",
      "\u001b[0;31mTypeError\u001b[0mTraceback (most recent call last)",
      "\u001b[0;32m<ipython-input-43-80487a31ca6f>\u001b[0m in \u001b[0;36m<module>\u001b[0;34m()\u001b[0m\n\u001b[0;32m----> 1\u001b[0;31m \u001b[0mtf\u001b[0m\u001b[0;34m.\u001b[0m\u001b[0mTensor\u001b[0m\u001b[0;34m(\u001b[0m\u001b[0mnp\u001b[0m\u001b[0;34m.\u001b[0m\u001b[0marange\u001b[0m\u001b[0;34m(\u001b[0m\u001b[0;36m5\u001b[0m\u001b[0;34m)\u001b[0m\u001b[0;34m)\u001b[0m\u001b[0;34m\u001b[0m\u001b[0m\n\u001b[0m",
      "\u001b[0;31mTypeError\u001b[0m: __init__() takes exactly 4 arguments (2 given)"
     ]
    }
   ],
   "source": [
    "tf.Tensor(np.arange(5))"
   ]
  },
  {
   "cell_type": "code",
   "execution_count": 56,
   "metadata": {},
   "outputs": [
    {
     "name": "stdout",
     "output_type": "stream",
     "text": [
      "tf vs numpy\n",
      "[-0.17200707 -0.17200707  0.44842334] \n",
      " [-0.17200707 -0.17200707  0.44842334]\n",
      "residuals 0.473876291477 0.47387629147726723\n"
     ]
    }
   ],
   "source": [
    "def construct_pairwise_batches(X, lag=1, bias=True):\n",
    "    \"constructs batch x nT-lag x nBeta. i*ncol+j index is granger model of influence from i->j.\"\n",
    "    nT, N = X.shape\n",
    "    granger = np.ones([N**2,nT-lag,2*lag+bias])\n",
    "    null = np.ones([N**2,nT-lag,lag+bias])\n",
    "    newY = np.ones([N**2,nT-lag,1])\n",
    "    Y = X[lag:]\n",
    "    # time x neuron x lag\n",
    "    l = 0\n",
    "    X_lag = np.concatenate([X[l:-(lag-l)][:,:,None] for l in reversed(range(lag))], 2)\n",
    "    biasTerm = np.ones([nT-lag,1])\n",
    "    for n1 in range(N):\n",
    "        for n2 in range(N):\n",
    "            if bias:\n",
    "                grow = np.concatenate([X_lag[:,n1], X_lag[:,n2], biasTerm], 1)\n",
    "                nrow = np.concatenate([X_lag[:,n2], biasTerm], 1)\n",
    "            else:\n",
    "                grow = np.concatenate([X_lag[:,n1], X_lag[:,n2]], 1)\n",
    "                nrow = np.concatenate([X_lag[:,n2]], 1)\n",
    "            granger[n1*N+n2] = grow\n",
    "            null[n1*N+n2] = nrow\n",
    "            newY[n1*N+n2] = Y[:,[n2]]\n",
    "    return newY, granger, null\n",
    "\n",
    "x = np.random.rand(7,3)\n",
    "Y, x_granger, x_null = construct_pairwise_batches(x,1, True)\n",
    "\n",
    "def tf_ols(X, Y):\n",
    "    with tf.Session() as sess:\n",
    "        gbeta = tf.matrix_solve_ls(tf.convert_to_tensor(X), tf.convert_to_tensor(Y), fast=False)\n",
    "        g_residuals = tf.reduce_sum(((tf.matmul(X,gbeta) - Y)**2)[:,:,0], 1)\n",
    "        gbeta, g_residuals = sess.run([gbeta, g_residuals])\n",
    "    return gbeta, g_residuals\n",
    "\n",
    "gbeta, g_residuals = tf_ols(x_granger, Y)\n",
    "\n",
    "# g_residuals_single = ((T.matmul(x_granger[0],gbeta_single) - Y[0])**2).sum()\n",
    "# n_residuals = T.matmul(x_null,nbeta)[:,:,0].sum(1)\n",
    "\n",
    "np_beta, _ = np.linalg.lstsq(x_granger[0], Y[0], rcond=None)[0:2]\n",
    "np_res = sum((np.matmul(x_granger[0],np_beta) - Y[0])**2)\n",
    "print(\"tf vs numpy\")\n",
    "print(gbeta[0,:,0],\"\\n\", np_beta[:,0])\n",
    "print(\"residuals\", float(g_residuals[0]), np_res)"
   ]
  },
  {
   "cell_type": "code",
   "execution_count": 64,
   "metadata": {},
   "outputs": [
    {
     "ename": "KeyboardInterrupt",
     "evalue": "",
     "output_type": "error",
     "traceback": [
      "\u001b[0;31m\u001b[0m",
      "\u001b[0;31mKeyboardInterrupt\u001b[0mTraceback (most recent call last)",
      "\u001b[0;32m<ipython-input-64-9a7256bd3bdc>\u001b[0m in \u001b[0;36m<module>\u001b[0;34m()\u001b[0m\n\u001b[1;32m      1\u001b[0m \u001b[0mx\u001b[0m \u001b[0;34m=\u001b[0m \u001b[0mnp\u001b[0m\u001b[0;34m.\u001b[0m\u001b[0mrandom\u001b[0m\u001b[0;34m.\u001b[0m\u001b[0mrand\u001b[0m\u001b[0;34m(\u001b[0m\u001b[0;36m2800\u001b[0m\u001b[0;34m,\u001b[0m\u001b[0;36m1000\u001b[0m\u001b[0;34m)\u001b[0m\u001b[0;34m\u001b[0m\u001b[0m\n\u001b[0;32m----> 2\u001b[0;31m \u001b[0mY\u001b[0m\u001b[0;34m,\u001b[0m \u001b[0mx_granger\u001b[0m\u001b[0;34m,\u001b[0m \u001b[0mx_null\u001b[0m \u001b[0;34m=\u001b[0m \u001b[0mconstruct_pairwise_batches\u001b[0m\u001b[0;34m(\u001b[0m\u001b[0mx\u001b[0m\u001b[0;34m,\u001b[0m\u001b[0;36m1\u001b[0m\u001b[0;34m,\u001b[0m \u001b[0mTrue\u001b[0m\u001b[0;34m)\u001b[0m\u001b[0;34m\u001b[0m\u001b[0m\n\u001b[0m",
      "\u001b[0;32m<ipython-input-56-b70bd2a60e2c>\u001b[0m in \u001b[0;36mconstruct_pairwise_batches\u001b[0;34m(X, lag, bias)\u001b[0m\n\u001b[1;32m     13\u001b[0m         \u001b[0;32mfor\u001b[0m \u001b[0mn2\u001b[0m \u001b[0;32min\u001b[0m \u001b[0mrange\u001b[0m\u001b[0;34m(\u001b[0m\u001b[0mN\u001b[0m\u001b[0;34m)\u001b[0m\u001b[0;34m:\u001b[0m\u001b[0;34m\u001b[0m\u001b[0m\n\u001b[1;32m     14\u001b[0m             \u001b[0;32mif\u001b[0m \u001b[0mbias\u001b[0m\u001b[0;34m:\u001b[0m\u001b[0;34m\u001b[0m\u001b[0m\n\u001b[0;32m---> 15\u001b[0;31m                 \u001b[0mgrow\u001b[0m \u001b[0;34m=\u001b[0m \u001b[0mnp\u001b[0m\u001b[0;34m.\u001b[0m\u001b[0mconcatenate\u001b[0m\u001b[0;34m(\u001b[0m\u001b[0;34m[\u001b[0m\u001b[0mX_lag\u001b[0m\u001b[0;34m[\u001b[0m\u001b[0;34m:\u001b[0m\u001b[0;34m,\u001b[0m\u001b[0mn1\u001b[0m\u001b[0;34m]\u001b[0m\u001b[0;34m,\u001b[0m \u001b[0mX_lag\u001b[0m\u001b[0;34m[\u001b[0m\u001b[0;34m:\u001b[0m\u001b[0;34m,\u001b[0m\u001b[0mn2\u001b[0m\u001b[0;34m]\u001b[0m\u001b[0;34m,\u001b[0m \u001b[0mbiasTerm\u001b[0m\u001b[0;34m]\u001b[0m\u001b[0;34m,\u001b[0m \u001b[0;36m1\u001b[0m\u001b[0;34m)\u001b[0m\u001b[0;34m\u001b[0m\u001b[0m\n\u001b[0m\u001b[1;32m     16\u001b[0m                 \u001b[0mnrow\u001b[0m \u001b[0;34m=\u001b[0m \u001b[0mnp\u001b[0m\u001b[0;34m.\u001b[0m\u001b[0mconcatenate\u001b[0m\u001b[0;34m(\u001b[0m\u001b[0;34m[\u001b[0m\u001b[0mX_lag\u001b[0m\u001b[0;34m[\u001b[0m\u001b[0;34m:\u001b[0m\u001b[0;34m,\u001b[0m\u001b[0mn2\u001b[0m\u001b[0;34m]\u001b[0m\u001b[0;34m,\u001b[0m \u001b[0mbiasTerm\u001b[0m\u001b[0;34m]\u001b[0m\u001b[0;34m,\u001b[0m \u001b[0;36m1\u001b[0m\u001b[0;34m)\u001b[0m\u001b[0;34m\u001b[0m\u001b[0m\n\u001b[1;32m     17\u001b[0m             \u001b[0;32melse\u001b[0m\u001b[0;34m:\u001b[0m\u001b[0;34m\u001b[0m\u001b[0m\n",
      "\u001b[0;31mKeyboardInterrupt\u001b[0m: "
     ]
    }
   ],
   "source": [
    "x = np.random.rand(2800,1000)\n",
    "Y, x_granger, x_null = construct_pairwise_batches(x,1, True)"
   ]
  },
  {
   "cell_type": "code",
   "execution_count": null,
   "metadata": {},
   "outputs": [],
   "source": [
    "%time\n",
    "gbeta, g_residuals = tf_ols(x_granger, Y)"
   ]
  },
  {
   "cell_type": "code",
   "execution_count": 63,
   "metadata": {},
   "outputs": [
    {
     "data": {
      "text/plain": [
       "(10000, 3, 1)"
      ]
     },
     "execution_count": 63,
     "metadata": {},
     "output_type": "execute_result"
    }
   ],
   "source": [
    "gbeta.shape"
   ]
  },
  {
   "cell_type": "code",
   "execution_count": 35,
   "metadata": {},
   "outputs": [
    {
     "ename": "ValueError",
     "evalue": "zero-dimensional arrays cannot be concatenated",
     "output_type": "error",
     "traceback": [
      "\u001b[0;31m\u001b[0m",
      "\u001b[0;31mValueError\u001b[0mTraceback (most recent call last)",
      "\u001b[0;32m<ipython-input-35-fde55a10c65d>\u001b[0m in \u001b[0;36m<module>\u001b[0;34m()\u001b[0m\n\u001b[0;32m----> 1\u001b[0;31m \u001b[0mnp\u001b[0m\u001b[0;34m.\u001b[0m\u001b[0mconcatenate\u001b[0m\u001b[0;34m(\u001b[0m\u001b[0;34m[\u001b[0m\u001b[0;36m1\u001b[0m\u001b[0;34m,\u001b[0m\u001b[0;36m2\u001b[0m\u001b[0;34m,\u001b[0m\u001b[0;36m3\u001b[0m\u001b[0;34m]\u001b[0m\u001b[0;34m)\u001b[0m\u001b[0;34m\u001b[0m\u001b[0m\n\u001b[0m",
      "\u001b[0;31mValueError\u001b[0m: zero-dimensional arrays cannot be concatenated"
     ]
    }
   ],
   "source": [
    "np.concatenate([1,2,3])"
   ]
  },
  {
   "cell_type": "code",
   "execution_count": 5,
   "metadata": {},
   "outputs": [
    {
     "name": "stdout",
     "output_type": "stream",
     "text": [
      "pytorch vs numpy\n",
      "batch [1.9759694 1.9759694 3.7562916] \n",
      " [-0.1206158  -0.1206158   0.76239705]\n",
      "single [-0.1206159  -0.1206159   0.76239717] \n",
      " [-0.1206158  -0.1206158   0.76239705]\n",
      "batch residuals 184.001693726 0.6442907\n",
      "single residuals tensor(0.6443) 0.6442907\n"
     ]
    }
   ],
   "source": [
    "def ols_tf(X, Y):\n",
    "    \n",
    "x = T.rand(7,3)\n",
    "Y, x_granger, x_null = construct_pairwise_batches(x,1, True)\n",
    "\n",
    "gbeta = ols(x_granger, Y)\n",
    "gbeta_single = ols_single(x_granger[0], Y[0])\n",
    "nbeta = ols(x_null, Y)\n",
    "g_residuals = ((T.matmul(x_granger,gbeta) - Y)**2)[:,:,0].sum(1)\n",
    "g_residuals_single = ((T.matmul(x_granger[0],gbeta_single) - Y[0])**2).sum()\n",
    "n_residuals = T.matmul(x_null,nbeta)[:,:,0].sum(1)\n",
    "\n",
    "np_beta, _ = np.linalg.lstsq(x_granger[0].numpy(), Y[0].numpy(), rcond=None)[0:2]\n",
    "np_res = sum((np.matmul(x_granger[0].numpy(),np_beta) - Y[0].numpy())**2)\n",
    "print(\"pytorch vs numpy\")\n",
    "print(\"batch\", gbeta[0,:,0].numpy(),\"\\n\", np_beta[:,0])\n",
    "print(\"single\", gbeta_single[:,0].numpy(),\"\\n\", np_beta[:,0])\n",
    "print(\"batch residuals\", float(g_residuals[0]), np_res)\n",
    "print(\"single residuals\", g_residuals_single, np_res)"
   ]
  },
  {
   "cell_type": "code",
   "execution_count": 8,
   "metadata": {},
   "outputs": [
    {
     "ename": "TypeError",
     "evalue": "must be real number, not NoneType",
     "output_type": "error",
     "traceback": [
      "\u001b[0;31m---------------------------------------------------------------------------\u001b[0m",
      "\u001b[0;31mTypeError\u001b[0m                                 Traceback (most recent call last)",
      "\u001b[0;32m<ipython-input-8-8588b3f6b33d>\u001b[0m in \u001b[0;36m<module>\u001b[0;34m()\u001b[0m\n\u001b[0;32m----> 1\u001b[0;31m \u001b[0mnp_beta\u001b[0m\u001b[0;34m,\u001b[0m \u001b[0m_\u001b[0m \u001b[0;34m=\u001b[0m \u001b[0mnp\u001b[0m\u001b[0;34m.\u001b[0m\u001b[0mlinalg\u001b[0m\u001b[0;34m.\u001b[0m\u001b[0mlstsq\u001b[0m\u001b[0;34m(\u001b[0m\u001b[0mx_granger\u001b[0m\u001b[0;34m[\u001b[0m\u001b[0;36m0\u001b[0m\u001b[0;34m]\u001b[0m\u001b[0;34m.\u001b[0m\u001b[0mnumpy\u001b[0m\u001b[0;34m(\u001b[0m\u001b[0;34m)\u001b[0m\u001b[0;34m,\u001b[0m \u001b[0mY\u001b[0m\u001b[0;34m[\u001b[0m\u001b[0;36m0\u001b[0m\u001b[0;34m]\u001b[0m\u001b[0;34m.\u001b[0m\u001b[0mnumpy\u001b[0m\u001b[0;34m(\u001b[0m\u001b[0;34m)\u001b[0m\u001b[0;34m,\u001b[0m \u001b[0mrcond\u001b[0m\u001b[0;34m=\u001b[0m\u001b[0;32mNone\u001b[0m\u001b[0;34m)\u001b[0m\u001b[0;34m[\u001b[0m\u001b[0;36m0\u001b[0m\u001b[0;34m:\u001b[0m\u001b[0;36m2\u001b[0m\u001b[0;34m]\u001b[0m\u001b[0;34m\u001b[0m\u001b[0m\n\u001b[0m",
      "\u001b[0;32m~/lib/anaconda3/lib/python3.6/site-packages/numpy/linalg/linalg.py\u001b[0m in \u001b[0;36mlstsq\u001b[0;34m(a, b, rcond)\u001b[0m\n\u001b[1;32m   1951\u001b[0m         \u001b[0mwork\u001b[0m \u001b[0;34m=\u001b[0m \u001b[0mzeros\u001b[0m\u001b[0;34m(\u001b[0m\u001b[0;34m(\u001b[0m\u001b[0mlwork\u001b[0m\u001b[0;34m,\u001b[0m\u001b[0;34m)\u001b[0m\u001b[0;34m,\u001b[0m \u001b[0mt\u001b[0m\u001b[0;34m)\u001b[0m\u001b[0;34m\u001b[0m\u001b[0m\n\u001b[1;32m   1952\u001b[0m         results = lapack_routine(m, n, n_rhs, a, m, bstar, ldb, s, rcond,\n\u001b[0;32m-> 1953\u001b[0;31m                                  0, work, -1, iwork, 0)\n\u001b[0m\u001b[1;32m   1954\u001b[0m         \u001b[0mlwork\u001b[0m \u001b[0;34m=\u001b[0m \u001b[0mint\u001b[0m\u001b[0;34m(\u001b[0m\u001b[0mwork\u001b[0m\u001b[0;34m[\u001b[0m\u001b[0;36m0\u001b[0m\u001b[0;34m]\u001b[0m\u001b[0;34m)\u001b[0m\u001b[0;34m\u001b[0m\u001b[0m\n\u001b[1;32m   1955\u001b[0m         \u001b[0mwork\u001b[0m \u001b[0;34m=\u001b[0m \u001b[0mzeros\u001b[0m\u001b[0;34m(\u001b[0m\u001b[0;34m(\u001b[0m\u001b[0mlwork\u001b[0m\u001b[0;34m,\u001b[0m\u001b[0;34m)\u001b[0m\u001b[0;34m,\u001b[0m \u001b[0mt\u001b[0m\u001b[0;34m)\u001b[0m\u001b[0;34m\u001b[0m\u001b[0m\n",
      "\u001b[0;31mTypeError\u001b[0m: must be real number, not NoneType"
     ]
    }
   ],
   "source": [
    "np_beta, _ = np.linalg.lstsq(x_granger[0].numpy(), Y[0].numpy(), rcond=None)[0:2]"
   ]
  },
  {
   "cell_type": "code",
   "execution_count": 10,
   "metadata": {},
   "outputs": [
    {
     "data": {
      "text/plain": [
       "array([[ 0.15112823,  0.15112823,  1.        ],\n",
       "       [ 0.76432306,  0.76432306,  1.        ],\n",
       "       [ 0.28615254,  0.28615254,  1.        ],\n",
       "       [ 0.37601125,  0.37601125,  1.        ],\n",
       "       [ 0.20394307,  0.20394307,  1.        ],\n",
       "       [ 0.20240605,  0.20240605,  1.        ]], dtype=float32)"
      ]
     },
     "execution_count": 10,
     "metadata": {},
     "output_type": "execute_result"
    }
   ],
   "source": [
    "x_granger[0].numpy()"
   ]
  },
  {
   "cell_type": "code",
   "execution_count": 9,
   "metadata": {},
   "outputs": [
    {
     "data": {
      "text/plain": [
       "array([[ 0.76432306],\n",
       "       [ 0.28615254],\n",
       "       [ 0.37601125],\n",
       "       [ 0.20394307],\n",
       "       [ 0.20240605],\n",
       "       [ 0.83572507]], dtype=float32)"
      ]
     },
     "execution_count": 9,
     "metadata": {},
     "output_type": "execute_result"
    }
   ],
   "source": [
    "Y[0].numpy()"
   ]
  },
  {
   "cell_type": "code",
   "execution_count": 6,
   "metadata": {},
   "outputs": [
    {
     "data": {
      "text/plain": [
       "tensor([[[0.5681, 0.5681, 1.0000],\n",
       "         [0.7721, 0.7721, 1.0000],\n",
       "         [0.6990, 0.6990, 1.0000],\n",
       "         [0.5298, 0.5298, 1.0000],\n",
       "         [0.9802, 0.9802, 1.0000],\n",
       "         [0.0606, 0.0606, 1.0000]],\n",
       "\n",
       "        [[0.5681, 0.9459, 1.0000],\n",
       "         [0.7721, 0.0199, 1.0000],\n",
       "         [0.6990, 0.5527, 1.0000],\n",
       "         [0.5298, 0.8194, 1.0000],\n",
       "         [0.9802, 0.7203, 1.0000],\n",
       "         [0.0606, 0.0549, 1.0000]],\n",
       "\n",
       "        [[0.5681, 0.2576, 1.0000],\n",
       "         [0.7721, 0.4094, 1.0000],\n",
       "         [0.6990, 0.8284, 1.0000],\n",
       "         [0.5298, 0.4898, 1.0000],\n",
       "         [0.9802, 0.9050, 1.0000],\n",
       "         [0.0606, 0.9853, 1.0000]],\n",
       "\n",
       "        [[0.9459, 0.5681, 1.0000],\n",
       "         [0.0199, 0.7721, 1.0000],\n",
       "         [0.5527, 0.6990, 1.0000],\n",
       "         [0.8194, 0.5298, 1.0000],\n",
       "         [0.7203, 0.9802, 1.0000],\n",
       "         [0.0549, 0.0606, 1.0000]],\n",
       "\n",
       "        [[0.9459, 0.9459, 1.0000],\n",
       "         [0.0199, 0.0199, 1.0000],\n",
       "         [0.5527, 0.5527, 1.0000],\n",
       "         [0.8194, 0.8194, 1.0000],\n",
       "         [0.7203, 0.7203, 1.0000],\n",
       "         [0.0549, 0.0549, 1.0000]],\n",
       "\n",
       "        [[0.9459, 0.2576, 1.0000],\n",
       "         [0.0199, 0.4094, 1.0000],\n",
       "         [0.5527, 0.8284, 1.0000],\n",
       "         [0.8194, 0.4898, 1.0000],\n",
       "         [0.7203, 0.9050, 1.0000],\n",
       "         [0.0549, 0.9853, 1.0000]],\n",
       "\n",
       "        [[0.2576, 0.5681, 1.0000],\n",
       "         [0.4094, 0.7721, 1.0000],\n",
       "         [0.8284, 0.6990, 1.0000],\n",
       "         [0.4898, 0.5298, 1.0000],\n",
       "         [0.9050, 0.9802, 1.0000],\n",
       "         [0.9853, 0.0606, 1.0000]],\n",
       "\n",
       "        [[0.2576, 0.9459, 1.0000],\n",
       "         [0.4094, 0.0199, 1.0000],\n",
       "         [0.8284, 0.5527, 1.0000],\n",
       "         [0.4898, 0.8194, 1.0000],\n",
       "         [0.9050, 0.7203, 1.0000],\n",
       "         [0.9853, 0.0549, 1.0000]],\n",
       "\n",
       "        [[0.2576, 0.2576, 1.0000],\n",
       "         [0.4094, 0.4094, 1.0000],\n",
       "         [0.8284, 0.8284, 1.0000],\n",
       "         [0.4898, 0.4898, 1.0000],\n",
       "         [0.9050, 0.9050, 1.0000],\n",
       "         [0.9853, 0.9853, 1.0000]]])"
      ]
     },
     "execution_count": 6,
     "metadata": {},
     "output_type": "execute_result"
    }
   ],
   "source": [
    "x_granger"
   ]
  },
  {
   "cell_type": "code",
   "execution_count": 120,
   "metadata": {},
   "outputs": [],
   "source": [
    "x = T.rand(2800,500)\n",
    "Y, x_granger, x_null = construct_pairwise_batches(x,1, True)"
   ]
  },
  {
   "cell_type": "code",
   "execution_count": null,
   "metadata": {},
   "outputs": [],
   "source": []
  },
  {
   "cell_type": "code",
   "execution_count": 122,
   "metadata": {},
   "outputs": [
    {
     "name": "stdout",
     "output_type": "stream",
     "text": [
      "CPU times: user 5.27 ms, sys: 0 ns, total: 5.27 ms\n",
      "Wall time: 2.28 ms\n"
     ]
    }
   ],
   "source": [
    "%%time\n",
    "np_beta, _ = np.linalg.lstsq(x_granger[0], Y[0], rcond=None)[0:2]\n",
    "np_res = sum((np.matmul(x_granger[0].numpy(),np_beta) - Y[0].numpy())**2)"
   ]
  },
  {
   "cell_type": "code",
   "execution_count": 124,
   "metadata": {},
   "outputs": [
    {
     "data": {
      "text/plain": [
       "222.04225"
      ]
     },
     "execution_count": 124,
     "metadata": {},
     "output_type": "execute_result"
    }
   ],
   "source": [
    "np_res"
   ]
  },
  {
   "cell_type": "code",
   "execution_count": 118,
   "metadata": {},
   "outputs": [
    {
     "data": {
      "text/plain": [
       "18.75"
      ]
     },
     "execution_count": 118,
     "metadata": {},
     "output_type": "execute_result"
    }
   ],
   "source": [
    "3/10000*15000**2/60/60"
   ]
  },
  {
   "cell_type": "code",
   "execution_count": 84,
   "metadata": {},
   "outputs": [
    {
     "data": {
      "text/plain": [
       "dtype('float32')"
      ]
     },
     "execution_count": 84,
     "metadata": {},
     "output_type": "execute_result"
    }
   ],
   "source": [
    "np_beta.dtype"
   ]
  },
  {
   "cell_type": "code",
   "execution_count": 59,
   "metadata": {},
   "outputs": [
    {
     "data": {
      "text/plain": [
       "(6, 1)"
      ]
     },
     "execution_count": 59,
     "metadata": {},
     "output_type": "execute_result"
    }
   ],
   "source": [
    "np.matmul(x_granger[0].numpy(), np_beta).shape\n"
   ]
  },
  {
   "cell_type": "code",
   "execution_count": 26,
   "metadata": {},
   "outputs": [
    {
     "data": {
      "text/plain": [
       "array([[0.2073974 , 0.8812977 , 0.7992798 ],\n",
       "       [0.7542076 , 0.15377986, 0.43977767],\n",
       "       [0.8672233 , 0.9895245 , 0.3223688 ]], dtype=float32)"
      ]
     },
     "execution_count": 26,
     "metadata": {},
     "output_type": "execute_result"
    }
   ],
   "source": [
    "m.numpy()[0]"
   ]
  },
  {
   "cell_type": "code",
   "execution_count": 31,
   "metadata": {},
   "outputs": [
    {
     "name": "stdout",
     "output_type": "stream",
     "text": [
      "tensor([[ 2.4396,  4.0179, -4.3811],\n",
      "        [ 0.5671, 13.9223, -8.8159],\n",
      "        [-1.0968, -8.1438,  7.1031]]) [[ 2.4396143  4.017931  -4.381108 ]\n",
      " [ 0.5670625 13.922265  -8.815909 ]\n",
      " [-1.096764  -8.143784   7.1031103]]\n"
     ]
    }
   ],
   "source": [
    "m = T.rand(1,3,3)\n",
    "minv = batch_inverse(m)\n",
    "ninv = np.linalg.inv(m.numpy()[0])\n",
    "print(minv[0], ninv)"
   ]
  },
  {
   "cell_type": "code",
   "execution_count": 4,
   "metadata": {},
   "outputs": [
    {
     "name": "stdout",
     "output_type": "stream",
     "text": [
      "[ 0.08088723 -0.01808028 -0.33222944 -0.5440871  -0.03814803  0.8367273 ] \n",
      " [ 0.08088763 -0.01807992 -0.33222925 -0.54408743 -0.03814821  0.83672717]\n",
      "1.2584692239761353 [1.25846926]\n"
     ]
    }
   ],
   "source": [
    "def lm(X, Y, bias=True):\n",
    "    \"Fast linear regression\"\n",
    "    Y = Y[:,None]\n",
    "    if bias:\n",
    "        X = T.cat((X,T.ones(X.shape[0],1)),1)\n",
    "    res = T.mm(T.inverse(T.mm(X.t(),X)), X.t())\n",
    "    beta = T.mm(res, Y)\n",
    "    residuals = ((Y-T.mm(X,beta))**2).sum()\n",
    "    return beta, residuals\n",
    "\n",
    "x = T.rand(20,5)\n",
    "y = T.rand(20)\n",
    "A = np.hstack([x.numpy(), np.ones([20,1])])\n",
    "beta, residuals = lm(x, y)\n",
    "np_beta, np_res = np.linalg.lstsq(A, y, rcond=None)[0:2]\n",
    "print(beta[:,0].numpy(),\"\\n\", np_beta)\n",
    "print(float(residuals), np_res)"
   ]
  },
  {
   "cell_type": "code",
   "execution_count": null,
   "metadata": {},
   "outputs": [],
   "source": [
    "# multiple models\n",
    "def lm_mult(X, Y, bias=True):\n",
    "    \"Fast linear regression\"\n",
    "    Y = Y[:,None]\n",
    "    if bias:\n",
    "        X = T.cat((X,T.ones(X.shape[0],1)),1)\n",
    "    res = T.matmul(T.inverse(T.matmul(X.t(),X)), X.t())\n",
    "    beta = T.matmul(res, Y)\n",
    "    residuals = ((Y-T.matmul(X,beta))**2).sum()\n",
    "    return beta, residuals\n",
    "\n",
    "x = T.rand(20,5)\n",
    "y = T.rand(20)\n",
    "A = np.hstack([x.numpy(), np.ones([20,1])])\n",
    "# beta, residuals = lm(x, y)\n",
    "np_beta, np_res = np.linalg.lstsq(A, y, rcond=None)[0:2]\n",
    "print(beta[:,0].numpy(),\"\\n\", np_beta)\n",
    "print(float(residuals), np_res)"
   ]
  },
  {
   "cell_type": "code",
   "execution_count": null,
   "metadata": {},
   "outputs": [],
   "source": [
    "T.version.cuda"
   ]
  },
  {
   "cell_type": "code",
   "execution_count": null,
   "metadata": {},
   "outputs": [],
   "source": [
    "np_beta.shape"
   ]
  },
  {
   "cell_type": "code",
   "execution_count": null,
   "metadata": {},
   "outputs": [],
   "source": [
    "x = T.rand(2,10,10)\n",
    "y = T.rand(2,10,1)\n",
    "beta, _ = T.gesv(y,x)\n",
    "residuals = T.matmul(x,beta)[:,:,0].sum(1)\n",
    "print(residuals.shape)\n",
    "np_beta, np_res = np.linalg.lstsq(x[0], y[0], rcond=None)[0:2]\n",
    "print(beta[0,:,0].numpy(),\"\\n\", np_beta[:,0])\n",
    "print(float(residuals[0]), np_res)"
   ]
  },
  {
   "cell_type": "code",
   "execution_count": null,
   "metadata": {},
   "outputs": [],
   "source": [
    "np_res"
   ]
  },
  {
   "cell_type": "code",
   "execution_count": null,
   "metadata": {},
   "outputs": [],
   "source": []
  },
  {
   "cell_type": "code",
   "execution_count": null,
   "metadata": {},
   "outputs": [],
   "source": [
    "T.inverse(x)"
   ]
  },
  {
   "cell_type": "code",
   "execution_count": null,
   "metadata": {},
   "outputs": [],
   "source": [
    "x = T.rand(2800,2)\n",
    "y = T.rand(2800)\n",
    "A = np.hstack([x.numpy(), np.ones([len(x),1])])"
   ]
  },
  {
   "cell_type": "code",
   "execution_count": null,
   "metadata": {},
   "outputs": [],
   "source": [
    "5000**2/1000/60"
   ]
  },
  {
   "cell_type": "code",
   "execution_count": null,
   "metadata": {},
   "outputs": [],
   "source": [
    "%%timeit\n",
    "np_beta, np_res = np.linalg.lstsq(A, y, rcond=None)[0:2]"
   ]
  },
  {
   "cell_type": "code",
   "execution_count": null,
   "metadata": {},
   "outputs": [],
   "source": [
    "y.shape"
   ]
  },
  {
   "cell_type": "code",
   "execution_count": null,
   "metadata": {},
   "outputs": [],
   "source": [
    "(T.mm(T.from_numpy(A.astype(np.float32)),beta)).shape"
   ]
  },
  {
   "cell_type": "code",
   "execution_count": null,
   "metadata": {},
   "outputs": [],
   "source": []
  },
  {
   "cell_type": "code",
   "execution_count": null,
   "metadata": {},
   "outputs": [],
   "source": [
    "beta"
   ]
  },
  {
   "cell_type": "code",
   "execution_count": null,
   "metadata": {},
   "outputs": [],
   "source": [
    "np_beta"
   ]
  },
  {
   "cell_type": "code",
   "execution_count": null,
   "metadata": {},
   "outputs": [],
   "source": [
    "residuals"
   ]
  },
  {
   "cell_type": "code",
   "execution_count": null,
   "metadata": {},
   "outputs": [],
   "source": [
    "np_res"
   ]
  },
  {
   "cell_type": "code",
   "execution_count": null,
   "metadata": {},
   "outputs": [],
   "source": [
    "plt.matshow(A)"
   ]
  },
  {
   "cell_type": "code",
   "execution_count": null,
   "metadata": {},
   "outputs": [],
   "source": [
    "A.shape"
   ]
  },
  {
   "cell_type": "code",
   "execution_count": null,
   "metadata": {},
   "outputs": [],
   "source": [
    "x = T.rand(10,10)\n",
    "plt.matshow(torch.mm(torch.inverse(x), x))"
   ]
  },
  {
   "cell_type": "code",
   "execution_count": null,
   "metadata": {},
   "outputs": [],
   "source": [
    "G = granger(X,Y)"
   ]
  },
  {
   "cell_type": "code",
   "execution_count": null,
   "metadata": {},
   "outputs": [],
   "source": [
    "plt.hist(G.cpu().numpy()[:])"
   ]
  },
  {
   "cell_type": "code",
   "execution_count": null,
   "metadata": {},
   "outputs": [],
   "source": [
    "plt.imshow(G)"
   ]
  },
  {
   "cell_type": "code",
   "execution_count": 121,
   "metadata": {},
   "outputs": [],
   "source": [
    "import gc\n",
    "\n",
    "gc.collect()\n",
    "\n",
    "T.cuda.empty_cache()"
   ]
  },
  {
   "cell_type": "code",
   "execution_count": null,
   "metadata": {},
   "outputs": [],
   "source": [
    "def cm_cycle(i):\n",
    "    i = i - 1\n",
    "    cmap = plt.get_cmap(\"tab10\")\n",
    "    color = cmap(i%10)\n",
    "    if i%10==7:\n",
    "        color = (color[0],color[1],color[2]+0.4)\n",
    "    return color"
   ]
  },
  {
   "cell_type": "code",
   "execution_count": null,
   "metadata": {},
   "outputs": [],
   "source": [
    "row_corr = corrcoef(G).cpu().numpy()\n",
    "\n",
    "row_linkage = hierarchy.linkage(\n",
    "    distance.pdist(row_corr), method='ward')"
   ]
  },
  {
   "cell_type": "code",
   "execution_count": null,
   "metadata": {},
   "outputs": [],
   "source": [
    "col_corr = corrcoef(G.t().detach()).cpu().numpy()\n",
    "col_linkage = hierarchy.linkage(\n",
    "    distance.pdist(col_corr.T), method='ward')"
   ]
  },
  {
   "cell_type": "code",
   "execution_count": null,
   "metadata": {},
   "outputs": [],
   "source": [
    "g_nclust = 10\n",
    "row_clusters = hierarchy.fcluster(row_linkage,g_nclust,criterion='maxclust')\n",
    "col_clusters = hierarchy.fcluster(col_linkage,g_nclust,criterion='maxclust')"
   ]
  },
  {
   "cell_type": "code",
   "execution_count": null,
   "metadata": {},
   "outputs": [],
   "source": [
    "vmax = max(np.abs(np.percentile(G,0.01)), np.abs(np.percentile(G,0.99)))"
   ]
  },
  {
   "cell_type": "code",
   "execution_count": null,
   "metadata": {},
   "outputs": [],
   "source": [
    "cm = sb.clustermap(G.cpu().numpy(), row_linkage=row_linkage, row_colors=[cm_cycle(c) for c in row_clusters],\n",
    "        col_linkage=col_linkage, col_colors=[cm_cycle(c) for c in col_clusters],\n",
    "        figsize=(20, 20),cmap=\"RdBu_r\", vmin=-vmax,vmax=vmax)"
   ]
  },
  {
   "cell_type": "code",
   "execution_count": null,
   "metadata": {},
   "outputs": [],
   "source": [
    "Z = [0,2,4,6,8,10]\n",
    "# Z = [4]\n",
    "nZ = len(Z)\n",
    "back_img = []\n",
    "for z in Z:\n",
    "    back_img.append(np.power(f.get_tif_rasl_as_vol(z,range(1,200)).mean(axis=2),.4))\n",
    "    "
   ]
  },
  {
   "cell_type": "code",
   "execution_count": null,
   "metadata": {},
   "outputs": [],
   "source": [
    "# nrows = len(row_clust_to_plot)\n",
    "# nZ = 1\n",
    "nrows = g_nclust\n",
    "plt.subplots(nrows,nZ, figsize=[8*nZ,4*nrows])\n",
    "for ic, clust in enumerate(range(1, g_nclust+1)):\n",
    "# for ic,clust in enumerate(row_clust_to_plot):\n",
    "    for iz, z in enumerate(Z):\n",
    "        #Select rois in raphe in this slices, and get their coordinates.\n",
    "#         coords = df[(row_clusters==clust)].coords\n",
    "        coords = df[(row_clusters==clust) & (df.z==z)].coords\n",
    "#         poly_coords = df[(row_clusters==clust) & (df.z==z)].poly\n",
    "#         poly_coords = df[(row_clusters==clust)].poly\n",
    "#         coords = [np.round(poly[~np.isnan(poly).any(axis=1)])[:,(1,0)].astype(int) for poly in poly_coords]\n",
    "        plt.subplot(nrows,nZ,ic*nZ+iz+1)\n",
    "        #Overlay the ROIs on the background image and display:\n",
    "        # hack iz hardcode\n",
    "        img = vizutil.overlay_coords(back_img[iz], coords, list(cm_cycle(clust)[:3]), alpha=1)\n",
    "        plt.imshow(img,interpolation='nearest')\n",
    "        plt.title(\"Row cluster {}, z={}\".format(clust,z),fontsize=18)"
   ]
  },
  {
   "cell_type": "code",
   "execution_count": null,
   "metadata": {},
   "outputs": [],
   "source": [
    "# nrows = len(col_clust_to_plot)\n",
    "plt.subplots(nrows,nZ, figsize=[8*nZ,4*nrows])\n",
    "for ic,clust in enumerate(range(1,g_nclust+1)):\n",
    "# for ic,clust in enumerate(col_clust_to_plot):\n",
    "    for iz, z in enumerate(Z):\n",
    "        #Select rois in raphe in this slices, and get their coordinates.\n",
    "        coords = df[(col_clusters==clust) & (df.z==z)].coords\n",
    "#         poly_coords = df[(row_clusters==clust) & (df.z==z)].poly\n",
    "#         coords = df[(col_clusters==clust)].coords\n",
    "#         poly_coords = df[(col_clusters==clust)].poly\n",
    "#         coords = [np.round(poly[~np.isnan(poly).any(axis=1)])[:,(1,0)].astype(int) for poly in poly_coords]\n",
    "        plt.subplot(nrows,nZ,ic*nZ+iz+1)\n",
    "        #Overlay the ROIs on the background image and display:\n",
    "        img = vizutil.overlay_coords(back_img[iz], coords, list(cm_cycle(clust)[:3]), alpha=1)\n",
    "        plt.imshow(img,interpolation='nearest')\n",
    "        plt.title(\"Col cluster {}, z={}\".format(clust,z),fontsize=18)"
   ]
  },
  {
   "cell_type": "code",
   "execution_count": null,
   "metadata": {},
   "outputs": [],
   "source": [
    "s = 0\n",
    "e = 440\n",
    "fig, ax = plt.subplots(1,2, figsize=(5,100))\n",
    "ax[0].imshow(X[slice(*idx_permute(s,e,exclude_idx))].T)\n",
    "ax[1].imshow(x_fish[s:e].T)"
   ]
  },
  {
   "cell_type": "code",
   "execution_count": null,
   "metadata": {},
   "outputs": [],
   "source": [
    "colidx = col_clusters==34\n",
    "rowidx = row_clusters==7\n",
    "plt.matshow(G[rowidx][:,colidx],vmin=-0.1,vmax=0.1)\n",
    "plt.colorbar()"
   ]
  },
  {
   "cell_type": "code",
   "execution_count": null,
   "metadata": {},
   "outputs": [],
   "source": [
    "ind = slice(*idx_permute(2400,2800, exclude_idx))\n",
    "# ind = slice(*idx_permute(0,400, exclude_idx))"
   ]
  },
  {
   "cell_type": "code",
   "execution_count": null,
   "metadata": {},
   "outputs": [],
   "source": [
    "# model = Granger(len(neuron_ids),1,bias=False)\n",
    "model = Granger(X.shape[1],1,bias=False)\n",
    "G = model.G.data[0].detach().cpu().numpy()\n",
    "# trunc_fish = x_fish[0:400]\n",
    "# trunc_fish = x_fish[440:840]\n",
    "# trunc_fish = x_fish[840:1240]\n",
    "# trunc_fish = x_fish[1240:1640]\n",
    "# trunc_fish = x_fish[1640:2040]\n",
    "# trunc_fish = x_fish[1640:2440]\n",
    "# trunc_fish = x_fish[640:840]\n",
    "# trunc_fish = x_fish[2400:2800]\n",
    "# trunc_fish = x_fish[2600:2800]\n",
    "# trunc_fish = x_fish\n",
    "# data = T.utils.data.TensorDataset(T.from_numpy(X[ind,None,neuron_ids]).cuda(),\n",
    "#                                   T.from_numpy(Y[ind,neuron_ids]).cuda())\n",
    "data = T.utils.data.TensorDataset(T.from_numpy(X[ind,None]).cuda(),\n",
    "                                  T.from_numpy(Y[ind]).cuda())\n",
    "l1 = 5e-6\n",
    "# train(model,data,10,l1=l1,batch_size=4) # max(bz)==4 for all neurons\n",
    "train(model,data,3,l1p=1e-0,lr=1e-1,batch_size=1,verbose=False)\n",
    "train(model,data,15,l1p=5e-2,lr=1e-3,batch_size=1,verbose=False)\n",
    "G = model.G.data[0].detach().cpu().numpy()"
   ]
  }
 ],
 "metadata": {
  "kernelspec": {
   "display_name": "Environment (conda_tensorflow_p27)",
   "language": "python",
   "name": "conda_tensorflow_p27"
  },
  "language_info": {
   "codemirror_mode": {
    "name": "ipython",
    "version": 2
   },
   "file_extension": ".py",
   "mimetype": "text/x-python",
   "name": "python",
   "nbconvert_exporter": "python",
   "pygments_lexer": "ipython2",
   "version": "2.7.14"
  }
 },
 "nbformat": 4,
 "nbformat_minor": 2
}
