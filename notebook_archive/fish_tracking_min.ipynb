{
 "cells": [
  {
   "cell_type": "code",
   "execution_count": null,
   "metadata": {},
   "outputs": [],
   "source": [
    "%matplotlib inline\n",
    "import matplotlib.pyplot as plt\n",
    "import numpy as np\n",
    "import skimage as sk\n",
    "import skimage.io\n",
    "import skvideo\n",
    "import skvideo.io\n",
    "import torch\n",
    "import torch as T\n",
    "import scipy\n",
    "from torch.autograd import Variable\n",
    "import torch.nn.functional as F\n",
    "from torch.autograd import Variable\n",
    "from sklearn.preprocessing import normalize\n",
    "import torchvision as tv\n",
    "from tqdm import tqdm\n",
    "from skimage.restoration import (denoise_tv_chambolle, denoise_bilateral,\n",
    "                                 denoise_wavelet, estimate_sigma)\n",
    "import skimage.transform\n",
    "from importlib import reload\n",
    "import fish_track as ft"
   ]
  },
  {
   "cell_type": "code",
   "execution_count": null,
   "metadata": {},
   "outputs": [],
   "source": [
    "reload(ft)"
   ]
  },
  {
   "cell_type": "code",
   "execution_count": null,
   "metadata": {},
   "outputs": [],
   "source": [
    "directory = \"/home/ubuntu/\"\n",
    "# filename = \"20180410_1.mp4\"\n",
    "filename = \"20180109_2.mp4\"\n",
    "vid_file = directory+filename"
   ]
  },
  {
   "cell_type": "code",
   "execution_count": null,
   "metadata": {},
   "outputs": [],
   "source": [
    "firstFrame = ft.get_first_frame(vid_file)\n",
    "frames = ft.get_n_frames(vid_file)"
   ]
  },
  {
   "cell_type": "markdown",
   "metadata": {},
   "source": [
    "plt.imshow(firstFrame)"
   ]
  },
  {
   "cell_type": "raw",
   "metadata": {},
   "source": [
    "# find a good frame for ROI\n",
    "plt.imshow(frames[11])"
   ]
  },
  {
   "cell_type": "markdown",
   "metadata": {},
   "source": [
    "# ROI selection"
   ]
  },
  {
   "cell_type": "code",
   "execution_count": null,
   "metadata": {},
   "outputs": [],
   "source": [
    "pad = 30\n",
    "maxThreshold = 30\n",
    "minThreshold = 7\n",
    "\n",
    "frame = np.full([pad*2+firstFrame.shape[0],pad*2+firstFrame.shape[1]], 1)\n",
    "frame[pad:-pad,pad:-pad] = denoise_tv_chambolle(frames[11,:,:,0]).copy()*255\n",
    "frame[frame>maxThreshold] = maxThreshold\n",
    "frame[frame<minThreshold] = 0\n",
    "# plt.imshow(frame)\n",
    "# plt.colorbar()\n",
    "\n",
    "fishCenter = (pad+235,pad+190)\n",
    "pad = 200\n",
    "\n",
    "fishROI = ft.selectROI(frame,fishCenter, pad)\n",
    "\n",
    "# fishROI = normalize(fishROI, norm='l2')\n",
    "fishROI = fishROI - fishROI.mean()\n",
    "# fishROI = (fishROI - fishROI.mean())/fishROI.std()\n",
    "# fishROI = fishROI - fishROI.sum()/len(fishROI)\n",
    "fishROI = fishROI.astype(np.float32)\n",
    "\n",
    "fishROI[pad,pad] = np.max(fishROI)*2\n",
    "plt.imshow(fishROI)\n",
    "plt.colorbar()\n",
    "imageW, imageH = firstFrame.shape[:-1]"
   ]
  },
  {
   "cell_type": "code",
   "execution_count": null,
   "metadata": {},
   "outputs": [],
   "source": [
    "dtype = np.float32\n",
    "filters = ft.ROI_to_filters(frame, fishCenter, pad, imageW, imageH, 16,dtype=dtype)\n",
    "filters_fft = ft.ROI_to_filters(frame, fishCenter, pad, imageW, imageH, 16, fft=True)"
   ]
  },
  {
   "cell_type": "raw",
   "metadata": {},
   "source": [
    "nrow = 6\n",
    "ncol = 6\n",
    "plt.subplots(nrow,ncol,figsize=(12,12))\n",
    "for i in range(filters.shape[0]):\n",
    "    plt.subplot(nrow,ncol,1+i)\n",
    "    plt.imshow(filters[i].cpu().numpy().astype(np.float32))"
   ]
  },
  {
   "cell_type": "code",
   "execution_count": null,
   "metadata": {},
   "outputs": [],
   "source": [
    "def viz_find_position(img, filters, fft=False,dtype=np.float32):\n",
    "    nrow = int(np.ceil(np.sqrt(filters.shape[0])))\n",
    "    ncol = nrow\n",
    "    plt.imshow(img)\n",
    "    if fft:\n",
    "        hm = ft.heatmap_fft(img[:,:,0].astype(dtype),filters)\n",
    "    else:\n",
    "        hm = ft.heatmap(img[:,:,0].astype(dtype),filters)\n",
    "    print(\"Best: filter={}, x={}, y={}\".format(*np.unravel_index(np.argmax(hm),hm.shape)))\n",
    "    plt.subplots(nrow,ncol,figsize=(15,15))\n",
    "    for i in range(hm.shape[0]):\n",
    "        plt.subplot(nrow,ncol,1+i)\n",
    "        h = hm[i].cpu().numpy().astype(np.float32)\n",
    "        m = np.unravel_index(np.argmax(h),h.shape)\n",
    "        image = ft.drawROI(ft.scale_range(h[:,:,None],0,1).repeat(3,2),m[0],m[1],7,80,5,use_float=True)\n",
    "        plt.imshow(image)\n",
    "        plt.title(\"filter {}\".format(i))\n",
    "\n",
    "    plt.subplots(nrow,ncol,figsize=(12,12))\n",
    "    for i in range(hm.shape[0]):\n",
    "        plt.subplot(nrow,ncol,1+i)\n",
    "        f = filters[i].cpu().numpy().astype(np.float32)\n",
    "        if fft:\n",
    "            f = f[:,:,0]\n",
    "        plt.imshow(f)\n",
    "        plt.title(\"filter {}\".format(i))\n",
    "\n",
    "# viz_find_position(frames[7], filters)"
   ]
  },
  {
   "cell_type": "code",
   "execution_count": null,
   "metadata": {},
   "outputs": [],
   "source": [
    "f = frames[7]\n",
    "img = f[:,:,0].astype(dtype)"
   ]
  },
  {
   "cell_type": "raw",
   "metadata": {},
   "source": [
    "pos = ft.find_position(img,filters)\n",
    "plt.figure(figsize=(17,17))\n",
    "plt.imshow(ft.drawROI(frames[7],*pos,2,90,1))"
   ]
  },
  {
   "cell_type": "raw",
   "metadata": {},
   "source": [
    "ft.write_video(filters, vid_file, directory + \"track_close_32filters_\" + filename,nframes=1e4,nskip=1e1)"
   ]
  },
  {
   "cell_type": "markdown",
   "metadata": {},
   "source": [
    "# FFT conv validation (failing)"
   ]
  },
  {
   "cell_type": "code",
   "execution_count": null,
   "metadata": {},
   "outputs": [],
   "source": [
    "plt.imshow(ft.heatmap(img, filters).cpu().numpy()[0].astype(np.float32))\n",
    "plt.colorbar()"
   ]
  },
  {
   "cell_type": "code",
   "execution_count": null,
   "metadata": {},
   "outputs": [],
   "source": [
    "plt.imshow(scipy.signal.fftconvolve(img.astype(np.float32),filters[0],mode='same'))"
   ]
  },
  {
   "cell_type": "code",
   "execution_count": null,
   "metadata": {},
   "outputs": [],
   "source": [
    "int(filters.shape[1]/2)"
   ]
  },
  {
   "cell_type": "code",
   "execution_count": null,
   "metadata": {},
   "outputs": [],
   "source": [
    "start = int(filters.shape[1]/2)\n",
    "i_end = start+img.shape[0]\n",
    "j_end = start+img.shape[1]\n",
    "plt.imshow(ft.heatmap_fft(image, filters_fft)[0,start:i_end,start:j_end])\n",
    "plt.colorbar()"
   ]
  },
  {
   "cell_type": "code",
   "execution_count": null,
   "metadata": {},
   "outputs": [],
   "source": [
    "def selectROI(img,center,pad):\n",
    "    return img[center[0]-pad:center[0]+pad,center[1]-pad:center[1]+pad]\n",
    "\n",
    "def rotateImage(img, angle, pivot):\n",
    "    padX = [img.shape[1] - pivot[1], pivot[1]]\n",
    "    padY = [img.shape[0] - pivot[0], pivot[0]]\n",
    "    imgP = np.pad(img, [padY, padX], 'constant')\n",
    "    imgR = scipy.ndimage.rotate(imgP, angle, reshape=False)\n",
    "    return imgR[padY[0] : -padY[1], padX[0] : -padX[1]]\n",
    "\n",
    "def ROI_to_filters(img, center, pad, imageW, imageH, nfilters=8, fft=False, dtype=np.float32):\n",
    "    filter_size = 2*pad\n",
    "    # we will use the center of the img plus a pad to create rotationally invariant filters\n",
    "    filters = np.zeros([nfilters,filter_size,filter_size]).astype(np.float64)\n",
    "    norm = (img - img.mean()).astype(np.float64) # subtract mean\n",
    "    for i in range(nfilters):\n",
    "        # rotate the image first around the provided pivot\n",
    "        rot = rotateImage(norm, i * 360 / nfilters, center)\n",
    "        # select the ROI for the filter\n",
    "        filters[i] = rot[center[0]-pad:center[0]+pad,center[1]-pad:center[1]+pad]\n",
    "        \n",
    "    if fft:\n",
    "        complex_filters = T.cuda.FloatTensor(nfilters,imageW*2-1, imageH*2-1, 2).zero_()\n",
    "        complex_filters[:,0:filter_size,0:filter_size,0] = T.from_numpy(filters)\n",
    "        return T.fft(complex_filters,2)\n",
    "    else:\n",
    "        return T.from_numpy(filters.astype(dtype)).cuda()\n",
    "    \n",
    "filters_fft = ROI_to_filters(frame, fishCenter, pad, imageW, imageH, 16, fft=True)"
   ]
  },
  {
   "cell_type": "code",
   "execution_count": null,
   "metadata": {},
   "outputs": [],
   "source": [
    "image = np.zeros(np.array(img.shape)*2-1)\n",
    "image[0:img.shape[0],0:img.shape[1]] = img"
   ]
  },
  {
   "cell_type": "code",
   "execution_count": null,
   "metadata": {},
   "outputs": [],
   "source": [
    "plt.imshow(ft.heatmap_fft(image, filters_fft)[0])\n",
    "plt.colorbar()"
   ]
  },
  {
   "cell_type": "code",
   "execution_count": null,
   "metadata": {},
   "outputs": [],
   "source": [
    "t_conv = ft.heatmap(img, filters).cpu().numpy()[0].astype(np.float32)"
   ]
  },
  {
   "cell_type": "code",
   "execution_count": null,
   "metadata": {},
   "outputs": [],
   "source": []
  },
  {
   "cell_type": "markdown",
   "metadata": {},
   "source": [
    "viz_find_position(frames[7], filters)"
   ]
  },
  {
   "cell_type": "code",
   "execution_count": null,
   "metadata": {},
   "outputs": [],
   "source": [
    "reload(ft)"
   ]
  },
  {
   "cell_type": "markdown",
   "metadata": {},
   "source": [
    "viz_find_position(frames[7], filters_fft, fft=True)"
   ]
  },
  {
   "cell_type": "markdown",
   "metadata": {},
   "source": [
    "# Benchmarking"
   ]
  },
  {
   "cell_type": "code",
   "execution_count": null,
   "metadata": {},
   "outputs": [],
   "source": [
    "%%timeit -r 3 -n 3\n",
    "pos = heatmap_fft(img,filters_fft,shape)"
   ]
  },
  {
   "cell_type": "code",
   "execution_count": null,
   "metadata": {},
   "outputs": [],
   "source": [
    "%%timeit -r 3 -n 3\n",
    "# for some reason, pytorch argmax is performing very slowly.\n",
    "pos = find_position_fft(img,filters_fft,shape)"
   ]
  },
  {
   "cell_type": "code",
   "execution_count": null,
   "metadata": {},
   "outputs": [],
   "source": [
    "%%timeit -r 3 -n 3\n",
    "# numpy's argmax is performing much better, but this is suboptimal\n",
    "# as must transfer entire image back to CPU\n",
    "pos = find_position_fft_np_argmax(img,filters_fft,shape)"
   ]
  },
  {
   "cell_type": "code",
   "execution_count": null,
   "metadata": {},
   "outputs": [],
   "source": [
    "%%timeit -r 3 -n 3\n",
    "pos = heatmap(img,filters,shape)"
   ]
  },
  {
   "cell_type": "code",
   "execution_count": null,
   "metadata": {},
   "outputs": [],
   "source": [
    "%%timeit -r 3 -n 3\n",
    "pos = find_position(img,filters)"
   ]
  },
  {
   "cell_type": "code",
   "execution_count": null,
   "metadata": {},
   "outputs": [],
   "source": [
    "%%timeit -r 3 -n 3\n",
    "pos = find_position_threshold(img,filters)"
   ]
  },
  {
   "cell_type": "code",
   "execution_count": null,
   "metadata": {},
   "outputs": [],
   "source": [
    "np.array(img.shape)/2"
   ]
  },
  {
   "cell_type": "code",
   "execution_count": null,
   "metadata": {},
   "outputs": [],
   "source": [
    "%%timeit -r 3 -n 3\n",
    "F.avg_pool2d(T.from_numpy(img[None]),2)"
   ]
  },
  {
   "cell_type": "code",
   "execution_count": null,
   "metadata": {},
   "outputs": [],
   "source": []
  }
 ],
 "metadata": {
  "kernelspec": {
   "display_name": "Environment (conda_pytorch_p36)",
   "language": "python",
   "name": "conda_pytorch_p36"
  },
  "language_info": {
   "codemirror_mode": {
    "name": "ipython",
    "version": 3
   },
   "file_extension": ".py",
   "mimetype": "text/x-python",
   "name": "python",
   "nbconvert_exporter": "python",
   "pygments_lexer": "ipython3",
   "version": "3.6.5"
  }
 },
 "nbformat": 4,
 "nbformat_minor": 2
}
