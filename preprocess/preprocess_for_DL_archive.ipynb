{
 "cells": [
  {
   "cell_type": "code",
   "execution_count": null,
   "metadata": {},
   "outputs": [],
   "source": [
    "import numpy as np\n",
    "from tifffile import imread\n",
    "from glob import glob\n",
    "import re\n",
    "import nrrd\n",
    "import tifffile\n",
    "import os\n",
    "import matplotlib.pyplot as plt\n",
    "import sys\n",
    "sys.path.insert(1, os.path.join(sys.path[0], '..'))\n",
    "from deepfish.helpers import get_frames_from_z, get_imaging_from_fish, gen_imaging, resize_volume, resize_batch, read_cnmf, no_overlap_idx, train_valid_test_split, train_test_split, pad_imaging"
   ]
  },
  {
   "cell_type": "code",
   "execution_count": null,
   "metadata": {},
   "outputs": [],
   "source": [
    "directory = \"/data2/Data/f10542/\"\n",
    "# fname = \"f10542_postfix_gad-405_vglut-647.ome.btf\"\n",
    "# file_path = \"/home/tyler/Dropbox/data/20181127/f10542/f10542_postfix_gcamp.ome.btf\"\n",
    "# file_path = \"/home/tyler/Dropbox/data/20181127/f10542/f10542_alive_isosbestic_gcamp_0004.ome.btf\"\n",
    "# file_path = directory + fname\n",
    "\n",
    "get_num = re.compile(\".*_zplane=(\\d*).*\\.mmap\")\n",
    "get_z = lambda x: int(get_num.search(x).group(1))\n",
    "planes = glob(directory + \"f10542_zplane=*_els_*.mmap\")\n",
    "planes = sorted(planes, key=lambda a: get_z(a))\n",
    "nZ = len(planes)\n",
    "print(f\"Number of planes: {nZ}\")"
   ]
  },
  {
   "cell_type": "code",
   "execution_count": null,
   "metadata": {},
   "outputs": [],
   "source": [
    "def prepare_shape(mytuple):\n",
    "    \"\"\" This promotes the elements inside a shape into np.uint64. It is intended to prevent overflows\n",
    "        with some numpy operations that are sensitive to it, e.g. np.memmap \"\"\"\n",
    "    if not isinstance(mytuple, tuple):\n",
    "        raise Exception(\"Internal error: prepare_shape() passed a non-tuple\")\n",
    "    return tuple(map(lambda x: np.uint64(x), mytuple))\n",
    "\n",
    "# from Caiman\n",
    "def load_memmap(filename, mode='r'):\n",
    "    \"\"\" Load a memory mapped file created by the function save_memmap\n",
    "    Args:\n",
    "        filename: str\n",
    "            path of the file to be loaded\n",
    "        mode: str\n",
    "            One of 'r', 'r+', 'w+'. How to interact with files\n",
    "    Returns:\n",
    "        Yr:\n",
    "            memory mapped variable\n",
    "        dims: tuple\n",
    "            frame dimensions\n",
    "        T: int\n",
    "            number of frames\n",
    "    Raises:\n",
    "        Exception \"Unknown file extension\"\n",
    "    \"\"\"\n",
    "    if ('.mmap' in filename):\n",
    "        # Strip path components and use CAIMAN_DATA/example_movies\n",
    "        # TODO: Eventually get the code to save these in a different dir\n",
    "        file_to_load = filename\n",
    "        filename = os.path.split(filename)[-1]\n",
    "        fpart = filename.split('_')[1:-1] # The filename encodes the structure of the map\n",
    "        d1, d2, d3, T, order = int(fpart[-9]), int(fpart[-7]\n",
    "                                                   ), int(fpart[-5]), int(fpart[-1]), fpart[-3]\n",
    "        Yr = np.memmap(file_to_load, mode=mode, shape=prepare_shape((\n",
    "            d1 * d2 * d3, T)), dtype=np.float32, order=order)\n",
    "        return (Yr, (d1, d2), T) if d3 == 1 else (Yr, (d1, d2, d3), T)\n",
    "    else:\n",
    "        logging.error(\"Unknown extension for file \" + str(filename))\n",
    "        raise Exception('Unknown file extension (should be .mmap)')"
   ]
  },
  {
   "cell_type": "code",
   "execution_count": null,
   "metadata": {},
   "outputs": [],
   "source": [
    "small_images = None\n",
    "for z,pfile in enumerate(planes):\n",
    "    pfile = planes[z]\n",
    "    Yr, dims, T = load_memmap(pfile)\n",
    "    plane = np.reshape(Yr.T, [T] + list(dims), order='F')\n",
    "    small_plane = resize_volume(plane, 0.5, 0.5)\n",
    "    if small_images is None:\n",
    "        # T x H x W\n",
    "        shape = small_plane.shape\n",
    "        small_images = np.zeros([shape[0],nZ,*shape[1:]])\n",
    "\n",
    "    small_images[:,z] = small_plane"
   ]
  },
  {
   "cell_type": "code",
   "execution_count": null,
   "metadata": {},
   "outputs": [],
   "source": [
    "small_images.shape"
   ]
  },
  {
   "cell_type": "code",
   "execution_count": null,
   "metadata": {},
   "outputs": [],
   "source": [
    "np.save(directory+\"small_motion_corrected_images.npy\", small_images)"
   ]
  },
  {
   "cell_type": "code",
   "execution_count": null,
   "metadata": {},
   "outputs": [],
   "source": [
    "print(directory+\"small_motion_corrected_images.npy\")"
   ]
  },
  {
   "cell_type": "code",
   "execution_count": null,
   "metadata": {},
   "outputs": [],
   "source": [
    "plt.imshow(small_images[110,0])"
   ]
  },
  {
   "cell_type": "code",
   "execution_count": null,
   "metadata": {},
   "outputs": [],
   "source": [
    "plt.imshow(small_images[110,5])"
   ]
  },
  {
   "cell_type": "code",
   "execution_count": null,
   "metadata": {},
   "outputs": [],
   "source": [
    "plt.imshow(small_images[110,10])"
   ]
  },
  {
   "cell_type": "code",
   "execution_count": null,
   "metadata": {},
   "outputs": [],
   "source": [
    "plt.imshow(images[109])"
   ]
  },
  {
   "cell_type": "code",
   "execution_count": null,
   "metadata": {},
   "outputs": [],
   "source": [
    "# directory, fname = os.path.split(file_path)\n",
    "name, ext = os.path.splitext(file_path)\n",
    "name, ext2 = os.path.splitext(name)\n",
    "ext = ext + ext2\n",
    "tiff = tifffile.imread(file_path,)\n",
    "\n",
    "# Z x T? x C? x X x Y\n",
    "# where ? is optional and T is retakes (\"time\") and C is channel eg gad or vglut\n",
    "tiff.shape"
   ]
  },
  {
   "cell_type": "code",
   "execution_count": null,
   "metadata": {},
   "outputs": [],
   "source": [
    "alive, header = nrrd.read(directory+\"f10542_alive_isosbestic_gcamp_0004.nrrd\")"
   ]
  }
 ],
 "metadata": {
  "kernelspec": {
   "display_name": "Environment (conda_pytorch_p36)",
   "language": "python",
   "name": "conda_pytorch_p36"
  },
  "language_info": {
   "codemirror_mode": {
    "name": "ipython",
    "version": 3
   },
   "file_extension": ".py",
   "mimetype": "text/x-python",
   "name": "python",
   "nbconvert_exporter": "python",
   "pygments_lexer": "ipython3",
   "version": "3.6.8"
  }
 },
 "nbformat": 4,
 "nbformat_minor": 2
}
